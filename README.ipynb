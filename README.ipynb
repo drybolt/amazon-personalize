{
 "cells": [
  {
   "cell_type": "markdown",
   "metadata": {},
   "source": [
    "여기서는 Amazon Personalize 의 기술적인 내용을 정리합니다.\n",
    "\n",
    "---\n",
    "참고:\n",
    "- Amazon Personalize Developer Guide\n",
    "    - 공식 개발 문서 가이드 입니다.\n",
    "    - https://docs.aws.amazon.com/personalize/latest/dg/what-is-personalize.html\n",
    "\n",
    "\n",
    "- Amazon Personalize Samples\n",
    "    - 공식 에제 Git 저장소 입니다.\n",
    "    - https://github.com/aws-samples/amazon-personalize-samples\n",
    "\n",
    "\n",
    "- Recent Blog: Amazon Personalize can now create up to 50% better recommendations for fast changing catalogs of new products and fresh content    \n",
    "    - 최신 나온 user-personalization 블로그 입니다. 뉴스 기사 같은 상품처럼 시간이 지나면 급속하게 인기가 떨어지는 대한 사례로 사용하기 좋습니다.\n",
    "    - https://aws.amazon.com/blogs/machine-learning/amazon-personalize-can-now-create-up-to-50-better-recommendations-for-fast-changing-catalogs-of-new-products-and-fresh-content/"
   ]
  },
  {
   "cell_type": "code",
   "execution_count": null,
   "metadata": {},
   "outputs": [],
   "source": []
  }
 ],
 "metadata": {
  "kernelspec": {
   "display_name": "conda_python3",
   "language": "python",
   "name": "conda_python3"
  },
  "language_info": {
   "codemirror_mode": {
    "name": "ipython",
    "version": 3
   },
   "file_extension": ".py",
   "mimetype": "text/x-python",
   "name": "python",
   "nbconvert_exporter": "python",
   "pygments_lexer": "ipython3",
   "version": "3.6.10"
  }
 },
 "nbformat": 4,
 "nbformat_minor": 4
}

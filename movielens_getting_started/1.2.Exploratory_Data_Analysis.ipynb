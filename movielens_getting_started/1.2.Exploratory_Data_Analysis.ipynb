{
 "cells": [
  {
   "cell_type": "markdown",
   "metadata": {},
   "source": [
    "# [Module 1.2] 데이터 탐색 \n",
    "\n",
    "\n",
    "이 노트북을 모두 실행하는데 걸리는 시간은 약 20 ~ 30 분 소요 됩니다.\n",
    "\n"
   ]
  },
  {
   "cell_type": "code",
   "execution_count": 1,
   "metadata": {},
   "outputs": [],
   "source": [
    "import boto3\n",
    "import json\n",
    "import numpy as np\n",
    "import pandas as pd\n",
    "import time\n",
    "from datetime import datetime\n",
    "\n",
    "import matplotlib.pyplot as plt"
   ]
  },
  {
   "cell_type": "code",
   "execution_count": 9,
   "metadata": {},
   "outputs": [],
   "source": [
    "%store -r"
   ]
  },
  {
   "cell_type": "markdown",
   "metadata": {},
   "source": [
    "## 데이타 셋 로딩"
   ]
  },
  {
   "cell_type": "markdown",
   "metadata": {},
   "source": [
    "df_warm_train 로딩"
   ]
  },
  {
   "cell_type": "code",
   "execution_count": 14,
   "metadata": {},
   "outputs": [],
   "source": [
    "pd.options.display.max_rows = 5\n",
    "df_warm = pd.read_csv(warm_interation_filename)\n",
    "# df_warm_train = pd.read_csv(warm_train_interaction_filename)\n",
    "# df_warm_holdout = pd.read_csv(validation_interaction_filename)\n",
    "# df_coldstart = pd.read_csv(coldstart_interation_filename)"
   ]
  },
  {
   "cell_type": "markdown",
   "metadata": {},
   "source": [
    "### Train 데이터의 유저 액티비티 통계\n",
    "\n",
    "Train 분포는 아래와 같습니다. <br>\n",
    "**유저에 대해서 최소는 2번이고, 중간값은 40번, 최대는 1019번을 rating을 했습니다.**\n",
    "\n",
    "- 참고로 Warm, ColdStart 분할 전의 전체 분포는 아래와 같습니다. 참고 하세요.\n",
    "Interaction 분포는 아래와 같습니다. <br>\n",
    "유저에 대해서 최소는 20번이고, 중간값은 96번, 최대는 2314번을 rating을 했습니다."
   ]
  },
  {
   "cell_type": "code",
   "execution_count": 4,
   "metadata": {},
   "outputs": [
    {
     "data": {
      "text/html": [
       "<div>\n",
       "<style scoped>\n",
       "    .dataframe tbody tr th:only-of-type {\n",
       "        vertical-align: middle;\n",
       "    }\n",
       "\n",
       "    .dataframe tbody tr th {\n",
       "        vertical-align: top;\n",
       "    }\n",
       "\n",
       "    .dataframe thead th {\n",
       "        text-align: right;\n",
       "    }\n",
       "</style>\n",
       "<table border=\"1\" class=\"dataframe\">\n",
       "  <thead>\n",
       "    <tr style=\"text-align: right;\">\n",
       "      <th></th>\n",
       "      <th>INTERACTION_COUNTS</th>\n",
       "    </tr>\n",
       "  </thead>\n",
       "  <tbody>\n",
       "    <tr>\n",
       "      <th>count</th>\n",
       "      <td>6040.000000</td>\n",
       "    </tr>\n",
       "    <tr>\n",
       "      <th>mean</th>\n",
       "      <td>71.718543</td>\n",
       "    </tr>\n",
       "    <tr>\n",
       "      <th>std</th>\n",
       "      <td>85.889218</td>\n",
       "    </tr>\n",
       "    <tr>\n",
       "      <th>min</th>\n",
       "      <td>2.000000</td>\n",
       "    </tr>\n",
       "    <tr>\n",
       "      <th>25%</th>\n",
       "      <td>18.000000</td>\n",
       "    </tr>\n",
       "    <tr>\n",
       "      <th>50%</th>\n",
       "      <td>40.000000</td>\n",
       "    </tr>\n",
       "    <tr>\n",
       "      <th>75%</th>\n",
       "      <td>90.000000</td>\n",
       "    </tr>\n",
       "    <tr>\n",
       "      <th>max</th>\n",
       "      <td>1029.000000</td>\n",
       "    </tr>\n",
       "  </tbody>\n",
       "</table>\n",
       "</div>"
      ],
      "text/plain": [
       "       INTERACTION_COUNTS\n",
       "count         6040.000000\n",
       "mean            71.718543\n",
       "std             85.889218\n",
       "min              2.000000\n",
       "25%             18.000000\n",
       "50%             40.000000\n",
       "75%             90.000000\n",
       "max           1029.000000"
      ]
     },
     "execution_count": 4,
     "metadata": {},
     "output_type": "execute_result"
    }
   ],
   "source": [
    "pd.options.display.max_rows = 10\n",
    "user_activity_counts = df_warm_train.groupby(\"USER_ID\").count().loc[:,[\"EVENT_TYPE\"]].rename(columns={\"EVENT_TYPE\":\"INTERACTION_COUNTS\"})\n",
    "user_activity_counts.describe()"
   ]
  },
  {
   "cell_type": "code",
   "execution_count": 5,
   "metadata": {},
   "outputs": [
    {
     "data": {
      "text/html": [
       "<div>\n",
       "<style scoped>\n",
       "    .dataframe tbody tr th:only-of-type {\n",
       "        vertical-align: middle;\n",
       "    }\n",
       "\n",
       "    .dataframe tbody tr th {\n",
       "        vertical-align: top;\n",
       "    }\n",
       "\n",
       "    .dataframe thead th {\n",
       "        text-align: right;\n",
       "    }\n",
       "</style>\n",
       "<table border=\"1\" class=\"dataframe\">\n",
       "  <thead>\n",
       "    <tr style=\"text-align: right;\">\n",
       "      <th></th>\n",
       "      <th>NUM_USERS</th>\n",
       "    </tr>\n",
       "    <tr>\n",
       "      <th>INTERACTION_COUNTS</th>\n",
       "      <th></th>\n",
       "    </tr>\n",
       "  </thead>\n",
       "  <tbody>\n",
       "    <tr>\n",
       "      <th>2</th>\n",
       "      <td>1</td>\n",
       "    </tr>\n",
       "    <tr>\n",
       "      <th>3</th>\n",
       "      <td>2</td>\n",
       "    </tr>\n",
       "    <tr>\n",
       "      <th>4</th>\n",
       "      <td>6</td>\n",
       "    </tr>\n",
       "    <tr>\n",
       "      <th>5</th>\n",
       "      <td>21</td>\n",
       "    </tr>\n",
       "    <tr>\n",
       "      <th>6</th>\n",
       "      <td>38</td>\n",
       "    </tr>\n",
       "    <tr>\n",
       "      <th>...</th>\n",
       "      <td>...</td>\n",
       "    </tr>\n",
       "    <tr>\n",
       "      <th>670</th>\n",
       "      <td>1</td>\n",
       "    </tr>\n",
       "    <tr>\n",
       "      <th>717</th>\n",
       "      <td>1</td>\n",
       "    </tr>\n",
       "    <tr>\n",
       "      <th>766</th>\n",
       "      <td>1</td>\n",
       "    </tr>\n",
       "    <tr>\n",
       "      <th>853</th>\n",
       "      <td>1</td>\n",
       "    </tr>\n",
       "    <tr>\n",
       "      <th>1029</th>\n",
       "      <td>1</td>\n",
       "    </tr>\n",
       "  </tbody>\n",
       "</table>\n",
       "<p>416 rows × 1 columns</p>\n",
       "</div>"
      ],
      "text/plain": [
       "                    NUM_USERS\n",
       "INTERACTION_COUNTS           \n",
       "2                           1\n",
       "3                           2\n",
       "4                           6\n",
       "5                          21\n",
       "6                          38\n",
       "...                       ...\n",
       "670                         1\n",
       "717                         1\n",
       "766                         1\n",
       "853                         1\n",
       "1029                        1\n",
       "\n",
       "[416 rows x 1 columns]"
      ]
     },
     "execution_count": 5,
     "metadata": {},
     "output_type": "execute_result"
    }
   ],
   "source": [
    "user_interaction_counts=user_activity_counts.reset_index()\n",
    "activities = user_interaction_counts.groupby('INTERACTION_COUNTS').count()\n",
    "activities.columns=['NUM_USERS']\n",
    "activities"
   ]
  },
  {
   "cell_type": "markdown",
   "metadata": {},
   "source": [
    "인터렉션이 최소인 20번에서 75번까지의 유저수의 분포를 확인 합니다."
   ]
  },
  {
   "cell_type": "code",
   "execution_count": 6,
   "metadata": {},
   "outputs": [
    {
     "data": {
      "image/png": "[encoded data removed]",
      "text/plain": [
       "<Figure size 1080x360 with 1 Axes>"
      ]
     },
     "metadata": {
      "needs_background": "light"
     },
     "output_type": "display_data"
    }
   ],
   "source": [
    "num_interactions = 75\n",
    "activities.loc[:num_interactions,:].plot(kind='bar', figsize=(15,5), ylim=(0,300))\n",
    "plt.title(\"activities users group\")\n",
    "\n",
    "plt.show()"
   ]
  },
  {
   "cell_type": "markdown",
   "metadata": {},
   "source": [
    "인터렉션이 최소인 2번에서 1019번까지의 유저수의 분포를 확인 합니다."
   ]
  },
  {
   "cell_type": "code",
   "execution_count": 7,
   "metadata": {},
   "outputs": [
    {
     "data": {
      "image/png": "[encoded data removed]",
      "text/plain": [
       "<Figure size 1080x360 with 1 Axes>"
      ]
     },
     "metadata": {
      "needs_background": "light"
     },
     "output_type": "display_data"
    }
   ],
   "source": [
    "num_interactions = 1029\n",
    "activities.loc[:num_interactions,:].plot(kind='bar', figsize=(15,5), ylim=(0,300))\n",
    "plt.title(\"activities users group\")\n",
    "\n",
    "plt.show()"
   ]
  },
  {
   "cell_type": "markdown",
   "metadata": {},
   "source": [
    "### User Search"
   ]
  },
  {
   "cell_type": "code",
   "execution_count": 12,
   "metadata": {},
   "outputs": [
    {
     "data": {
      "text/html": [
       "<div>\n",
       "<style scoped>\n",
       "    .dataframe tbody tr th:only-of-type {\n",
       "        vertical-align: middle;\n",
       "    }\n",
       "\n",
       "    .dataframe tbody tr th {\n",
       "        vertical-align: top;\n",
       "    }\n",
       "\n",
       "    .dataframe thead th {\n",
       "        text-align: right;\n",
       "    }\n",
       "</style>\n",
       "<table border=\"1\" class=\"dataframe\">\n",
       "  <thead>\n",
       "    <tr style=\"text-align: right;\">\n",
       "      <th></th>\n",
       "      <th>USER_ID</th>\n",
       "      <th>ITEM_ID</th>\n",
       "      <th>EVENT_VALUE</th>\n",
       "      <th>TIMESTAMP</th>\n",
       "      <th>EVENT_TYPE</th>\n",
       "    </tr>\n",
       "  </thead>\n",
       "  <tbody>\n",
       "    <tr>\n",
       "      <th>0</th>\n",
       "      <td>1</td>\n",
       "      <td>1193</td>\n",
       "      <td>5</td>\n",
       "      <td>978300760</td>\n",
       "      <td>RATING</td>\n",
       "    </tr>\n",
       "    <tr>\n",
       "      <th>1</th>\n",
       "      <td>1</td>\n",
       "      <td>2804</td>\n",
       "      <td>5</td>\n",
       "      <td>978300719</td>\n",
       "      <td>RATING</td>\n",
       "    </tr>\n",
       "    <tr>\n",
       "      <th>2</th>\n",
       "      <td>1</td>\n",
       "      <td>2398</td>\n",
       "      <td>4</td>\n",
       "      <td>978302281</td>\n",
       "      <td>RATING</td>\n",
       "    </tr>\n",
       "    <tr>\n",
       "      <th>3</th>\n",
       "      <td>1</td>\n",
       "      <td>1035</td>\n",
       "      <td>5</td>\n",
       "      <td>978301753</td>\n",
       "      <td>RATING</td>\n",
       "    </tr>\n",
       "    <tr>\n",
       "      <th>4</th>\n",
       "      <td>1</td>\n",
       "      <td>2018</td>\n",
       "      <td>4</td>\n",
       "      <td>978301777</td>\n",
       "      <td>RATING</td>\n",
       "    </tr>\n",
       "    <tr>\n",
       "      <th>...</th>\n",
       "      <td>...</td>\n",
       "      <td>...</td>\n",
       "      <td>...</td>\n",
       "      <td>...</td>\n",
       "      <td>...</td>\n",
       "    </tr>\n",
       "    <tr>\n",
       "      <th>515858</th>\n",
       "      <td>6040</td>\n",
       "      <td>1091</td>\n",
       "      <td>1</td>\n",
       "      <td>956716541</td>\n",
       "      <td>RATING</td>\n",
       "    </tr>\n",
       "    <tr>\n",
       "      <th>515859</th>\n",
       "      <td>6040</td>\n",
       "      <td>1094</td>\n",
       "      <td>5</td>\n",
       "      <td>956704887</td>\n",
       "      <td>RATING</td>\n",
       "    </tr>\n",
       "    <tr>\n",
       "      <th>515860</th>\n",
       "      <td>6040</td>\n",
       "      <td>562</td>\n",
       "      <td>5</td>\n",
       "      <td>956704746</td>\n",
       "      <td>RATING</td>\n",
       "    </tr>\n",
       "    <tr>\n",
       "      <th>515861</th>\n",
       "      <td>6040</td>\n",
       "      <td>1096</td>\n",
       "      <td>4</td>\n",
       "      <td>956715648</td>\n",
       "      <td>RATING</td>\n",
       "    </tr>\n",
       "    <tr>\n",
       "      <th>515862</th>\n",
       "      <td>6040</td>\n",
       "      <td>1097</td>\n",
       "      <td>4</td>\n",
       "      <td>956715569</td>\n",
       "      <td>RATING</td>\n",
       "    </tr>\n",
       "  </tbody>\n",
       "</table>\n",
       "<p>515863 rows × 5 columns</p>\n",
       "</div>"
      ],
      "text/plain": [
       "        USER_ID  ITEM_ID  EVENT_VALUE  TIMESTAMP EVENT_TYPE\n",
       "0             1     1193            5  978300760     RATING\n",
       "1             1     2804            5  978300719     RATING\n",
       "2             1     2398            4  978302281     RATING\n",
       "3             1     1035            5  978301753     RATING\n",
       "4             1     2018            4  978301777     RATING\n",
       "...         ...      ...          ...        ...        ...\n",
       "515858     6040     1091            1  956716541     RATING\n",
       "515859     6040     1094            5  956704887     RATING\n",
       "515860     6040      562            5  956704746     RATING\n",
       "515861     6040     1096            4  956715648     RATING\n",
       "515862     6040     1097            4  956715569     RATING\n",
       "\n",
       "[515863 rows x 5 columns]"
      ]
     },
     "execution_count": 12,
     "metadata": {},
     "output_type": "execute_result"
    }
   ],
   "source": []
  },
  {
   "cell_type": "code",
   "execution_count": 21,
   "metadata": {},
   "outputs": [],
   "source": [
    "\n",
    "from utils import get_readable_date\n",
    "def get_rich_dataset(df_interaction, df_item):\n",
    "    df_r = df_interaction.copy()\n",
    "    df_r.drop(['EVENT_TYPE'], axis=1, inplace=True)\n",
    "    df_r.drop(['EVENT_VALUE'], axis=1, inplace=True)    \n",
    "\n",
    "    # Add readable date\n",
    "    data_col_val = df_r.TIMESTAMP.apply(lambda x: get_readable_date(int(x)))\n",
    "    df_r.insert(len(df_r.columns),column=\"DATE\", value=data_col_val)    \n",
    "    # Add item_title, genre using join opeation\n",
    "    df_r = df_r.merge(df_item, on='ITEM_ID', how='inner')\n",
    "    col_order = ['USER_ID', 'ITEM_ID','TITLE', 'GENRE', 'TIMESTAMP', 'DATE']\n",
    "    df_r = df_r[col_order]\n",
    "    return df_r\n",
    "\n"
   ]
  },
  {
   "cell_type": "code",
   "execution_count": 19,
   "metadata": {},
   "outputs": [],
   "source": [
    "df_warm = pd.read_csv(warm_interation_filename)\n",
    "df_warm_train = pd.read_csv(warm_train_interaction_filename)\n",
    "df_warm_holdout = pd.read_csv(validation_interaction_filename)\n",
    "df_coldstart = pd.read_csv(coldstart_interation_filename)\n",
    "items = pd.read_csv('./ml-1m/movies.dat',sep='::', encoding='latin1',names=['ITEM_ID', 'TITLE', 'GENRE'],)\n",
    "\n",
    "df_warm_rich = get_rich_dataset(df_warm, items_meta)\n",
    "df_warm_train_rich = get_rich_dataset(df_warm_train, items_meta)\n",
    "df_warm_holdout_rich = get_rich_dataset(df_warm_holdout, items_meta)\n",
    "df_coldstart_rich = get_rich_dataset(df_coldstart, items_meta)"
   ]
  },
  {
   "cell_type": "markdown",
   "metadata": {},
   "source": [
    "## 특정 유저 탐색\n",
    "\n",
    "완료되면 파일을 새 CSV로 저장한 다음, S3에 업로드합니다.<br>"
   ]
  },
  {
   "cell_type": "code",
   "execution_count": 20,
   "metadata": {},
   "outputs": [
    {
     "name": "stdout",
     "output_type": "stream",
     "text": [
      "\n",
      "warm in order of TIMESTAMP: \n",
      " [1198 1210 1217 2717 2943 1225  318 1945 1207 3095  515 1873 1090 2067\n",
      "  110 1357 1957 1953  920 1962 1834 1784  902 3334 3578 3068 1253 3071\n",
      " 3699 1245 3678 1442 3255 1124  498 1537 2321 2359  356 3108 3809 1265\n",
      "  589  380 2916   21 1408 3256 1370 2427 1372 1552 2490  780  459 3107\n",
      "  165  368 1597  442 2628 1690 3257  736  292   95 1917 1544 1687]\n",
      "\n",
      "warm_train in order of TIMESTAMP: \n",
      " [1198 1210 1217 2717 2943 1225  318 1945 1207 3095  515 1873 1090 2067\n",
      "  110 1357 1957 1953  920 1834 1962 1784  902 3578 3334 3068 3071 1253\n",
      " 3699 1245 3678 1442 3255  498 1124 1537 2321 2359  356 3108 3809 1265\n",
      "  589  380 2916   21 3256 1408 1370 2427 1372 1552 2490  780 3107  368\n",
      "  459  165  442 1597 2628 1690]\n",
      "\n",
      "warm_holdout_list in order of TIMESTAMP: \n",
      " [3257  736  292   95 1687 1544 1917]\n",
      "\n",
      "warm sorted: \n",
      " [21, 95, 110, 165, 292, 318, 356, 368, 380, 442, 459, 498, 515, 589, 736, 780, 902, 920, 1090, 1124, 1198, 1207, 1210, 1217, 1225, 1245, 1253, 1265, 1357, 1370, 1372, 1408, 1442, 1537, 1544, 1552, 1597, 1687, 1690, 1784, 1834, 1873, 1917, 1945, 1953, 1957, 1962, 2067, 2321, 2359, 2427, 2490, 2628, 2717, 2916, 2943, 3068, 3071, 3095, 3107, 3108, 3255, 3256, 3257, 3334, 3578, 3678, 3699, 3809]\n",
      "coldstart: \n",
      " [48, 260, 527, 531, 588, 608, 745, 1028, 1035, 1097, 1193, 1246, 1270, 1566, 1961, 2018, 2028, 2294, 2398, 2692, 2804, 3105, 3186]\n"
     ]
    }
   ],
   "source": [
    "# pd.options.display.max_rows = 70\n",
    "# df_warm[df_warm.USER_ID == 2].sort_values(by='TIMESTAMP')\n",
    "\n",
    "USER_ID = 2\n",
    "\n",
    "user_warm_list = df_warm[df_warm.USER_ID == USER_ID].sort_values(by='TIMESTAMP').ITEM_ID.values\n",
    "user_warm_train_list = df_warm_train[df_warm_train.USER_ID == USER_ID].sort_values(by='TIMESTAMP').ITEM_ID.values\n",
    "user_warm_holdout_list = df_warm_holdout[df_warm_holdout.USER_ID == USER_ID].sort_values(by='TIMESTAMP').ITEM_ID.values\n",
    "user_coldstart_list = df_coldstart[df_coldstart.USER_ID == 1].sort_values(by='TIMESTAMP').ITEM_ID.values\n",
    "\n",
    "print(\"\\nwarm in order of TIMESTAMP: \\n\", user_warm_list)\n",
    "print(\"\\nwarm_train in order of TIMESTAMP: \\n\", user_warm_train_list)\n",
    "print(\"\\nwarm_holdout_list in order of TIMESTAMP: \\n\", user_warm_holdout_list)\n",
    "\n",
    "print(\"\\nwarm sorted: \\n\", sorted(user_warm_list))\n",
    "print(\"coldstart: \\n\", sorted(user_coldstart_list))"
   ]
  },
  {
   "cell_type": "markdown",
   "metadata": {},
   "source": [
    "train, item, validation(holdout) 데이터를 로컬에 csv 파일로 저장 합니다."
   ]
  },
  {
   "cell_type": "code",
   "execution_count": null,
   "metadata": {},
   "outputs": [],
   "source": []
  }
 ],
 "metadata": {
  "kernelspec": {
   "display_name": "conda_python3",
   "language": "python",
   "name": "conda_python3"
  },
  "language_info": {
   "codemirror_mode": {
    "name": "ipython",
    "version": 3
   },
   "file_extension": ".py",
   "mimetype": "text/x-python",
   "name": "python",
   "nbconvert_exporter": "python",
   "pygments_lexer": "ipython3",
   "version": "3.6.10"
  }
 },
 "nbformat": 4,
 "nbformat_minor": 4
}

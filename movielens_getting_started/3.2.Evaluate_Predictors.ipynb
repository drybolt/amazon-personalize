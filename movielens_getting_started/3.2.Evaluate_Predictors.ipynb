{
 "cells": [
  {
   "cell_type": "markdown",
   "metadata": {},
   "source": [
    "# [Module 3.2] Personalize 솔류션 평가 지표 확인하기\n",
    "\n",
    "이 노트북은 Module1에서 생성한 데이타셋 그룹, 데이타셋을 바탕으로 아래와 같은 작업을 합니다.\n",
    "\n",
    "* 레서피(알고리즘) 선택 및 솔류션 생성\n",
    "* 솔류션 버전 생성\n",
    "* 솔류션 평가 지표 얻기\n",
    "\n"
   ]
  },
  {
   "cell_type": "code",
   "execution_count": 1,
   "metadata": {},
   "outputs": [],
   "source": [
    "# Imports\n",
    "import boto3\n",
    "import json\n",
    "import numpy as np\n",
    "import pandas as pd\n",
    "import time\n"
   ]
  },
  {
   "cell_type": "markdown",
   "metadata": {},
   "source": [
    "다음으로 여러분의 환경이 Amazon Personalize와 성공적으로 통신할 수 있는지 확인해야 합니다."
   ]
  },
  {
   "cell_type": "code",
   "execution_count": 2,
   "metadata": {},
   "outputs": [],
   "source": [
    "# Configure the SDK to Personalize:\n",
    "personalize = boto3.client('personalize')"
   ]
  },
  {
   "cell_type": "markdown",
   "metadata": {},
   "source": [
    "아래 코드 셀은 이전 notebook에서 저장했던 공유 변수들을 불러옵니다."
   ]
  },
  {
   "cell_type": "code",
   "execution_count": 3,
   "metadata": {},
   "outputs": [],
   "source": [
    "%store -r"
   ]
  },
  {
   "cell_type": "markdown",
   "metadata": {},
   "source": [
    "생성할 오브젝트의 끝에 임의의 숫자를 부여하기 위해 suffix 정의"
   ]
  },
  {
   "cell_type": "markdown",
   "metadata": {},
   "source": [
    "## 솔루션 평가 지표 얻기\n",
    "\n",
    "이번 파트에서는 Amazon Personalize에서 기본으로 제공하는 솔루션에 대한 평가 지표를 확인해 봅니다. \n",
    "Amazon Personalize에서는 평가 지표를 생성하기 위해 약 랜덤으로 10% 사용자의 interaction data를 테스트 용으로 활용합니다. \n",
    "\n",
    "아래 이미지는 Amazon Personalize가 데이터를 분리하는 방법을 보여줍니다. 사용자가 10 명이고 각각 10 개의 상호 작용이있는 경우 (여기에서 원은 Interaction data를 나타냄) 타임 스탬프를 기준으로 가장 오래된 것부터 최신 것까지 나열된 것입니다. Amazon Personalize는 사용자의 90 % (파란색 원)의 모든 Interaction 데이터를 사용하여 솔루션 버전을 훈련시키고 나머지 10 %는 평가를 위해 사용합니다. 나머지 10 %의 각 사용자에 대해 Interaction data (녹색 원)의 90 %가 훈련 된 모델의 입력값으로 사용됩니다. 데이터의 나머지 10 % (주황색 원)는 모델에서 생성 된 추천 결과물과 비교되고 평가 지표를 계산하는 데 사용됩니다.\n",
    "\n",
    "\n",
    "\n",
    "![personalize metrics](static/imgs/personalize_metrics.png)\n",
    "\n",
    "[솔류션 평가 지표 정의](https://docs.aws.amazon.com/personalize/latest/dg/working-with-training-metrics.html)\n",
    "는 개발자 문서의 링크 참조 바랍니다. 또한 이 링크 [솔류션 평가 정의 예제](http://francescopochetti.com/recommend-expedia-hotels-with-amazon-personalize-the-magic-of-hierarchical-rnns/) 의 페이지 맨 아래 쪽을 보시면 조금 더 직관적인 그림을 보실 수 있습니다.\n",
    " <br>\n",
    "또한 reciprocal_rank_at_5, normalized_discounted_cumulative_gain_at_5,precision_at_5 의 예제는 아래와 같습니다. \n",
    "* Exmaple\n",
    "    * 5 개의 추천리스트를 제공했고, 이 중에 2번째와 5번째가 실제 데이타와 일치 했다고 하면, 쉽게 이렇게 [0,1,0,0,1] 표시 할 수 있습니다.\n",
    "        * reciprocal_rank\n",
    "            * 1/2 (0.5) # 가장 빠른 순서의 하나만을 선택 합니다\n",
    "        * normalized_discounted_cumulative_gain_at_5\n",
    "            * (1/log(1+2) + 1/log(1+5)) / (1/log(1+1) + 1/log(1+2)) = 0.6241\n",
    "        * precision_at_5\n",
    "            * 2/5 (0.4)\n",
    "\n",
    "\n",
    "\n",
    "#### 조금더 상세하고 Custum 평가 지표를 얻기 위해서 이전에 분리해둔 테스트 데이터를 가지고 캠페인 생성 후 별도 테스트를 진행하도록 합니다.\n",
    "\n"
   ]
  },
  {
   "cell_type": "code",
   "execution_count": 4,
   "metadata": {},
   "outputs": [],
   "source": [
    "metrics=[]\n",
    "\n",
    "def build_metric_matrix(solution,response):\n",
    "    metrics.append([solution,\n",
    "                response['metrics']['coverage'],\n",
    "                response['metrics']['mean_reciprocal_rank_at_25'],\n",
    "                response['metrics']['normalized_discounted_cumulative_gain_at_5'],\n",
    "                response['metrics']['normalized_discounted_cumulative_gain_at_10'],\n",
    "                response['metrics']['normalized_discounted_cumulative_gain_at_25'],\n",
    "                response['metrics']['precision_at_5'],\n",
    "                response['metrics']['precision_at_10'],\n",
    "                response['metrics']['precision_at_25']])"
   ]
  },
  {
   "cell_type": "markdown",
   "metadata": {},
   "source": [
    "#### Metrics: Popularity"
   ]
  },
  {
   "cell_type": "code",
   "execution_count": 5,
   "metadata": {},
   "outputs": [
    {
     "name": "stdout",
     "output_type": "stream",
     "text": [
      "{\n",
      "  \"solutionVersionArn\": \"arn:aws:personalize:ap-northeast-2:057716757052:solution/Movielens-popularity-91891/51d69553\",\n",
      "  \"metrics\": {\n",
      "    \"coverage\": 0.0136,\n",
      "    \"mean_reciprocal_rank_at_25\": 0.0559,\n",
      "    \"normalized_discounted_cumulative_gain_at_10\": 0.067,\n",
      "    \"normalized_discounted_cumulative_gain_at_25\": 0.1113,\n",
      "    \"normalized_discounted_cumulative_gain_at_5\": 0.0395,\n",
      "    \"precision_at_10\": 0.02,\n",
      "    \"precision_at_25\": 0.0182,\n",
      "    \"precision_at_5\": 0.0163\n",
      "  },\n",
      "  \"ResponseMetadata\": {\n",
      "    \"RequestId\": \"ce843d46-3002-4326-95a7-94195256c5a4\",\n",
      "    \"HTTPStatusCode\": 200,\n",
      "    \"HTTPHeaders\": {\n",
      "      \"content-type\": \"application/x-amz-json-1.1\",\n",
      "      \"date\": \"Sun, 30 Aug 2020 10:40:46 GMT\",\n",
      "      \"x-amzn-requestid\": \"ce843d46-3002-4326-95a7-94195256c5a4\",\n",
      "      \"content-length\": \"412\",\n",
      "      \"connection\": \"keep-alive\"\n",
      "    },\n",
      "    \"RetryAttempts\": 0\n",
      "  }\n",
      "}\n"
     ]
    }
   ],
   "source": [
    "get_solution_metrics_response = personalize.get_solution_metrics(\n",
    "    solutionVersionArn = popularity_solution_version_arn \n",
    ")\n",
    "\n",
    "print(json.dumps(get_solution_metrics_response, indent=2))\n",
    "build_metric_matrix('popularity',get_solution_metrics_response)\n"
   ]
  },
  {
   "cell_type": "markdown",
   "metadata": {},
   "source": [
    "#### Metrics: User-Personalization"
   ]
  },
  {
   "cell_type": "code",
   "execution_count": 6,
   "metadata": {},
   "outputs": [
    {
     "name": "stdout",
     "output_type": "stream",
     "text": [
      "{\n",
      "  \"solutionVersionArn\": \"arn:aws:personalize:ap-northeast-2:057716757052:solution/Movielens-user-personalization-91891/5ad2fc30\",\n",
      "  \"metrics\": {\n",
      "    \"coverage\": 0.2832,\n",
      "    \"mean_reciprocal_rank_at_25\": 0.2378,\n",
      "    \"normalized_discounted_cumulative_gain_at_10\": 0.2313,\n",
      "    \"normalized_discounted_cumulative_gain_at_25\": 0.3247,\n",
      "    \"normalized_discounted_cumulative_gain_at_5\": 0.1836,\n",
      "    \"precision_at_10\": 0.0799,\n",
      "    \"precision_at_25\": 0.0627,\n",
      "    \"precision_at_5\": 0.0958\n",
      "  },\n",
      "  \"ResponseMetadata\": {\n",
      "    \"RequestId\": \"61226ca8-8cb8-4689-b505-13e4f961d2b9\",\n",
      "    \"HTTPStatusCode\": 200,\n",
      "    \"HTTPHeaders\": {\n",
      "      \"content-type\": \"application/x-amz-json-1.1\",\n",
      "      \"date\": \"Sun, 30 Aug 2020 10:40:47 GMT\",\n",
      "      \"x-amzn-requestid\": \"61226ca8-8cb8-4689-b505-13e4f961d2b9\",\n",
      "      \"content-length\": \"425\",\n",
      "      \"connection\": \"keep-alive\"\n",
      "    },\n",
      "    \"RetryAttempts\": 0\n",
      "  }\n",
      "}\n"
     ]
    }
   ],
   "source": [
    "get_solution_metrics_response = personalize.get_solution_metrics(\n",
    "    solutionVersionArn = user_personalization_solution_version_arn\n",
    ")\n",
    "\n",
    "print(json.dumps(get_solution_metrics_response, indent=2))\n",
    "\n",
    "build_metric_matrix('user_personalization',get_solution_metrics_response)"
   ]
  },
  {
   "cell_type": "markdown",
   "metadata": {},
   "source": [
    "#### Metrics: HRNN"
   ]
  },
  {
   "cell_type": "code",
   "execution_count": 7,
   "metadata": {},
   "outputs": [
    {
     "name": "stdout",
     "output_type": "stream",
     "text": [
      "{\n",
      "  \"solutionVersionArn\": \"arn:aws:personalize:ap-northeast-2:057716757052:solution/Movielens-hrnn-91891/47b38681\",\n",
      "  \"metrics\": {\n",
      "    \"coverage\": 0.6355,\n",
      "    \"mean_reciprocal_rank_at_25\": 0.2351,\n",
      "    \"normalized_discounted_cumulative_gain_at_10\": 0.2334,\n",
      "    \"normalized_discounted_cumulative_gain_at_25\": 0.3181,\n",
      "    \"normalized_discounted_cumulative_gain_at_5\": 0.1914,\n",
      "    \"precision_at_10\": 0.0749,\n",
      "    \"precision_at_25\": 0.0568,\n",
      "    \"precision_at_5\": 0.0926\n",
      "  },\n",
      "  \"ResponseMetadata\": {\n",
      "    \"RequestId\": \"b5b4e241-3857-4417-bc91-8b393f513146\",\n",
      "    \"HTTPStatusCode\": 200,\n",
      "    \"HTTPHeaders\": {\n",
      "      \"content-type\": \"application/x-amz-json-1.1\",\n",
      "      \"date\": \"Sun, 30 Aug 2020 10:40:47 GMT\",\n",
      "      \"x-amzn-requestid\": \"b5b4e241-3857-4417-bc91-8b393f513146\",\n",
      "      \"content-length\": \"409\",\n",
      "      \"connection\": \"keep-alive\"\n",
      "    },\n",
      "    \"RetryAttempts\": 0\n",
      "  }\n",
      "}\n"
     ]
    }
   ],
   "source": [
    "get_solution_metrics_response = personalize.get_solution_metrics(\n",
    "    solutionVersionArn = hrnn_solution_version_arn\n",
    ")\n",
    "\n",
    "print(json.dumps(get_solution_metrics_response, indent=2))\n",
    "\n",
    "build_metric_matrix('hrnn',get_solution_metrics_response)"
   ]
  },
  {
   "cell_type": "markdown",
   "metadata": {},
   "source": [
    "#### Metrics: HRNN-Meta"
   ]
  },
  {
   "cell_type": "code",
   "execution_count": 8,
   "metadata": {},
   "outputs": [
    {
     "name": "stdout",
     "output_type": "stream",
     "text": [
      "{\n",
      "  \"solutionVersionArn\": \"arn:aws:personalize:ap-northeast-2:057716757052:solution/Movielens-aws-hrnn-metadata-91891/adaee5f0\",\n",
      "  \"metrics\": {\n",
      "    \"coverage\": 0.5724,\n",
      "    \"mean_reciprocal_rank_at_25\": 0.2234,\n",
      "    \"normalized_discounted_cumulative_gain_at_10\": 0.2224,\n",
      "    \"normalized_discounted_cumulative_gain_at_25\": 0.3076,\n",
      "    \"normalized_discounted_cumulative_gain_at_5\": 0.1674,\n",
      "    \"precision_at_10\": 0.077,\n",
      "    \"precision_at_25\": 0.0588,\n",
      "    \"precision_at_5\": 0.0862\n",
      "  },\n",
      "  \"ResponseMetadata\": {\n",
      "    \"RequestId\": \"fac30a88-8885-4030-8b21-67e435d2f3ea\",\n",
      "    \"HTTPStatusCode\": 200,\n",
      "    \"HTTPHeaders\": {\n",
      "      \"content-type\": \"application/x-amz-json-1.1\",\n",
      "      \"date\": \"Sun, 30 Aug 2020 10:40:47 GMT\",\n",
      "      \"x-amzn-requestid\": \"fac30a88-8885-4030-8b21-67e435d2f3ea\",\n",
      "      \"content-length\": \"421\",\n",
      "      \"connection\": \"keep-alive\"\n",
      "    },\n",
      "    \"RetryAttempts\": 0\n",
      "  }\n",
      "}\n"
     ]
    }
   ],
   "source": [
    "get_solution_metrics_response = personalize.get_solution_metrics(\n",
    "    solutionVersionArn = hrnn_meta_solution_version_arn\n",
    ")\n",
    "\n",
    "print(json.dumps(get_solution_metrics_response, indent=2))\n",
    "build_metric_matrix('hrnn_meta',get_solution_metrics_response)"
   ]
  },
  {
   "cell_type": "markdown",
   "metadata": {},
   "source": [
    "#### Metrics: HRNN-Coldstart"
   ]
  },
  {
   "cell_type": "code",
   "execution_count": 9,
   "metadata": {},
   "outputs": [
    {
     "name": "stdout",
     "output_type": "stream",
     "text": [
      "{\n",
      "  \"solutionVersionArn\": \"arn:aws:personalize:ap-northeast-2:057716757052:solution/Movielens-hrnn-coldstart-91891/5afbfa75\",\n",
      "  \"metrics\": {\n",
      "    \"coverage\": 0.2363,\n",
      "    \"mean_reciprocal_rank_at_25\": 0.0026,\n",
      "    \"normalized_discounted_cumulative_gain_at_10\": 0.0039,\n",
      "    \"normalized_discounted_cumulative_gain_at_25\": 0.0066,\n",
      "    \"normalized_discounted_cumulative_gain_at_5\": 0.0026,\n",
      "    \"precision_at_10\": 0.001,\n",
      "    \"precision_at_25\": 0.0008,\n",
      "    \"precision_at_5\": 0.001\n",
      "  },\n",
      "  \"ResponseMetadata\": {\n",
      "    \"RequestId\": \"ed17b0d7-b78d-4a51-a9b2-fb1ff2c090a9\",\n",
      "    \"HTTPStatusCode\": 200,\n",
      "    \"HTTPHeaders\": {\n",
      "      \"content-type\": \"application/x-amz-json-1.1\",\n",
      "      \"date\": \"Sun, 30 Aug 2020 10:40:47 GMT\",\n",
      "      \"x-amzn-requestid\": \"ed17b0d7-b78d-4a51-a9b2-fb1ff2c090a9\",\n",
      "      \"content-length\": \"417\",\n",
      "      \"connection\": \"keep-alive\"\n",
      "    },\n",
      "    \"RetryAttempts\": 0\n",
      "  }\n",
      "}\n"
     ]
    }
   ],
   "source": [
    "get_solution_metrics_response = personalize.get_solution_metrics(\n",
    "    solutionVersionArn = hrnn_coldstart_solution_version_arn\n",
    ")\n",
    "\n",
    "print(json.dumps(get_solution_metrics_response, indent=2))\n",
    "build_metric_matrix('hrnn_coldstart',get_solution_metrics_response)"
   ]
  },
  {
   "cell_type": "markdown",
   "metadata": {},
   "source": [
    "#### Metrics: SIMS"
   ]
  },
  {
   "cell_type": "code",
   "execution_count": 10,
   "metadata": {},
   "outputs": [
    {
     "name": "stdout",
     "output_type": "stream",
     "text": [
      "{\n",
      "  \"solutionVersionArn\": \"arn:aws:personalize:ap-northeast-2:057716757052:solution/Movielens-sims-91891/84632efc\",\n",
      "  \"metrics\": {\n",
      "    \"coverage\": 0.7622,\n",
      "    \"mean_reciprocal_rank_at_25\": 0.1809,\n",
      "    \"normalized_discounted_cumulative_gain_at_10\": 0.1824,\n",
      "    \"normalized_discounted_cumulative_gain_at_25\": 0.2514,\n",
      "    \"normalized_discounted_cumulative_gain_at_5\": 0.1505,\n",
      "    \"precision_at_10\": 0.0533,\n",
      "    \"precision_at_25\": 0.0407,\n",
      "    \"precision_at_5\": 0.0686\n",
      "  },\n",
      "  \"ResponseMetadata\": {\n",
      "    \"RequestId\": \"5cbb9564-cb0b-4de0-b4ba-3d74396c49ba\",\n",
      "    \"HTTPStatusCode\": 200,\n",
      "    \"HTTPHeaders\": {\n",
      "      \"content-type\": \"application/x-amz-json-1.1\",\n",
      "      \"date\": \"Sun, 30 Aug 2020 10:40:46 GMT\",\n",
      "      \"x-amzn-requestid\": \"5cbb9564-cb0b-4de0-b4ba-3d74396c49ba\",\n",
      "      \"content-length\": \"409\",\n",
      "      \"connection\": \"keep-alive\"\n",
      "    },\n",
      "    \"RetryAttempts\": 0\n",
      "  }\n",
      "}\n"
     ]
    }
   ],
   "source": [
    "get_solution_metrics_response = personalize.get_solution_metrics(\n",
    "    solutionVersionArn = sims_solution_version_arn\n",
    ")\n",
    "\n",
    "print(json.dumps(get_solution_metrics_response, indent=2))\n",
    "build_metric_matrix('sims',get_solution_metrics_response)"
   ]
  },
  {
   "cell_type": "markdown",
   "metadata": {},
   "source": [
    "#### Metrics: Ranking"
   ]
  },
  {
   "cell_type": "code",
   "execution_count": 11,
   "metadata": {},
   "outputs": [
    {
     "name": "stdout",
     "output_type": "stream",
     "text": [
      "{\n",
      "  \"solutionVersionArn\": \"arn:aws:personalize:ap-northeast-2:057716757052:solution/Movielens-ranking-91891/04a98ddc\",\n",
      "  \"metrics\": {\n",
      "    \"coverage\": 0.0136,\n",
      "    \"mean_reciprocal_rank_at_25\": 0.0908,\n",
      "    \"normalized_discounted_cumulative_gain_at_10\": 0.1187,\n",
      "    \"normalized_discounted_cumulative_gain_at_25\": 0.1415,\n",
      "    \"normalized_discounted_cumulative_gain_at_5\": 0.0949,\n",
      "    \"precision_at_10\": 0.0238,\n",
      "    \"precision_at_25\": 0.0145,\n",
      "    \"precision_at_5\": 0.0299\n",
      "  },\n",
      "  \"ResponseMetadata\": {\n",
      "    \"RequestId\": \"e187e9bb-8a84-427a-b202-ca903bf38a80\",\n",
      "    \"HTTPStatusCode\": 200,\n",
      "    \"HTTPHeaders\": {\n",
      "      \"content-type\": \"application/x-amz-json-1.1\",\n",
      "      \"date\": \"Sun, 30 Aug 2020 10:40:47 GMT\",\n",
      "      \"x-amzn-requestid\": \"e187e9bb-8a84-427a-b202-ca903bf38a80\",\n",
      "      \"content-length\": \"412\",\n",
      "      \"connection\": \"keep-alive\"\n",
      "    },\n",
      "    \"RetryAttempts\": 0\n",
      "  }\n",
      "}\n"
     ]
    }
   ],
   "source": [
    "get_solution_metrics_response = personalize.get_solution_metrics(\n",
    "    solutionVersionArn = ranking_solution_version_arn \n",
    ")\n",
    "\n",
    "print(json.dumps(get_solution_metrics_response, indent=2))\n",
    "build_metric_matrix('ranking',get_solution_metrics_response)"
   ]
  },
  {
   "cell_type": "markdown",
   "metadata": {},
   "source": [
    "## Summary Metrics\n",
    "\n",
    "레서피의 종류는 크게 세가지 입니다. 각각에 대해 확인을 해보겠습니다.\n",
    "#### 1. USER_PERSONALIZATION Recipes\n",
    "- 5가지 (popularity,user_personalization,hrnn,hrnn_meta,hrnn_coldstart) 있습니다.\n",
    "- popularity 는 베이스라인의 레서피로서 샤용을 주로 합니다. 모든 지표에서 가장 낮은 수치를 보입니다.\n",
    "- user_personalization 이 전반적으로 가장 높은 성능을 보여 줍니다. default로 exploration_weight=0.3 입니다. coldstart item 이 거의 없는 상태에서도 가장 높은 성능을 보여 주고 있습니다.\n",
    "- hrnn_coldstart 는coldstart item 이 거의 없는 상태이기에 성능이 낮게 나오는 것이 정상 으로 보입니다.\n",
    "\n",
    "#### 2. RELATED_ITEMS Recipes\n",
    "- sims 가 부류에 속하는 레서피로 커버리지가 높게 나왔습니다.\n",
    "\n",
    "#### 3. PERSONALIZED_RANKING Recipes\n",
    "- ranking 이 여기에 속합니다. \n",
    "\n",
    "\n",
    "![Fig.3.2.metric_summary.png](static/imgs/Fig.3.2.metric_summary.png)"
   ]
  },
  {
   "cell_type": "code",
   "execution_count": 12,
   "metadata": {},
   "outputs": [
    {
     "data": {
      "text/html": [
       "<div>\n",
       "<style scoped>\n",
       "    .dataframe tbody tr th:only-of-type {\n",
       "        vertical-align: middle;\n",
       "    }\n",
       "\n",
       "    .dataframe tbody tr th {\n",
       "        vertical-align: top;\n",
       "    }\n",
       "\n",
       "    .dataframe thead th {\n",
       "        text-align: right;\n",
       "    }\n",
       "</style>\n",
       "<table border=\"1\" class=\"dataframe\">\n",
       "  <thead>\n",
       "    <tr style=\"text-align: right;\">\n",
       "      <th></th>\n",
       "      <th>recipe</th>\n",
       "      <th>coverage</th>\n",
       "      <th>mrr@25</th>\n",
       "      <th>ndcg@5</th>\n",
       "      <th>ndcg@10</th>\n",
       "      <th>ndcg@25</th>\n",
       "      <th>p@5</th>\n",
       "      <th>p@10</th>\n",
       "      <th>p@25</th>\n",
       "    </tr>\n",
       "  </thead>\n",
       "  <tbody>\n",
       "    <tr>\n",
       "      <th>0</th>\n",
       "      <td>popularity</td>\n",
       "      <td>0.0136</td>\n",
       "      <td>0.0559</td>\n",
       "      <td>0.0395</td>\n",
       "      <td>0.0670</td>\n",
       "      <td>0.1113</td>\n",
       "      <td>0.0163</td>\n",
       "      <td>0.0200</td>\n",
       "      <td>0.0182</td>\n",
       "    </tr>\n",
       "    <tr>\n",
       "      <th>1</th>\n",
       "      <td>user_personalization</td>\n",
       "      <td>0.2832</td>\n",
       "      <td>0.2378</td>\n",
       "      <td>0.1836</td>\n",
       "      <td>0.2313</td>\n",
       "      <td>0.3247</td>\n",
       "      <td>0.0958</td>\n",
       "      <td>0.0799</td>\n",
       "      <td>0.0627</td>\n",
       "    </tr>\n",
       "    <tr>\n",
       "      <th>2</th>\n",
       "      <td>hrnn</td>\n",
       "      <td>0.6355</td>\n",
       "      <td>0.2351</td>\n",
       "      <td>0.1914</td>\n",
       "      <td>0.2334</td>\n",
       "      <td>0.3181</td>\n",
       "      <td>0.0926</td>\n",
       "      <td>0.0749</td>\n",
       "      <td>0.0568</td>\n",
       "    </tr>\n",
       "    <tr>\n",
       "      <th>3</th>\n",
       "      <td>hrnn_meta</td>\n",
       "      <td>0.5724</td>\n",
       "      <td>0.2234</td>\n",
       "      <td>0.1674</td>\n",
       "      <td>0.2224</td>\n",
       "      <td>0.3076</td>\n",
       "      <td>0.0862</td>\n",
       "      <td>0.0770</td>\n",
       "      <td>0.0588</td>\n",
       "    </tr>\n",
       "    <tr>\n",
       "      <th>4</th>\n",
       "      <td>hrnn_coldstart</td>\n",
       "      <td>0.2363</td>\n",
       "      <td>0.0026</td>\n",
       "      <td>0.0026</td>\n",
       "      <td>0.0039</td>\n",
       "      <td>0.0066</td>\n",
       "      <td>0.0010</td>\n",
       "      <td>0.0010</td>\n",
       "      <td>0.0008</td>\n",
       "    </tr>\n",
       "    <tr>\n",
       "      <th>5</th>\n",
       "      <td>sims</td>\n",
       "      <td>0.7622</td>\n",
       "      <td>0.1809</td>\n",
       "      <td>0.1505</td>\n",
       "      <td>0.1824</td>\n",
       "      <td>0.2514</td>\n",
       "      <td>0.0686</td>\n",
       "      <td>0.0533</td>\n",
       "      <td>0.0407</td>\n",
       "    </tr>\n",
       "    <tr>\n",
       "      <th>6</th>\n",
       "      <td>ranking</td>\n",
       "      <td>0.0136</td>\n",
       "      <td>0.0908</td>\n",
       "      <td>0.0949</td>\n",
       "      <td>0.1187</td>\n",
       "      <td>0.1415</td>\n",
       "      <td>0.0299</td>\n",
       "      <td>0.0238</td>\n",
       "      <td>0.0145</td>\n",
       "    </tr>\n",
       "  </tbody>\n",
       "</table>\n",
       "</div>"
      ],
      "text/plain": [
       "                 recipe  coverage  mrr@25  ndcg@5  ndcg@10  ndcg@25     p@5  \\\n",
       "0            popularity    0.0136  0.0559  0.0395   0.0670   0.1113  0.0163   \n",
       "1  user_personalization    0.2832  0.2378  0.1836   0.2313   0.3247  0.0958   \n",
       "2                  hrnn    0.6355  0.2351  0.1914   0.2334   0.3181  0.0926   \n",
       "3             hrnn_meta    0.5724  0.2234  0.1674   0.2224   0.3076  0.0862   \n",
       "4        hrnn_coldstart    0.2363  0.0026  0.0026   0.0039   0.0066  0.0010   \n",
       "5                  sims    0.7622  0.1809  0.1505   0.1824   0.2514  0.0686   \n",
       "6               ranking    0.0136  0.0908  0.0949   0.1187   0.1415  0.0299   \n",
       "\n",
       "     p@10    p@25  \n",
       "0  0.0200  0.0182  \n",
       "1  0.0799  0.0627  \n",
       "2  0.0749  0.0568  \n",
       "3  0.0770  0.0588  \n",
       "4  0.0010  0.0008  \n",
       "5  0.0533  0.0407  \n",
       "6  0.0238  0.0145  "
      ]
     },
     "execution_count": 12,
     "metadata": {},
     "output_type": "execute_result"
    }
   ],
   "source": [
    "recipe_metrics=pd.DataFrame(metrics,columns=['recipe','coverage','mrr@25','ndcg@5','ndcg@10','ndcg@25','p@5','p@10','p@25'])\n",
    "\n",
    "recipe_metrics"
   ]
  },
  {
   "cell_type": "code",
   "execution_count": 14,
   "metadata": {},
   "outputs": [
    {
     "name": "stdout",
     "output_type": "stream",
     "text": [
      "Stored 'user_personalization_solution_version_arn' (str)\n",
      "Stored 'user_personalization_solution_arn' (str)\n",
      "Stored 'hrnn_solution_version_arn' (str)\n",
      "Stored 'hrnn_solution_arn' (str)\n",
      "Stored 'hrnn_meta_solution_version_arn' (str)\n",
      "Stored 'hrnn_meta_solution_arn' (str)\n",
      "Stored 'hrnn_coldstart_solution_version_arn' (str)\n",
      "Stored 'hrnn_coldstart_solution_arn' (str)\n",
      "Stored 'sims_solution_version_arn' (str)\n",
      "Stored 'sims_solution_arn' (str)\n"
     ]
    }
   ],
   "source": [
    "%store user_personalization_solution_version_arn\n",
    "%store user_personalization_solution_arn\n",
    "\n",
    "\n",
    "%store hrnn_solution_version_arn\n",
    "%store hrnn_solution_arn\n",
    "\n",
    "%store hrnn_meta_solution_version_arn\n",
    "%store hrnn_meta_solution_arn\n",
    "\n",
    "%store hrnn_coldstart_solution_version_arn\n",
    "%store hrnn_coldstart_solution_arn\n",
    "\n",
    "%store sims_solution_version_arn\n",
    "%store sims_solution_arn\n"
   ]
  },
  {
   "cell_type": "code",
   "execution_count": null,
   "metadata": {},
   "outputs": [],
   "source": []
  }
 ],
 "metadata": {
  "kernelspec": {
   "display_name": "conda_python3",
   "language": "python",
   "name": "conda_python3"
  },
  "language_info": {
   "codemirror_mode": {
    "name": "ipython",
    "version": 3
   },
   "file_extension": ".py",
   "mimetype": "text/x-python",
   "name": "python",
   "nbconvert_exporter": "python",
   "pygments_lexer": "ipython3",
   "version": "3.6.10"
  }
 },
 "nbformat": 4,
 "nbformat_minor": 4
}

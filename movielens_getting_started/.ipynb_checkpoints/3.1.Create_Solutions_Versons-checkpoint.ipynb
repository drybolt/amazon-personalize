{
 "cells": [
  {
   "cell_type": "markdown",
   "metadata": {},
   "source": [
    "# [Module 3.1] Personalize 솔류션 및 솔류션 버전 생성\n",
    "\n",
    "이 노트북은 Module1에서 생성한 데이타셋 그룹, 데이타셋을 바탕으로 아래와 같은 작업을 합니다.\n",
    "\n",
    "* 레서피(알고리즘) 선택 및 7가지 솔류션 생성\n",
    "* 7가지 솔류션 버전 생성\n",
    "\n",
    "--- \n",
    "이 노트북은 약 50분 소요 됩니다.\n",
    "\n"
   ]
  },
  {
   "cell_type": "code",
   "execution_count": 50,
   "metadata": {},
   "outputs": [],
   "source": [
    "# Imports\n",
    "import boto3\n",
    "import json\n",
    "import numpy as np\n",
    "import pandas as pd\n",
    "import time\n"
   ]
  },
  {
   "cell_type": "markdown",
   "metadata": {},
   "source": [
    "다음으로 여러분의 환경이 Amazon Personalize와 성공적으로 통신할 수 있는지 확인해야 합니다."
   ]
  },
  {
   "cell_type": "code",
   "execution_count": 51,
   "metadata": {},
   "outputs": [],
   "source": [
    "# Configure the SDK to Personalize:\n",
    "personalize = boto3.client('personalize')"
   ]
  },
  {
   "cell_type": "markdown",
   "metadata": {},
   "source": [
    "아래 코드 셀은 이전 notebook에서 저장했던 공유 변수들을 불러옵니다."
   ]
  },
  {
   "cell_type": "code",
   "execution_count": 52,
   "metadata": {},
   "outputs": [],
   "source": [
    "%store -r"
   ]
  },
  {
   "cell_type": "markdown",
   "metadata": {},
   "source": [
    "생성할 오브젝트의 끝에 임의의 숫자를 부여하기 위해 suffix 정의"
   ]
  },
  {
   "cell_type": "code",
   "execution_count": 53,
   "metadata": {},
   "outputs": [],
   "source": [
    "# suffix = str(np.random.uniform())[4:9]"
   ]
  },
  {
   "cell_type": "markdown",
   "metadata": {},
   "source": [
    "## 솔루션 및 버전 생성\n",
    "\n",
    "Amazon Personalize에서 훈련된 모델을 솔루션이라고 하며, 각 솔루션에는 모델이 훈련되었을 때 주어진 데이터량과 관련된 많은 특정 버전들이 있을 수 있습니다.\n",
    "\n",
    "우선, Amazon Personalize에서 지원되는 모든 레시피(레시피는 아직 데이터에 대해 훈련되지 않은 알고리즘입니다.)들을 나열합니다. 리스트업된 레시피들 중 하나를 선택하고 이를 사용하여 모델을 빌드해 보세요.\n",
    "\n",
    "이 LAB에서 아래와 같은 모든 솔루션을 생성하여 성능을 비교하여 봅니다.\n",
    "\n",
    "    1) User-Personalization \n",
    "    2) HRNN\n",
    "    3) HRNN Coldstart\n",
    "    4) HRNN-Metadata\n",
    "    5) popularity-count \n",
    "    6) SIMS\n",
    "    7) Personalized Ranking\n",
    "\n",
    "이 프로세스의 완료는 실제로 40분 이상 소요됩니다. 작업이 완료될 때까지(즉, 활성화 상태가 될 때까지) while 루프를 수행하는 방법도 있지만, 이렇게 하면 다른 셀의 실행을 차단하게 됩니다. 따라서, 많은 모델을 만들어 신속하게 배포하려면 while 루프를 사용하는 대신, 필요한 솔루션 버전들을 생성 후, SageMaker 및 Cloudwatch에서 업데이트를 확인하세요.\n",
    "\n",
    "###  레시피 리스트 확인"
   ]
  },
  {
   "cell_type": "code",
   "execution_count": 54,
   "metadata": {},
   "outputs": [
    {
     "name": "stdout",
     "output_type": "stream",
     "text": [
      "arn:aws:personalize:::recipe/aws-hrnn\n",
      "arn:aws:personalize:::recipe/aws-hrnn-coldstart\n",
      "arn:aws:personalize:::recipe/aws-hrnn-metadata\n",
      "arn:aws:personalize:::recipe/aws-personalized-ranking\n",
      "arn:aws:personalize:::recipe/aws-popularity-count\n",
      "arn:aws:personalize:::recipe/aws-sims\n",
      "arn:aws:personalize:::recipe/aws-user-personalization\n"
     ]
    }
   ],
   "source": [
    "recipe_list = personalize.list_recipes()\n",
    "for recipe in recipe_list['recipes']:\n",
    "    print(recipe['recipeArn'])"
   ]
  },
  {
   "cell_type": "markdown",
   "metadata": {},
   "source": [
    "###  User-Personalization 솔루션 생성 "
   ]
  },
  {
   "cell_type": "code",
   "execution_count": 55,
   "metadata": {},
   "outputs": [],
   "source": [
    "# Recipe 선택 \n",
    "system_user_personalization_recipe_arn = \"arn:aws:personalize:::recipe/aws-user-personalization\"\n",
    "\n",
    "# Solution 생성 \n",
    "create_solution_response = personalize.create_solution(\n",
    "    name = \"Movielens-user-personalization-\" + suffix,\n",
    "    datasetGroupArn = dataset_group_arn,\n",
    "    recipeArn = system_user_personalization_recipe_arn,\n",
    ")"
   ]
  },
  {
   "cell_type": "code",
   "execution_count": 56,
   "metadata": {},
   "outputs": [
    {
     "name": "stdout",
     "output_type": "stream",
     "text": [
      "{\n",
      "  \"solutionArn\": \"arn:aws:personalize:ap-northeast-2:057716757052:solution/Movielens-user-personalization-60498\",\n",
      "  \"ResponseMetadata\": {\n",
      "    \"RequestId\": \"7e7e18e6-e31a-40aa-9328-ac8387826538\",\n",
      "    \"HTTPStatusCode\": 200,\n",
      "    \"HTTPHeaders\": {\n",
      "      \"content-type\": \"application/x-amz-json-1.1\",\n",
      "      \"date\": \"Mon, 07 Sep 2020 07:18:24 GMT\",\n",
      "      \"x-amzn-requestid\": \"7e7e18e6-e31a-40aa-9328-ac8387826538\",\n",
      "      \"content-length\": \"111\",\n",
      "      \"connection\": \"keep-alive\"\n",
      "    },\n",
      "    \"RetryAttempts\": 0\n",
      "  }\n",
      "}\n"
     ]
    }
   ],
   "source": [
    "user_personalization_solution_arn = create_solution_response['solutionArn']\n",
    "print(json.dumps(create_solution_response, indent=2))"
   ]
  },
  {
   "cell_type": "code",
   "execution_count": 57,
   "metadata": {},
   "outputs": [
    {
     "name": "stdout",
     "output_type": "stream",
     "text": [
      "{\n",
      "  \"solutionVersionArn\": \"arn:aws:personalize:ap-northeast-2:057716757052:solution/Movielens-user-personalization-60498/2ea58de0\",\n",
      "  \"ResponseMetadata\": {\n",
      "    \"RequestId\": \"6f6f2799-5ee3-4371-8fae-8a815a1710c2\",\n",
      "    \"HTTPStatusCode\": 200,\n",
      "    \"HTTPHeaders\": {\n",
      "      \"content-type\": \"application/x-amz-json-1.1\",\n",
      "      \"date\": \"Mon, 07 Sep 2020 07:18:25 GMT\",\n",
      "      \"x-amzn-requestid\": \"6f6f2799-5ee3-4371-8fae-8a815a1710c2\",\n",
      "      \"content-length\": \"127\",\n",
      "      \"connection\": \"keep-alive\"\n",
      "    },\n",
      "    \"RetryAttempts\": 0\n",
      "  }\n",
      "}\n"
     ]
    }
   ],
   "source": [
    "# 솔루션 버전 생성\n",
    "create_solution_version_response = personalize.create_solution_version(\n",
    "    solutionArn = user_personalization_solution_arn\n",
    ")\n",
    "\n",
    "user_personalization_solution_version_arn = create_solution_version_response['solutionVersionArn']\n",
    "print(json.dumps(create_solution_version_response, indent=2))"
   ]
  },
  {
   "cell_type": "markdown",
   "metadata": {},
   "source": [
    "###  Popularity Count 솔루션 생성 "
   ]
  },
  {
   "cell_type": "code",
   "execution_count": 58,
   "metadata": {},
   "outputs": [],
   "source": [
    "# Recipe 선택 \n",
    "system_popularity_recipe_arn = \"arn:aws:personalize:::recipe/aws-popularity-count\"\n",
    "\n",
    "# Solution 생성 \n",
    "create_solution_response = personalize.create_solution(\n",
    "    name = \"Movielens-popularity-\" + suffix,\n",
    "    datasetGroupArn = dataset_group_arn,\n",
    "    recipeArn = system_popularity_recipe_arn,\n",
    ")\n",
    "\n"
   ]
  },
  {
   "cell_type": "code",
   "execution_count": 59,
   "metadata": {},
   "outputs": [
    {
     "name": "stdout",
     "output_type": "stream",
     "text": [
      "{\n",
      "  \"solutionArn\": \"arn:aws:personalize:ap-northeast-2:057716757052:solution/Movielens-popularity-60498\",\n",
      "  \"ResponseMetadata\": {\n",
      "    \"RequestId\": \"e60fd9c4-f841-4061-9cc9-f9e3b5b2e36f\",\n",
      "    \"HTTPStatusCode\": 200,\n",
      "    \"HTTPHeaders\": {\n",
      "      \"content-type\": \"application/x-amz-json-1.1\",\n",
      "      \"date\": \"Mon, 07 Sep 2020 07:18:25 GMT\",\n",
      "      \"x-amzn-requestid\": \"e60fd9c4-f841-4061-9cc9-f9e3b5b2e36f\",\n",
      "      \"content-length\": \"101\",\n",
      "      \"connection\": \"keep-alive\"\n",
      "    },\n",
      "    \"RetryAttempts\": 0\n",
      "  }\n",
      "}\n"
     ]
    }
   ],
   "source": [
    "popularity_solution_arn = create_solution_response['solutionArn']\n",
    "print(json.dumps(create_solution_response, indent=2))"
   ]
  },
  {
   "cell_type": "code",
   "execution_count": 60,
   "metadata": {},
   "outputs": [
    {
     "name": "stdout",
     "output_type": "stream",
     "text": [
      "{\n",
      "  \"solutionVersionArn\": \"arn:aws:personalize:ap-northeast-2:057716757052:solution/Movielens-popularity-60498/a7709e59\",\n",
      "  \"ResponseMetadata\": {\n",
      "    \"RequestId\": \"e5870cc1-a676-41b6-95c6-6183f551e58d\",\n",
      "    \"HTTPStatusCode\": 200,\n",
      "    \"HTTPHeaders\": {\n",
      "      \"content-type\": \"application/x-amz-json-1.1\",\n",
      "      \"date\": \"Mon, 07 Sep 2020 07:18:24 GMT\",\n",
      "      \"x-amzn-requestid\": \"e5870cc1-a676-41b6-95c6-6183f551e58d\",\n",
      "      \"content-length\": \"117\",\n",
      "      \"connection\": \"keep-alive\"\n",
      "    },\n",
      "    \"RetryAttempts\": 0\n",
      "  }\n",
      "}\n"
     ]
    }
   ],
   "source": [
    "# 솔루션 버전 생성\n",
    "create_solution_version_response = personalize.create_solution_version(\n",
    "    solutionArn = popularity_solution_arn\n",
    ")\n",
    "\n",
    "popularity_solution_version_arn = create_solution_version_response['solutionVersionArn']\n",
    "print(json.dumps(create_solution_version_response, indent=2))"
   ]
  },
  {
   "cell_type": "markdown",
   "metadata": {},
   "source": [
    "### HRNN 솔루션 생성"
   ]
  },
  {
   "cell_type": "code",
   "execution_count": 61,
   "metadata": {},
   "outputs": [
    {
     "name": "stdout",
     "output_type": "stream",
     "text": [
      "{\n",
      "  \"solutionArn\": \"arn:aws:personalize:ap-northeast-2:057716757052:solution/Movielens-aws-hrnn-60498\",\n",
      "  \"ResponseMetadata\": {\n",
      "    \"RequestId\": \"ae131359-7c9c-44cb-961f-a0e4fb5baac1\",\n",
      "    \"HTTPStatusCode\": 200,\n",
      "    \"HTTPHeaders\": {\n",
      "      \"content-type\": \"application/x-amz-json-1.1\",\n",
      "      \"date\": \"Mon, 07 Sep 2020 07:18:25 GMT\",\n",
      "      \"x-amzn-requestid\": \"ae131359-7c9c-44cb-961f-a0e4fb5baac1\",\n",
      "      \"content-length\": \"99\",\n",
      "      \"connection\": \"keep-alive\"\n",
      "    },\n",
      "    \"RetryAttempts\": 0\n",
      "  }\n",
      "}\n"
     ]
    }
   ],
   "source": [
    " # Recipe 선택 \n",
    "system_hrnn_recipe_arn = \"arn:aws:personalize:::recipe/aws-hrnn\"\n",
    "\n",
    "\n",
    "# Solution 생성 \n",
    "create_solution_response = personalize.create_solution(\n",
    "    name = \"Movielens-aws-hrnn-\" + suffix,\n",
    "    datasetGroupArn = dataset_group_arn,\n",
    "    recipeArn = system_hrnn_recipe_arn,\n",
    ")\n",
    "\n",
    "hrnn_solution_arn = create_solution_response['solutionArn']\n",
    "print(json.dumps(create_solution_response, indent=2))"
   ]
  },
  {
   "cell_type": "code",
   "execution_count": 62,
   "metadata": {},
   "outputs": [
    {
     "name": "stdout",
     "output_type": "stream",
     "text": [
      "{\n",
      "  \"solutionVersionArn\": \"arn:aws:personalize:ap-northeast-2:057716757052:solution/Movielens-aws-hrnn-60498/b1d26512\",\n",
      "  \"ResponseMetadata\": {\n",
      "    \"RequestId\": \"7626cbe4-2577-4e1c-987b-0d198d630ff0\",\n",
      "    \"HTTPStatusCode\": 200,\n",
      "    \"HTTPHeaders\": {\n",
      "      \"content-type\": \"application/x-amz-json-1.1\",\n",
      "      \"date\": \"Mon, 07 Sep 2020 07:18:25 GMT\",\n",
      "      \"x-amzn-requestid\": \"7626cbe4-2577-4e1c-987b-0d198d630ff0\",\n",
      "      \"content-length\": \"115\",\n",
      "      \"connection\": \"keep-alive\"\n",
      "    },\n",
      "    \"RetryAttempts\": 0\n",
      "  }\n",
      "}\n"
     ]
    }
   ],
   "source": [
    "# 솔루션 버전 생성\n",
    "create_solution_version_response = personalize.create_solution_version(\n",
    "    solutionArn = hrnn_solution_arn\n",
    ")\n",
    "\n",
    "hrnn_solution_version_arn = create_solution_version_response['solutionVersionArn']\n",
    "print(json.dumps(create_solution_version_response, indent=2))"
   ]
  },
  {
   "cell_type": "markdown",
   "metadata": {},
   "source": [
    "### HRNN-Meta 솔루션 생성"
   ]
  },
  {
   "cell_type": "code",
   "execution_count": 63,
   "metadata": {},
   "outputs": [
    {
     "name": "stdout",
     "output_type": "stream",
     "text": [
      "{\n",
      "  \"solutionArn\": \"arn:aws:personalize:ap-northeast-2:057716757052:solution/Movielens-aws-hrnn-metadata-60498\",\n",
      "  \"ResponseMetadata\": {\n",
      "    \"RequestId\": \"9c52189c-ce5a-4364-b06b-1ed9161e5c2e\",\n",
      "    \"HTTPStatusCode\": 200,\n",
      "    \"HTTPHeaders\": {\n",
      "      \"content-type\": \"application/x-amz-json-1.1\",\n",
      "      \"date\": \"Mon, 07 Sep 2020 07:18:25 GMT\",\n",
      "      \"x-amzn-requestid\": \"9c52189c-ce5a-4364-b06b-1ed9161e5c2e\",\n",
      "      \"content-length\": \"108\",\n",
      "      \"connection\": \"keep-alive\"\n",
      "    },\n",
      "    \"RetryAttempts\": 0\n",
      "  }\n",
      "}\n"
     ]
    }
   ],
   "source": [
    " # Recipe 선택 \n",
    "system_hrnn_meta_recipe_arn = \"arn:aws:personalize:::recipe/aws-hrnn-metadata\"\n",
    "\n",
    "# Solution 생성 \n",
    "create_solution_response = personalize.create_solution(\n",
    "    name = \"Movielens-aws-hrnn-metadata-\" + suffix,\n",
    "    datasetGroupArn = dataset_group_arn,\n",
    "    recipeArn = system_hrnn_meta_recipe_arn,\n",
    ")\n",
    "\n",
    "hrnn_meta_solution_arn = create_solution_response['solutionArn']\n",
    "print(json.dumps(create_solution_response, indent=2))"
   ]
  },
  {
   "cell_type": "code",
   "execution_count": 64,
   "metadata": {},
   "outputs": [
    {
     "name": "stdout",
     "output_type": "stream",
     "text": [
      "{\n",
      "  \"solutionVersionArn\": \"arn:aws:personalize:ap-northeast-2:057716757052:solution/Movielens-aws-hrnn-metadata-60498/765fd88d\",\n",
      "  \"ResponseMetadata\": {\n",
      "    \"RequestId\": \"715ec704-8433-48b0-93e4-ac2c3b78cac9\",\n",
      "    \"HTTPStatusCode\": 200,\n",
      "    \"HTTPHeaders\": {\n",
      "      \"content-type\": \"application/x-amz-json-1.1\",\n",
      "      \"date\": \"Mon, 07 Sep 2020 07:18:26 GMT\",\n",
      "      \"x-amzn-requestid\": \"715ec704-8433-48b0-93e4-ac2c3b78cac9\",\n",
      "      \"content-length\": \"124\",\n",
      "      \"connection\": \"keep-alive\"\n",
      "    },\n",
      "    \"RetryAttempts\": 0\n",
      "  }\n",
      "}\n"
     ]
    }
   ],
   "source": [
    "# 솔루션 버전 생성\n",
    "create_solution_version_response = personalize.create_solution_version(\n",
    "    solutionArn = hrnn_meta_solution_arn\n",
    ")\n",
    "\n",
    "hrnn_meta_solution_version_arn = create_solution_version_response['solutionVersionArn']\n",
    "print(json.dumps(create_solution_version_response, indent=2))"
   ]
  },
  {
   "cell_type": "markdown",
   "metadata": {},
   "source": [
    "### HRNN ColdStart 솔루션 생성"
   ]
  },
  {
   "cell_type": "code",
   "execution_count": 65,
   "metadata": {},
   "outputs": [
    {
     "name": "stdout",
     "output_type": "stream",
     "text": [
      "{\n",
      "  \"solutionArn\": \"arn:aws:personalize:ap-northeast-2:057716757052:solution/Movielens-hrnn-coldstart-60498\",\n",
      "  \"ResponseMetadata\": {\n",
      "    \"RequestId\": \"419a6504-7778-476e-a130-8bc520271b1e\",\n",
      "    \"HTTPStatusCode\": 200,\n",
      "    \"HTTPHeaders\": {\n",
      "      \"content-type\": \"application/x-amz-json-1.1\",\n",
      "      \"date\": \"Mon, 07 Sep 2020 07:18:26 GMT\",\n",
      "      \"x-amzn-requestid\": \"419a6504-7778-476e-a130-8bc520271b1e\",\n",
      "      \"content-length\": \"105\",\n",
      "      \"connection\": \"keep-alive\"\n",
      "    },\n",
      "    \"RetryAttempts\": 0\n",
      "  }\n",
      "}\n"
     ]
    }
   ],
   "source": [
    " # Recipe 선택 \n",
    "system_hrnn_coldstart_recipe_arn = \"arn:aws:personalize:::recipe/aws-hrnn-coldstart\"\n",
    "\n",
    "# Solution 생성 \n",
    "create_solution_response = personalize.create_solution(\n",
    "    name = \"Movielens-hrnn-coldstart-\" + suffix,\n",
    "    datasetGroupArn = dataset_group_arn,\n",
    "    recipeArn = system_hrnn_coldstart_recipe_arn,\n",
    "    solutionConfig = {\n",
    "        \"featureTransformationParameters\" : {\n",
    "            'cold_start_max_duration' : '5',\n",
    "            'cold_start_relative_from' : 'latestItem',\n",
    "            'cold_start_max_interactions':'15'\n",
    "        }\n",
    "    }\n",
    ")\n",
    "\n",
    "hrnn_coldstart_solution_arn = create_solution_response['solutionArn']\n",
    "print(json.dumps(create_solution_response, indent=2))"
   ]
  },
  {
   "cell_type": "code",
   "execution_count": 66,
   "metadata": {},
   "outputs": [
    {
     "name": "stdout",
     "output_type": "stream",
     "text": [
      "{\n",
      "  \"solutionVersionArn\": \"arn:aws:personalize:ap-northeast-2:057716757052:solution/Movielens-hrnn-coldstart-60498/7e3c69db\",\n",
      "  \"ResponseMetadata\": {\n",
      "    \"RequestId\": \"21a1ff7b-2aa1-4e80-a30e-d406b07322b7\",\n",
      "    \"HTTPStatusCode\": 200,\n",
      "    \"HTTPHeaders\": {\n",
      "      \"content-type\": \"application/x-amz-json-1.1\",\n",
      "      \"date\": \"Mon, 07 Sep 2020 07:18:26 GMT\",\n",
      "      \"x-amzn-requestid\": \"21a1ff7b-2aa1-4e80-a30e-d406b07322b7\",\n",
      "      \"content-length\": \"121\",\n",
      "      \"connection\": \"keep-alive\"\n",
      "    },\n",
      "    \"RetryAttempts\": 0\n",
      "  }\n",
      "}\n"
     ]
    }
   ],
   "source": [
    "# 솔루션 버전 생성\n",
    "create_solution_version_response = personalize.create_solution_version(\n",
    "    solutionArn = hrnn_coldstart_solution_arn\n",
    ")\n",
    "\n",
    "hrnn_coldstart_solution_version_arn = create_solution_version_response['solutionVersionArn']\n",
    "print(json.dumps(create_solution_version_response, indent=2))"
   ]
  },
  {
   "cell_type": "markdown",
   "metadata": {},
   "source": [
    "### SIMS 솔루션 생성 "
   ]
  },
  {
   "cell_type": "code",
   "execution_count": 67,
   "metadata": {},
   "outputs": [
    {
     "name": "stdout",
     "output_type": "stream",
     "text": [
      "{\n",
      "  \"solutionArn\": \"arn:aws:personalize:ap-northeast-2:057716757052:solution/Movielens-sims-60498\",\n",
      "  \"ResponseMetadata\": {\n",
      "    \"RequestId\": \"dab76e57-3537-464e-b597-2e333b4d6e0e\",\n",
      "    \"HTTPStatusCode\": 200,\n",
      "    \"HTTPHeaders\": {\n",
      "      \"content-type\": \"application/x-amz-json-1.1\",\n",
      "      \"date\": \"Mon, 07 Sep 2020 07:18:26 GMT\",\n",
      "      \"x-amzn-requestid\": \"dab76e57-3537-464e-b597-2e333b4d6e0e\",\n",
      "      \"content-length\": \"95\",\n",
      "      \"connection\": \"keep-alive\"\n",
      "    },\n",
      "    \"RetryAttempts\": 0\n",
      "  }\n",
      "}\n"
     ]
    }
   ],
   "source": [
    " # Recipe 선택 \n",
    "system_sims_recipe_arn = \"arn:aws:personalize:::recipe/aws-sims\"\n",
    "\n",
    "# Solution 생성 \n",
    "create_solution_response = personalize.create_solution(\n",
    "    name = \"Movielens-sims-\" + suffix,\n",
    "    datasetGroupArn = dataset_group_arn,\n",
    "    recipeArn = system_sims_recipe_arn\n",
    ")\n",
    "\n",
    "sims_solution_arn = create_solution_response['solutionArn']\n",
    "print(json.dumps(create_solution_response, indent=2))"
   ]
  },
  {
   "cell_type": "code",
   "execution_count": 68,
   "metadata": {},
   "outputs": [
    {
     "name": "stdout",
     "output_type": "stream",
     "text": [
      "{\n",
      "  \"solutionVersionArn\": \"arn:aws:personalize:ap-northeast-2:057716757052:solution/Movielens-sims-60498/3d08ae29\",\n",
      "  \"ResponseMetadata\": {\n",
      "    \"RequestId\": \"80734eee-bf56-4354-9600-43f969c5e208\",\n",
      "    \"HTTPStatusCode\": 200,\n",
      "    \"HTTPHeaders\": {\n",
      "      \"content-type\": \"application/x-amz-json-1.1\",\n",
      "      \"date\": \"Mon, 07 Sep 2020 07:18:26 GMT\",\n",
      "      \"x-amzn-requestid\": \"80734eee-bf56-4354-9600-43f969c5e208\",\n",
      "      \"content-length\": \"111\",\n",
      "      \"connection\": \"keep-alive\"\n",
      "    },\n",
      "    \"RetryAttempts\": 0\n",
      "  }\n",
      "}\n"
     ]
    }
   ],
   "source": [
    "# 솔루션 버전 생성\n",
    "create_solution_version_response = personalize.create_solution_version(\n",
    "    solutionArn = sims_solution_arn\n",
    ")\n",
    "sims_solution_version_arn = create_solution_version_response['solutionVersionArn']\n",
    "print(json.dumps(create_solution_version_response, indent=2))"
   ]
  },
  {
   "cell_type": "markdown",
   "metadata": {},
   "source": [
    "### Personalize Ranking 솔루션 생성 "
   ]
  },
  {
   "cell_type": "code",
   "execution_count": 69,
   "metadata": {},
   "outputs": [
    {
     "name": "stdout",
     "output_type": "stream",
     "text": [
      "{\n",
      "  \"solutionArn\": \"arn:aws:personalize:ap-northeast-2:057716757052:solution/Movielens-ranking-60498\",\n",
      "  \"ResponseMetadata\": {\n",
      "    \"RequestId\": \"04191d3b-0efc-4a75-95d4-99616281d3f8\",\n",
      "    \"HTTPStatusCode\": 200,\n",
      "    \"HTTPHeaders\": {\n",
      "      \"content-type\": \"application/x-amz-json-1.1\",\n",
      "      \"date\": \"Mon, 07 Sep 2020 07:18:26 GMT\",\n",
      "      \"x-amzn-requestid\": \"04191d3b-0efc-4a75-95d4-99616281d3f8\",\n",
      "      \"content-length\": \"98\",\n",
      "      \"connection\": \"keep-alive\"\n",
      "    },\n",
      "    \"RetryAttempts\": 0\n",
      "  }\n",
      "}\n"
     ]
    }
   ],
   "source": [
    " # Recipe 선택 \n",
    "system_ranking_recipe_arn = \"arn:aws:personalize:::recipe/aws-personalized-ranking\"\n",
    "\n",
    "# Solution 생성 \n",
    "create_solution_response = personalize.create_solution(\n",
    "    name = \"Movielens-ranking-\" + suffix,\n",
    "    datasetGroupArn = dataset_group_arn,\n",
    "    recipeArn = system_ranking_recipe_arn\n",
    ")\n",
    "\n",
    "ranking_solution_arn = create_solution_response['solutionArn']\n",
    "print(json.dumps(create_solution_response, indent=2))"
   ]
  },
  {
   "cell_type": "code",
   "execution_count": 70,
   "metadata": {},
   "outputs": [
    {
     "name": "stdout",
     "output_type": "stream",
     "text": [
      "{\n",
      "  \"solutionVersionArn\": \"arn:aws:personalize:ap-northeast-2:057716757052:solution/Movielens-ranking-60498/f669db6d\",\n",
      "  \"ResponseMetadata\": {\n",
      "    \"RequestId\": \"d6e88695-aba5-41dd-a9bc-123ded7eb2e6\",\n",
      "    \"HTTPStatusCode\": 200,\n",
      "    \"HTTPHeaders\": {\n",
      "      \"content-type\": \"application/x-amz-json-1.1\",\n",
      "      \"date\": \"Mon, 07 Sep 2020 07:18:27 GMT\",\n",
      "      \"x-amzn-requestid\": \"d6e88695-aba5-41dd-a9bc-123ded7eb2e6\",\n",
      "      \"content-length\": \"114\",\n",
      "      \"connection\": \"keep-alive\"\n",
      "    },\n",
      "    \"RetryAttempts\": 0\n",
      "  }\n",
      "}\n"
     ]
    }
   ],
   "source": [
    "# 솔루션 버전 생성\n",
    "create_solution_version_response = personalize.create_solution_version(\n",
    "    solutionArn = ranking_solution_arn\n",
    ")\n",
    "ranking_solution_version_arn = create_solution_version_response['solutionVersionArn']\n",
    "print(json.dumps(create_solution_version_response, indent=2))"
   ]
  },
  {
   "cell_type": "markdown",
   "metadata": {},
   "source": [
    "### 모델 생성 확인 하기 \n",
    "아래 코드 실행하여 모델 생성 여부를 확인합니다. "
   ]
  },
  {
   "cell_type": "code",
   "execution_count": 71,
   "metadata": {},
   "outputs": [
    {
     "name": "stdout",
     "output_type": "stream",
     "text": [
      "user_personalization SolutionVersion: CREATE PENDING\n",
      "Popularity SolutionVersion: CREATE PENDING\n",
      "HRNN SolutionVersion: CREATE PENDING\n",
      "HRNN Meta SolutionVersion: CREATE PENDING\n",
      "HRNN ColdStart SolutionVersion: CREATE PENDING\n",
      "Sims SolutionVersion: CREATE PENDING\n",
      "Ranking SolutionVersion: CREATE PENDING\n",
      "-------------------------------------->\n",
      "user_personalization SolutionVersion: CREATE IN_PROGRESS\n",
      "Popularity SolutionVersion: CREATE IN_PROGRESS\n",
      "HRNN SolutionVersion: CREATE IN_PROGRESS\n",
      "HRNN Meta SolutionVersion: CREATE IN_PROGRESS\n",
      "HRNN ColdStart SolutionVersion: CREATE IN_PROGRESS\n",
      "Sims SolutionVersion: CREATE IN_PROGRESS\n",
      "Ranking SolutionVersion: CREATE IN_PROGRESS\n",
      "-------------------------------------->\n",
      "user_personalization SolutionVersion: CREATE IN_PROGRESS\n",
      "Popularity SolutionVersion: CREATE IN_PROGRESS\n",
      "HRNN SolutionVersion: CREATE IN_PROGRESS\n",
      "HRNN Meta SolutionVersion: CREATE IN_PROGRESS\n",
      "HRNN ColdStart SolutionVersion: CREATE IN_PROGRESS\n",
      "Sims SolutionVersion: CREATE IN_PROGRESS\n",
      "Ranking SolutionVersion: CREATE IN_PROGRESS\n",
      "-------------------------------------->\n",
      "user_personalization SolutionVersion: CREATE IN_PROGRESS\n",
      "Popularity SolutionVersion: CREATE IN_PROGRESS\n",
      "HRNN SolutionVersion: CREATE IN_PROGRESS\n",
      "HRNN Meta SolutionVersion: CREATE IN_PROGRESS\n",
      "HRNN ColdStart SolutionVersion: CREATE IN_PROGRESS\n",
      "Sims SolutionVersion: CREATE IN_PROGRESS\n",
      "Ranking SolutionVersion: CREATE IN_PROGRESS\n",
      "-------------------------------------->\n",
      "user_personalization SolutionVersion: CREATE IN_PROGRESS\n",
      "Popularity SolutionVersion: CREATE IN_PROGRESS\n",
      "HRNN SolutionVersion: CREATE IN_PROGRESS\n",
      "HRNN Meta SolutionVersion: CREATE IN_PROGRESS\n",
      "HRNN ColdStart SolutionVersion: CREATE IN_PROGRESS\n",
      "Sims SolutionVersion: CREATE IN_PROGRESS\n",
      "Ranking SolutionVersion: CREATE IN_PROGRESS\n",
      "-------------------------------------->\n",
      "user_personalization SolutionVersion: CREATE IN_PROGRESS\n",
      "Popularity SolutionVersion: CREATE IN_PROGRESS\n",
      "HRNN SolutionVersion: CREATE IN_PROGRESS\n",
      "HRNN Meta SolutionVersion: CREATE IN_PROGRESS\n",
      "HRNN ColdStart SolutionVersion: CREATE IN_PROGRESS\n",
      "Sims SolutionVersion: CREATE IN_PROGRESS\n",
      "Ranking SolutionVersion: CREATE IN_PROGRESS\n",
      "-------------------------------------->\n",
      "user_personalization SolutionVersion: CREATE IN_PROGRESS\n",
      "Popularity SolutionVersion: CREATE IN_PROGRESS\n",
      "HRNN SolutionVersion: CREATE IN_PROGRESS\n",
      "HRNN Meta SolutionVersion: CREATE IN_PROGRESS\n",
      "HRNN ColdStart SolutionVersion: CREATE IN_PROGRESS\n",
      "Sims SolutionVersion: CREATE IN_PROGRESS\n",
      "Ranking SolutionVersion: CREATE IN_PROGRESS\n",
      "-------------------------------------->\n",
      "user_personalization SolutionVersion: CREATE IN_PROGRESS\n",
      "Popularity SolutionVersion: CREATE IN_PROGRESS\n",
      "HRNN SolutionVersion: CREATE IN_PROGRESS\n",
      "HRNN Meta SolutionVersion: CREATE IN_PROGRESS\n",
      "HRNN ColdStart SolutionVersion: CREATE IN_PROGRESS\n",
      "Sims SolutionVersion: CREATE IN_PROGRESS\n",
      "Ranking SolutionVersion: CREATE IN_PROGRESS\n",
      "-------------------------------------->\n",
      "user_personalization SolutionVersion: CREATE IN_PROGRESS\n",
      "Popularity SolutionVersion: CREATE IN_PROGRESS\n",
      "HRNN SolutionVersion: CREATE IN_PROGRESS\n",
      "HRNN Meta SolutionVersion: CREATE IN_PROGRESS\n",
      "HRNN ColdStart SolutionVersion: CREATE IN_PROGRESS\n",
      "Sims SolutionVersion: CREATE IN_PROGRESS\n",
      "Ranking SolutionVersion: CREATE IN_PROGRESS\n",
      "-------------------------------------->\n",
      "user_personalization SolutionVersion: CREATE IN_PROGRESS\n",
      "Popularity SolutionVersion: CREATE IN_PROGRESS\n",
      "HRNN SolutionVersion: CREATE IN_PROGRESS\n",
      "HRNN Meta SolutionVersion: CREATE IN_PROGRESS\n",
      "HRNN ColdStart SolutionVersion: CREATE IN_PROGRESS\n",
      "Sims SolutionVersion: CREATE IN_PROGRESS\n",
      "Ranking SolutionVersion: CREATE IN_PROGRESS\n",
      "-------------------------------------->\n",
      "user_personalization SolutionVersion: CREATE IN_PROGRESS\n",
      "Popularity SolutionVersion: CREATE IN_PROGRESS\n",
      "HRNN SolutionVersion: CREATE IN_PROGRESS\n",
      "HRNN Meta SolutionVersion: CREATE IN_PROGRESS\n",
      "HRNN ColdStart SolutionVersion: CREATE IN_PROGRESS\n",
      "Sims SolutionVersion: CREATE IN_PROGRESS\n",
      "Ranking SolutionVersion: CREATE IN_PROGRESS\n",
      "-------------------------------------->\n",
      "user_personalization SolutionVersion: CREATE IN_PROGRESS\n",
      "Popularity SolutionVersion: CREATE IN_PROGRESS\n",
      "HRNN SolutionVersion: CREATE IN_PROGRESS\n",
      "HRNN Meta SolutionVersion: CREATE IN_PROGRESS\n",
      "HRNN ColdStart SolutionVersion: CREATE IN_PROGRESS\n",
      "Sims SolutionVersion: CREATE IN_PROGRESS\n",
      "Ranking SolutionVersion: CREATE IN_PROGRESS\n",
      "-------------------------------------->\n",
      "user_personalization SolutionVersion: CREATE IN_PROGRESS\n",
      "Popularity SolutionVersion: CREATE IN_PROGRESS\n",
      "HRNN SolutionVersion: CREATE IN_PROGRESS\n",
      "HRNN Meta SolutionVersion: CREATE IN_PROGRESS\n",
      "HRNN ColdStart SolutionVersion: CREATE IN_PROGRESS\n",
      "Sims SolutionVersion: CREATE IN_PROGRESS\n",
      "Ranking SolutionVersion: CREATE IN_PROGRESS\n",
      "-------------------------------------->\n",
      "user_personalization SolutionVersion: CREATE IN_PROGRESS\n",
      "Popularity SolutionVersion: CREATE IN_PROGRESS\n",
      "HRNN SolutionVersion: CREATE IN_PROGRESS\n",
      "HRNN Meta SolutionVersion: CREATE IN_PROGRESS\n",
      "HRNN ColdStart SolutionVersion: CREATE IN_PROGRESS\n",
      "Sims SolutionVersion: CREATE IN_PROGRESS\n",
      "Ranking SolutionVersion: CREATE IN_PROGRESS\n",
      "-------------------------------------->\n",
      "user_personalization SolutionVersion: CREATE IN_PROGRESS\n",
      "Popularity SolutionVersion: CREATE IN_PROGRESS\n",
      "HRNN SolutionVersion: CREATE IN_PROGRESS\n",
      "HRNN Meta SolutionVersion: CREATE IN_PROGRESS\n",
      "HRNN ColdStart SolutionVersion: CREATE IN_PROGRESS\n",
      "Sims SolutionVersion: CREATE IN_PROGRESS\n",
      "Ranking SolutionVersion: CREATE IN_PROGRESS\n",
      "-------------------------------------->\n",
      "user_personalization SolutionVersion: CREATE IN_PROGRESS\n",
      "Popularity SolutionVersion: CREATE IN_PROGRESS\n",
      "HRNN SolutionVersion: CREATE IN_PROGRESS\n",
      "HRNN Meta SolutionVersion: CREATE IN_PROGRESS\n",
      "HRNN ColdStart SolutionVersion: CREATE IN_PROGRESS\n",
      "Sims SolutionVersion: CREATE IN_PROGRESS\n",
      "Ranking SolutionVersion: CREATE IN_PROGRESS\n",
      "-------------------------------------->\n",
      "user_personalization SolutionVersion: CREATE IN_PROGRESS\n",
      "Popularity SolutionVersion: CREATE IN_PROGRESS\n",
      "HRNN SolutionVersion: CREATE IN_PROGRESS\n",
      "HRNN Meta SolutionVersion: CREATE IN_PROGRESS\n",
      "HRNN ColdStart SolutionVersion: CREATE IN_PROGRESS\n",
      "Sims SolutionVersion: CREATE IN_PROGRESS\n",
      "Ranking SolutionVersion: CREATE IN_PROGRESS\n",
      "-------------------------------------->\n",
      "user_personalization SolutionVersion: CREATE IN_PROGRESS\n",
      "Popularity SolutionVersion: CREATE IN_PROGRESS\n",
      "HRNN SolutionVersion: CREATE IN_PROGRESS\n",
      "HRNN Meta SolutionVersion: CREATE IN_PROGRESS\n",
      "HRNN ColdStart SolutionVersion: CREATE IN_PROGRESS\n",
      "Sims SolutionVersion: CREATE IN_PROGRESS\n",
      "Ranking SolutionVersion: CREATE IN_PROGRESS\n",
      "-------------------------------------->\n",
      "user_personalization SolutionVersion: CREATE IN_PROGRESS\n",
      "Popularity SolutionVersion: CREATE IN_PROGRESS\n",
      "HRNN SolutionVersion: CREATE IN_PROGRESS\n",
      "HRNN Meta SolutionVersion: CREATE IN_PROGRESS\n",
      "HRNN ColdStart SolutionVersion: CREATE IN_PROGRESS\n",
      "Sims SolutionVersion: CREATE IN_PROGRESS\n",
      "Ranking SolutionVersion: CREATE IN_PROGRESS\n",
      "-------------------------------------->\n",
      "user_personalization SolutionVersion: CREATE IN_PROGRESS\n",
      "Popularity SolutionVersion: CREATE IN_PROGRESS\n",
      "HRNN SolutionVersion: CREATE IN_PROGRESS\n",
      "HRNN Meta SolutionVersion: CREATE IN_PROGRESS\n",
      "HRNN ColdStart SolutionVersion: CREATE IN_PROGRESS\n",
      "Sims SolutionVersion: CREATE IN_PROGRESS\n",
      "Ranking SolutionVersion: CREATE IN_PROGRESS\n",
      "-------------------------------------->\n",
      "user_personalization SolutionVersion: CREATE IN_PROGRESS\n",
      "Popularity SolutionVersion: CREATE IN_PROGRESS\n",
      "HRNN SolutionVersion: CREATE IN_PROGRESS\n",
      "HRNN Meta SolutionVersion: CREATE IN_PROGRESS\n",
      "HRNN ColdStart SolutionVersion: CREATE IN_PROGRESS\n",
      "Sims SolutionVersion: CREATE IN_PROGRESS\n",
      "Ranking SolutionVersion: CREATE IN_PROGRESS\n",
      "-------------------------------------->\n",
      "user_personalization SolutionVersion: CREATE IN_PROGRESS\n",
      "Popularity SolutionVersion: CREATE IN_PROGRESS\n",
      "HRNN SolutionVersion: CREATE IN_PROGRESS\n",
      "HRNN Meta SolutionVersion: CREATE IN_PROGRESS\n",
      "HRNN ColdStart SolutionVersion: CREATE IN_PROGRESS\n",
      "Sims SolutionVersion: CREATE IN_PROGRESS\n",
      "Ranking SolutionVersion: CREATE IN_PROGRESS\n",
      "-------------------------------------->\n",
      "user_personalization SolutionVersion: CREATE IN_PROGRESS\n",
      "Popularity SolutionVersion: CREATE IN_PROGRESS\n",
      "HRNN SolutionVersion: CREATE IN_PROGRESS\n",
      "HRNN Meta SolutionVersion: CREATE IN_PROGRESS\n",
      "HRNN ColdStart SolutionVersion: CREATE IN_PROGRESS\n",
      "Sims SolutionVersion: CREATE IN_PROGRESS\n",
      "Ranking SolutionVersion: CREATE IN_PROGRESS\n",
      "-------------------------------------->\n",
      "user_personalization SolutionVersion: CREATE IN_PROGRESS\n",
      "Popularity SolutionVersion: CREATE IN_PROGRESS\n",
      "HRNN SolutionVersion: CREATE IN_PROGRESS\n",
      "HRNN Meta SolutionVersion: CREATE IN_PROGRESS\n",
      "HRNN ColdStart SolutionVersion: CREATE IN_PROGRESS\n",
      "Sims SolutionVersion: CREATE IN_PROGRESS\n",
      "Ranking SolutionVersion: CREATE IN_PROGRESS\n",
      "-------------------------------------->\n",
      "user_personalization SolutionVersion: CREATE IN_PROGRESS\n",
      "Popularity SolutionVersion: CREATE IN_PROGRESS\n",
      "HRNN SolutionVersion: CREATE IN_PROGRESS\n",
      "HRNN Meta SolutionVersion: CREATE IN_PROGRESS\n",
      "HRNN ColdStart SolutionVersion: CREATE IN_PROGRESS\n",
      "Sims SolutionVersion: CREATE IN_PROGRESS\n",
      "Ranking SolutionVersion: CREATE IN_PROGRESS\n",
      "-------------------------------------->\n",
      "user_personalization SolutionVersion: CREATE IN_PROGRESS\n",
      "Popularity SolutionVersion: CREATE IN_PROGRESS\n",
      "HRNN SolutionVersion: CREATE IN_PROGRESS\n",
      "HRNN Meta SolutionVersion: CREATE IN_PROGRESS\n",
      "HRNN ColdStart SolutionVersion: CREATE IN_PROGRESS\n",
      "Sims SolutionVersion: CREATE IN_PROGRESS\n",
      "Ranking SolutionVersion: CREATE IN_PROGRESS\n",
      "-------------------------------------->\n",
      "user_personalization SolutionVersion: CREATE IN_PROGRESS\n",
      "Popularity SolutionVersion: CREATE IN_PROGRESS\n",
      "HRNN SolutionVersion: CREATE IN_PROGRESS\n",
      "HRNN Meta SolutionVersion: CREATE IN_PROGRESS\n",
      "HRNN ColdStart SolutionVersion: CREATE IN_PROGRESS\n",
      "Sims SolutionVersion: CREATE IN_PROGRESS\n",
      "Ranking SolutionVersion: CREATE IN_PROGRESS\n",
      "-------------------------------------->\n",
      "user_personalization SolutionVersion: CREATE IN_PROGRESS\n",
      "Popularity SolutionVersion: CREATE IN_PROGRESS\n",
      "HRNN SolutionVersion: CREATE IN_PROGRESS\n",
      "HRNN Meta SolutionVersion: CREATE IN_PROGRESS\n",
      "HRNN ColdStart SolutionVersion: CREATE IN_PROGRESS\n",
      "Sims SolutionVersion: CREATE IN_PROGRESS\n",
      "Ranking SolutionVersion: CREATE IN_PROGRESS\n",
      "-------------------------------------->\n",
      "user_personalization SolutionVersion: CREATE IN_PROGRESS\n",
      "Popularity SolutionVersion: CREATE IN_PROGRESS\n",
      "HRNN SolutionVersion: CREATE IN_PROGRESS\n",
      "HRNN Meta SolutionVersion: CREATE IN_PROGRESS\n",
      "HRNN ColdStart SolutionVersion: CREATE IN_PROGRESS\n",
      "Sims SolutionVersion: CREATE IN_PROGRESS\n",
      "Ranking SolutionVersion: CREATE IN_PROGRESS\n",
      "-------------------------------------->\n",
      "user_personalization SolutionVersion: CREATE IN_PROGRESS\n",
      "Popularity SolutionVersion: CREATE IN_PROGRESS\n",
      "HRNN SolutionVersion: CREATE IN_PROGRESS\n",
      "HRNN Meta SolutionVersion: CREATE IN_PROGRESS\n",
      "HRNN ColdStart SolutionVersion: CREATE IN_PROGRESS\n",
      "Sims SolutionVersion: CREATE IN_PROGRESS\n",
      "Ranking SolutionVersion: CREATE IN_PROGRESS\n",
      "-------------------------------------->\n",
      "user_personalization SolutionVersion: CREATE IN_PROGRESS\n",
      "Popularity SolutionVersion: CREATE IN_PROGRESS\n",
      "HRNN SolutionVersion: CREATE IN_PROGRESS\n",
      "HRNN Meta SolutionVersion: CREATE IN_PROGRESS\n",
      "HRNN ColdStart SolutionVersion: CREATE IN_PROGRESS\n",
      "Sims SolutionVersion: CREATE IN_PROGRESS\n",
      "Ranking SolutionVersion: CREATE IN_PROGRESS\n",
      "-------------------------------------->\n",
      "user_personalization SolutionVersion: CREATE IN_PROGRESS\n",
      "Popularity SolutionVersion: CREATE IN_PROGRESS\n",
      "HRNN SolutionVersion: CREATE IN_PROGRESS\n",
      "HRNN Meta SolutionVersion: CREATE IN_PROGRESS\n",
      "HRNN ColdStart SolutionVersion: CREATE IN_PROGRESS\n",
      "Sims SolutionVersion: CREATE IN_PROGRESS\n",
      "Ranking SolutionVersion: CREATE IN_PROGRESS\n",
      "-------------------------------------->\n",
      "user_personalization SolutionVersion: CREATE IN_PROGRESS\n",
      "Popularity SolutionVersion: CREATE IN_PROGRESS\n",
      "HRNN SolutionVersion: CREATE IN_PROGRESS\n",
      "HRNN Meta SolutionVersion: CREATE IN_PROGRESS\n",
      "HRNN ColdStart SolutionVersion: CREATE IN_PROGRESS\n",
      "Sims SolutionVersion: CREATE IN_PROGRESS\n",
      "Ranking SolutionVersion: CREATE IN_PROGRESS\n",
      "-------------------------------------->\n",
      "user_personalization SolutionVersion: CREATE IN_PROGRESS\n",
      "Popularity SolutionVersion: CREATE IN_PROGRESS\n",
      "HRNN SolutionVersion: CREATE IN_PROGRESS\n",
      "HRNN Meta SolutionVersion: CREATE IN_PROGRESS\n",
      "HRNN ColdStart SolutionVersion: CREATE IN_PROGRESS\n",
      "Sims SolutionVersion: CREATE IN_PROGRESS\n",
      "Ranking SolutionVersion: CREATE IN_PROGRESS\n",
      "-------------------------------------->\n",
      "user_personalization SolutionVersion: CREATE IN_PROGRESS\n",
      "Popularity SolutionVersion: CREATE IN_PROGRESS\n",
      "HRNN SolutionVersion: CREATE IN_PROGRESS\n",
      "HRNN Meta SolutionVersion: CREATE IN_PROGRESS\n",
      "HRNN ColdStart SolutionVersion: CREATE IN_PROGRESS\n",
      "Sims SolutionVersion: ACTIVE\n",
      "Ranking SolutionVersion: CREATE IN_PROGRESS\n",
      "-------------------------------------->\n",
      "user_personalization SolutionVersion: CREATE IN_PROGRESS\n",
      "Popularity SolutionVersion: ACTIVE\n",
      "HRNN SolutionVersion: CREATE IN_PROGRESS\n",
      "HRNN Meta SolutionVersion: CREATE IN_PROGRESS\n",
      "HRNN ColdStart SolutionVersion: CREATE IN_PROGRESS\n",
      "Sims SolutionVersion: ACTIVE\n",
      "Ranking SolutionVersion: CREATE IN_PROGRESS\n",
      "-------------------------------------->\n",
      "user_personalization SolutionVersion: CREATE IN_PROGRESS\n",
      "Popularity SolutionVersion: ACTIVE\n",
      "HRNN SolutionVersion: CREATE IN_PROGRESS\n",
      "HRNN Meta SolutionVersion: CREATE IN_PROGRESS\n",
      "HRNN ColdStart SolutionVersion: ACTIVE\n",
      "Sims SolutionVersion: ACTIVE\n",
      "Ranking SolutionVersion: CREATE IN_PROGRESS\n",
      "-------------------------------------->\n",
      "user_personalization SolutionVersion: CREATE IN_PROGRESS\n",
      "Popularity SolutionVersion: ACTIVE\n",
      "HRNN SolutionVersion: CREATE IN_PROGRESS\n",
      "HRNN Meta SolutionVersion: CREATE IN_PROGRESS\n",
      "HRNN ColdStart SolutionVersion: ACTIVE\n",
      "Sims SolutionVersion: ACTIVE\n",
      "Ranking SolutionVersion: CREATE IN_PROGRESS\n",
      "-------------------------------------->\n",
      "user_personalization SolutionVersion: CREATE IN_PROGRESS\n",
      "Popularity SolutionVersion: ACTIVE\n",
      "HRNN SolutionVersion: CREATE IN_PROGRESS\n",
      "HRNN Meta SolutionVersion: CREATE IN_PROGRESS\n",
      "HRNN ColdStart SolutionVersion: ACTIVE\n",
      "Sims SolutionVersion: ACTIVE\n",
      "Ranking SolutionVersion: CREATE IN_PROGRESS\n",
      "-------------------------------------->\n",
      "user_personalization SolutionVersion: CREATE IN_PROGRESS\n",
      "Popularity SolutionVersion: ACTIVE\n",
      "HRNN SolutionVersion: ACTIVE\n",
      "HRNN Meta SolutionVersion: CREATE IN_PROGRESS\n",
      "HRNN ColdStart SolutionVersion: ACTIVE\n",
      "Sims SolutionVersion: ACTIVE\n",
      "Ranking SolutionVersion: CREATE IN_PROGRESS\n",
      "-------------------------------------->\n",
      "user_personalization SolutionVersion: ACTIVE\n",
      "Popularity SolutionVersion: ACTIVE\n",
      "HRNN SolutionVersion: ACTIVE\n",
      "HRNN Meta SolutionVersion: CREATE IN_PROGRESS\n",
      "HRNN ColdStart SolutionVersion: ACTIVE\n",
      "Sims SolutionVersion: ACTIVE\n",
      "Ranking SolutionVersion: CREATE IN_PROGRESS\n",
      "-------------------------------------->\n",
      "user_personalization SolutionVersion: ACTIVE\n",
      "Popularity SolutionVersion: ACTIVE\n",
      "HRNN SolutionVersion: ACTIVE\n",
      "HRNN Meta SolutionVersion: CREATE IN_PROGRESS\n",
      "HRNN ColdStart SolutionVersion: ACTIVE\n",
      "Sims SolutionVersion: ACTIVE\n",
      "Ranking SolutionVersion: CREATE IN_PROGRESS\n",
      "-------------------------------------->\n",
      "user_personalization SolutionVersion: ACTIVE\n",
      "Popularity SolutionVersion: ACTIVE\n",
      "HRNN SolutionVersion: ACTIVE\n",
      "HRNN Meta SolutionVersion: ACTIVE\n",
      "HRNN ColdStart SolutionVersion: ACTIVE\n",
      "Sims SolutionVersion: ACTIVE\n",
      "Ranking SolutionVersion: CREATE IN_PROGRESS\n",
      "-------------------------------------->\n",
      "user_personalization SolutionVersion: ACTIVE\n",
      "Popularity SolutionVersion: ACTIVE\n",
      "HRNN SolutionVersion: ACTIVE\n",
      "HRNN Meta SolutionVersion: ACTIVE\n",
      "HRNN ColdStart SolutionVersion: ACTIVE\n",
      "Sims SolutionVersion: ACTIVE\n",
      "Ranking SolutionVersion: CREATE IN_PROGRESS\n",
      "-------------------------------------->\n",
      "user_personalization SolutionVersion: ACTIVE\n",
      "Popularity SolutionVersion: ACTIVE\n",
      "HRNN SolutionVersion: ACTIVE\n",
      "HRNN Meta SolutionVersion: ACTIVE\n",
      "HRNN ColdStart SolutionVersion: ACTIVE\n",
      "Sims SolutionVersion: ACTIVE\n",
      "Ranking SolutionVersion: CREATE IN_PROGRESS\n",
      "-------------------------------------->\n",
      "user_personalization SolutionVersion: ACTIVE\n",
      "Popularity SolutionVersion: ACTIVE\n",
      "HRNN SolutionVersion: ACTIVE\n",
      "HRNN Meta SolutionVersion: ACTIVE\n",
      "HRNN ColdStart SolutionVersion: ACTIVE\n",
      "Sims SolutionVersion: ACTIVE\n",
      "Ranking SolutionVersion: CREATE IN_PROGRESS\n",
      "-------------------------------------->\n",
      "user_personalization SolutionVersion: ACTIVE\n",
      "Popularity SolutionVersion: ACTIVE\n",
      "HRNN SolutionVersion: ACTIVE\n",
      "HRNN Meta SolutionVersion: ACTIVE\n",
      "HRNN ColdStart SolutionVersion: ACTIVE\n",
      "Sims SolutionVersion: ACTIVE\n",
      "Ranking SolutionVersion: CREATE IN_PROGRESS\n",
      "-------------------------------------->\n",
      "user_personalization SolutionVersion: ACTIVE\n",
      "Popularity SolutionVersion: ACTIVE\n",
      "HRNN SolutionVersion: ACTIVE\n",
      "HRNN Meta SolutionVersion: ACTIVE\n",
      "HRNN ColdStart SolutionVersion: ACTIVE\n",
      "Sims SolutionVersion: ACTIVE\n",
      "Ranking SolutionVersion: ACTIVE\n",
      "All solution creation completed\n",
      "CPU times: user 719 ms, sys: 68.1 ms, total: 787 ms\n",
      "Wall time: 47min 9s\n"
     ]
    }
   ],
   "source": [
    "%%time\n",
    "\n",
    "\n",
    "max_time = time.time() + 3*60*60 # 3 hours\n",
    "while time.time() < max_time:\n",
    "    ##user_personalization Status\n",
    "    #hrnn status\n",
    "    describe_solution_version_response = personalize.describe_solution_version(\n",
    "        solutionVersionArn = user_personalization_solution_version_arn\n",
    "    )  \n",
    "    status_user_per = describe_solution_version_response[\"solutionVersion\"][\"status\"]\n",
    "    print(\"user_personalization SolutionVersion: {}\".format(status_user_per))\n",
    "    \n",
    "    ##Popularity Status\n",
    "    #hrnn status\n",
    "    describe_solution_version_response = personalize.describe_solution_version(\n",
    "        solutionVersionArn = popularity_solution_version_arn\n",
    "    )  \n",
    "    status_pop = describe_solution_version_response[\"solutionVersion\"][\"status\"]\n",
    "    print(\"Popularity SolutionVersion: {}\".format(status_pop))\n",
    "    \n",
    "    #hrnn status\n",
    "    describe_solution_version_response = personalize.describe_solution_version(\n",
    "        solutionVersionArn = hrnn_solution_version_arn\n",
    "    )  \n",
    "    status_hrnn = describe_solution_version_response[\"solutionVersion\"][\"status\"]\n",
    "    print(\"HRNN SolutionVersion: {}\".format(status_hrnn))\n",
    "\n",
    "    #hrnn_meta status\n",
    "    describe_solution_version_response = personalize.describe_solution_version(\n",
    "        solutionVersionArn = hrnn_meta_solution_version_arn\n",
    "    )\n",
    "    status_hrnn_meta = describe_solution_version_response[\"solutionVersion\"][\"status\"]    \n",
    "    print(\"HRNN Meta SolutionVersion: {}\".format(status_hrnn_meta))\n",
    "    \n",
    "    \n",
    "    #hrnn_coldstart status\n",
    "    describe_solution_version_response = personalize.describe_solution_version(\n",
    "        solutionVersionArn = hrnn_coldstart_solution_version_arn\n",
    "    )\n",
    "    status_hrnn_cs = describe_solution_version_response[\"solutionVersion\"][\"status\"]    \n",
    "    print(\"HRNN ColdStart SolutionVersion: {}\".format(status_hrnn_cs))\n",
    "    \n",
    "    #sims status\n",
    "    describe_solution_version_response = personalize.describe_solution_version(\n",
    "    solutionVersionArn = sims_solution_version_arn\n",
    "    )\n",
    "    status_sims = describe_solution_version_response[\"solutionVersion\"][\"status\"]\n",
    "    print(\"Sims SolutionVersion: {}\".format(status_sims))\n",
    "    \n",
    "    #ranking status\n",
    "    describe_solution_version_response = personalize.describe_solution_version(\n",
    "        solutionVersionArn = ranking_solution_version_arn\n",
    "    )\n",
    "    status_ranking= describe_solution_version_response[\"solutionVersion\"][\"status\"]    \n",
    "    print(\"Ranking SolutionVersion: {}\".format(status_ranking))    \n",
    "    \n",
    "    if (status_user_per == \"ACTIVE\" or status_user_per == \"CREATE FAILED\") &\\\n",
    "       (status_pop == \"ACTIVE\" or status_pop == \"CREATE FAILED\") &\\\n",
    "       (status_hrnn == \"ACTIVE\" or status_hrnn == \"CREATE FAILED\") &\\\n",
    "       (status_hrnn_meta == \"ACTIVE\" or status_hrnn_meta == \"CREATE FAILED\") &\\\n",
    "       (status_hrnn_cs == \"ACTIVE\" or status_hrnn_cs == \"CREATE FAILED\") &\\\n",
    "       (status_sims == \"ACTIVE\" or status_sims == \"CREATE FAILED\") &\\\n",
    "       (status_ranking == \"ACTIVE\" or status_ranking == \"CREATE FAILED\"):\n",
    "        break\n",
    "    print(\"-------------------------------------->\")\n",
    "    time.sleep(60)\n",
    "\n",
    "print(\"All solution creation completed\")"
   ]
  },
  {
   "cell_type": "markdown",
   "metadata": {},
   "source": [
    "### Store variables"
   ]
  },
  {
   "cell_type": "code",
   "execution_count": 72,
   "metadata": {},
   "outputs": [
    {
     "name": "stdout",
     "output_type": "stream",
     "text": [
      "Stored 'user_personalization_solution_arn' (str)\n",
      "Stored 'user_personalization_solution_version_arn' (str)\n",
      "Stored 'popularity_solution_arn' (str)\n",
      "Stored 'popularity_solution_version_arn' (str)\n",
      "Stored 'hrnn_solution_version_arn' (str)\n",
      "Stored 'hrnn_solution_arn' (str)\n",
      "Stored 'hrnn_meta_solution_version_arn' (str)\n",
      "Stored 'hrnn_meta_solution_arn' (str)\n",
      "Stored 'hrnn_coldstart_solution_version_arn' (str)\n",
      "Stored 'hrnn_coldstart_solution_arn' (str)\n",
      "Stored 'sims_solution_version_arn' (str)\n",
      "Stored 'sims_solution_arn' (str)\n",
      "Stored 'ranking_solution_version_arn' (str)\n",
      "Stored 'ranking_solution_arn' (str)\n"
     ]
    }
   ],
   "source": [
    "\n",
    "%store user_personalization_solution_arn\n",
    "%store user_personalization_solution_version_arn\n",
    "\n",
    "%store popularity_solution_arn\n",
    "%store popularity_solution_version_arn\n",
    "\n",
    "%store hrnn_solution_version_arn\n",
    "%store hrnn_solution_arn\n",
    "\n",
    "%store hrnn_meta_solution_version_arn\n",
    "%store hrnn_meta_solution_arn\n",
    "\n",
    "\n",
    "%store hrnn_coldstart_solution_version_arn\n",
    "%store hrnn_coldstart_solution_arn\n",
    "\n",
    "%store sims_solution_version_arn\n",
    "%store sims_solution_arn\n",
    "\n",
    "%store ranking_solution_version_arn\n",
    "%store ranking_solution_arn\n"
   ]
  },
  {
   "cell_type": "code",
   "execution_count": null,
   "metadata": {},
   "outputs": [],
   "source": []
  }
 ],
 "metadata": {
  "kernelspec": {
   "display_name": "conda_python3",
   "language": "python",
   "name": "conda_python3"
  },
  "language_info": {
   "codemirror_mode": {
    "name": "ipython",
    "version": 3
   },
   "file_extension": ".py",
   "mimetype": "text/x-python",
   "name": "python",
   "nbconvert_exporter": "python",
   "pygments_lexer": "ipython3",
   "version": "3.6.10"
  }
 },
 "nbformat": 4,
 "nbformat_minor": 4
}

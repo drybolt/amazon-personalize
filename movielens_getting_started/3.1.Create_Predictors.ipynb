{
 "cells": [
  {
   "cell_type": "markdown",
   "metadata": {},
   "source": [
    "# [Module 3.1] Personalize 솔류션 생성\n",
    "\n",
    "이 노트북은 Module1에서 생성한 데이타셋 그룹, 데이타셋을 바탕으로 아래와 같은 작업을 합니다.\n",
    "\n",
    "* 레서피(알고리즘) 선택 및 솔류션 생성\n",
    "* 솔류션 버전 생성\n",
    "* 솔류션 평가 지표 얻기\n",
    "\n"
   ]
  },
  {
   "cell_type": "code",
   "execution_count": 1,
   "metadata": {},
   "outputs": [],
   "source": [
    "# Imports\n",
    "import boto3\n",
    "import json\n",
    "import numpy as np\n",
    "import pandas as pd\n",
    "import time\n"
   ]
  },
  {
   "cell_type": "markdown",
   "metadata": {},
   "source": [
    "다음으로 여러분의 환경이 Amazon Personalize와 성공적으로 통신할 수 있는지 확인해야 합니다."
   ]
  },
  {
   "cell_type": "code",
   "execution_count": 2,
   "metadata": {},
   "outputs": [],
   "source": [
    "# Configure the SDK to Personalize:\n",
    "personalize = boto3.client('personalize')"
   ]
  },
  {
   "cell_type": "markdown",
   "metadata": {},
   "source": [
    "아래 코드 셀은 이전 notebook에서 저장했던 공유 변수들을 불러옵니다."
   ]
  },
  {
   "cell_type": "code",
   "execution_count": 3,
   "metadata": {},
   "outputs": [],
   "source": [
    "%store -r"
   ]
  },
  {
   "cell_type": "markdown",
   "metadata": {},
   "source": [
    "생성할 오브젝트의 끝에 임의의 숫자를 부여하기 위해 suffix 정의"
   ]
  },
  {
   "cell_type": "code",
   "execution_count": 4,
   "metadata": {},
   "outputs": [],
   "source": [
    "# suffix = str(np.random.uniform())[4:9]"
   ]
  },
  {
   "cell_type": "markdown",
   "metadata": {},
   "source": [
    "## 솔루션 및 버전 생성\n",
    "\n",
    "Amazon Personalize에서 훈련된 모델을 솔루션이라고 하며, 각 솔루션에는 모델이 훈련되었을 때 주어진 데이터량과 관련된 많은 특정 버전들이 있을 수 있습니다.\n",
    "\n",
    "우선, Amazon Personalize에서 지원되는 모든 레시피(레시피는 아직 데이터에 대해 훈련되지 않은 알고리즘입니다.)들을 나열합니다. 리스트업된 레시피들 중 하나를 선택하고 이를 사용하여 모델을 빌드해 보세요.\n",
    "\n",
    "이 LAB에서 아래와 같은 솔루션을 생성하여 성능을 비교하여 봅니다.\n",
    "\n",
    "    1) HRNN\n",
    "    2) HRNN Coldstart\n",
    "    3) SIMS\n",
    "    4) Personalized Ranking\n",
    "\n",
    "이 프로세스의 완료는 실제로 40분 이상 소요됩니다. 작업이 완료될 때까지(즉, 활성화 상태가 될 때까지) while 루프를 수행하는 방법도 있지만, 이렇게 하면 다른 셀의 실행을 차단하게 됩니다. 따라서, 많은 모델을 만들어 신속하게 배포하려면 while 루프를 사용하는 대신, 필요한 솔루션 버전들을 생성 후, SageMaker 및 Cloudwatch에서 업데이트를 확인하세요.\n",
    "\n",
    "###  레시피 리스트 확인"
   ]
  },
  {
   "cell_type": "code",
   "execution_count": 5,
   "metadata": {},
   "outputs": [
    {
     "name": "stdout",
     "output_type": "stream",
     "text": [
      "arn:aws:personalize:::recipe/aws-hrnn\n",
      "arn:aws:personalize:::recipe/aws-hrnn-coldstart\n",
      "arn:aws:personalize:::recipe/aws-hrnn-metadata\n",
      "arn:aws:personalize:::recipe/aws-personalized-ranking\n",
      "arn:aws:personalize:::recipe/aws-popularity-count\n",
      "arn:aws:personalize:::recipe/aws-sims\n",
      "arn:aws:personalize:::recipe/aws-user-personalization\n"
     ]
    }
   ],
   "source": [
    "recipe_list = personalize.list_recipes()\n",
    "for recipe in recipe_list['recipes']:\n",
    "    print(recipe['recipeArn'])"
   ]
  },
  {
   "cell_type": "markdown",
   "metadata": {},
   "source": [
    "###  User-Personalization 솔루션 생성 "
   ]
  },
  {
   "cell_type": "code",
   "execution_count": 6,
   "metadata": {},
   "outputs": [
    {
     "name": "stdout",
     "output_type": "stream",
     "text": [
      "{\n",
      "  \"solutionArn\": \"arn:aws:personalize:ap-northeast-2:057716757052:solution/Movielens-user-personalization-91891\",\n",
      "  \"ResponseMetadata\": {\n",
      "    \"RequestId\": \"734f6ca6-04ba-4207-9bc9-717f109c172a\",\n",
      "    \"HTTPStatusCode\": 200,\n",
      "    \"HTTPHeaders\": {\n",
      "      \"content-type\": \"application/x-amz-json-1.1\",\n",
      "      \"date\": \"Sun, 30 Aug 2020 07:57:24 GMT\",\n",
      "      \"x-amzn-requestid\": \"734f6ca6-04ba-4207-9bc9-717f109c172a\",\n",
      "      \"content-length\": \"111\",\n",
      "      \"connection\": \"keep-alive\"\n",
      "    },\n",
      "    \"RetryAttempts\": 0\n",
      "  }\n",
      "}\n"
     ]
    }
   ],
   "source": [
    "# Recipe 선택 \n",
    "system_user_personalization_recipe_arn = \"arn:aws:personalize:::recipe/aws-user-personalization\"\n",
    "\n",
    "# Solution 생성 \n",
    "create_solution_response = personalize.create_solution(\n",
    "    name = \"Movielens-user-personalization-\" + suffix,\n",
    "    datasetGroupArn = dataset_group_arn,\n",
    "    recipeArn = system_user_personalization_recipe_arn,\n",
    ")"
   ]
  },
  {
   "cell_type": "code",
   "execution_count": 25,
   "metadata": {},
   "outputs": [
    {
     "name": "stdout",
     "output_type": "stream",
     "text": [
      "{\n",
      "  \"solutionArn\": \"arn:aws:personalize:ap-northeast-2:057716757052:solution/Movielens-aws-hrnn-metadata-91891\",\n",
      "  \"ResponseMetadata\": {\n",
      "    \"RequestId\": \"1c41a038-5351-489c-94f6-3b7cf2841d36\",\n",
      "    \"HTTPStatusCode\": 200,\n",
      "    \"HTTPHeaders\": {\n",
      "      \"content-type\": \"application/x-amz-json-1.1\",\n",
      "      \"date\": \"Sun, 30 Aug 2020 08:49:14 GMT\",\n",
      "      \"x-amzn-requestid\": \"1c41a038-5351-489c-94f6-3b7cf2841d36\",\n",
      "      \"content-length\": \"108\",\n",
      "      \"connection\": \"keep-alive\"\n",
      "    },\n",
      "    \"RetryAttempts\": 0\n",
      "  }\n",
      "}\n"
     ]
    }
   ],
   "source": [
    "user_personalization_solution_arn = create_solution_response['solutionArn']\n",
    "print(json.dumps(create_solution_response, indent=2))"
   ]
  },
  {
   "cell_type": "code",
   "execution_count": 7,
   "metadata": {},
   "outputs": [
    {
     "name": "stdout",
     "output_type": "stream",
     "text": [
      "{\n",
      "  \"solutionVersionArn\": \"arn:aws:personalize:ap-northeast-2:057716757052:solution/Movielens-user-personalization-91891/5ad2fc30\",\n",
      "  \"ResponseMetadata\": {\n",
      "    \"RequestId\": \"bb407da1-164b-48d2-9a8e-456043c31b45\",\n",
      "    \"HTTPStatusCode\": 200,\n",
      "    \"HTTPHeaders\": {\n",
      "      \"content-type\": \"application/x-amz-json-1.1\",\n",
      "      \"date\": \"Sun, 30 Aug 2020 07:57:24 GMT\",\n",
      "      \"x-amzn-requestid\": \"bb407da1-164b-48d2-9a8e-456043c31b45\",\n",
      "      \"content-length\": \"127\",\n",
      "      \"connection\": \"keep-alive\"\n",
      "    },\n",
      "    \"RetryAttempts\": 0\n",
      "  }\n",
      "}\n"
     ]
    }
   ],
   "source": [
    "# 솔루션 버전 생성\n",
    "create_solution_version_response = personalize.create_solution_version(\n",
    "    solutionArn = user_personalization_recipe_arn\n",
    ")\n",
    "\n",
    "user_personalization_solution_version_arn = create_solution_version_response['solutionVersionArn']\n",
    "print(json.dumps(create_solution_version_response, indent=2))"
   ]
  },
  {
   "cell_type": "markdown",
   "metadata": {},
   "source": [
    "###  Popularity Count 솔루션 생성 "
   ]
  },
  {
   "cell_type": "code",
   "execution_count": 8,
   "metadata": {},
   "outputs": [
    {
     "name": "stdout",
     "output_type": "stream",
     "text": [
      "{\n",
      "  \"solutionArn\": \"arn:aws:personalize:ap-northeast-2:057716757052:solution/Movielens-popularity-91891\",\n",
      "  \"ResponseMetadata\": {\n",
      "    \"RequestId\": \"f536b8e4-ce3e-49c2-9bd2-b64e9c5ce435\",\n",
      "    \"HTTPStatusCode\": 200,\n",
      "    \"HTTPHeaders\": {\n",
      "      \"content-type\": \"application/x-amz-json-1.1\",\n",
      "      \"date\": \"Sun, 30 Aug 2020 07:57:26 GMT\",\n",
      "      \"x-amzn-requestid\": \"f536b8e4-ce3e-49c2-9bd2-b64e9c5ce435\",\n",
      "      \"content-length\": \"101\",\n",
      "      \"connection\": \"keep-alive\"\n",
      "    },\n",
      "    \"RetryAttempts\": 0\n",
      "  }\n",
      "}\n"
     ]
    }
   ],
   "source": [
    "# Recipe 선택 \n",
    "system_popularity_recipe_arn = \"arn:aws:personalize:::recipe/aws-popularity-count\"\n",
    "\n",
    "# Solution 생성 \n",
    "create_solution_response = personalize.create_solution(\n",
    "    name = \"Movielens-popularity-\" + suffix,\n",
    "    datasetGroupArn = dataset_group_arn,\n",
    "    recipeArn = system_popularity_recipe_arn,\n",
    ")\n",
    "\n"
   ]
  },
  {
   "cell_type": "code",
   "execution_count": 26,
   "metadata": {},
   "outputs": [
    {
     "name": "stdout",
     "output_type": "stream",
     "text": [
      "{\n",
      "  \"solutionArn\": \"arn:aws:personalize:ap-northeast-2:057716757052:solution/Movielens-aws-hrnn-metadata-91891\",\n",
      "  \"ResponseMetadata\": {\n",
      "    \"RequestId\": \"1c41a038-5351-489c-94f6-3b7cf2841d36\",\n",
      "    \"HTTPStatusCode\": 200,\n",
      "    \"HTTPHeaders\": {\n",
      "      \"content-type\": \"application/x-amz-json-1.1\",\n",
      "      \"date\": \"Sun, 30 Aug 2020 08:49:14 GMT\",\n",
      "      \"x-amzn-requestid\": \"1c41a038-5351-489c-94f6-3b7cf2841d36\",\n",
      "      \"content-length\": \"108\",\n",
      "      \"connection\": \"keep-alive\"\n",
      "    },\n",
      "    \"RetryAttempts\": 0\n",
      "  }\n",
      "}\n"
     ]
    }
   ],
   "source": [
    "popularity_solution_arn = create_solution_response['solutionArn']\n",
    "print(json.dumps(create_solution_response, indent=2))"
   ]
  },
  {
   "cell_type": "code",
   "execution_count": 9,
   "metadata": {},
   "outputs": [
    {
     "name": "stdout",
     "output_type": "stream",
     "text": [
      "{\n",
      "  \"solutionVersionArn\": \"arn:aws:personalize:ap-northeast-2:057716757052:solution/Movielens-popularity-91891/51d69553\",\n",
      "  \"ResponseMetadata\": {\n",
      "    \"RequestId\": \"163ea735-c7f3-4da3-9531-42de17502da3\",\n",
      "    \"HTTPStatusCode\": 200,\n",
      "    \"HTTPHeaders\": {\n",
      "      \"content-type\": \"application/x-amz-json-1.1\",\n",
      "      \"date\": \"Sun, 30 Aug 2020 07:57:27 GMT\",\n",
      "      \"x-amzn-requestid\": \"163ea735-c7f3-4da3-9531-42de17502da3\",\n",
      "      \"content-length\": \"117\",\n",
      "      \"connection\": \"keep-alive\"\n",
      "    },\n",
      "    \"RetryAttempts\": 0\n",
      "  }\n",
      "}\n"
     ]
    }
   ],
   "source": [
    "# 솔루션 버전 생성\n",
    "create_solution_version_response = personalize.create_solution_version(\n",
    "    solutionArn = popularity_recipe_arn\n",
    ")\n",
    "\n",
    "popularity_solution_version_arn = create_solution_version_response['solutionVersionArn']\n",
    "print(json.dumps(create_solution_version_response, indent=2))"
   ]
  },
  {
   "cell_type": "code",
   "execution_count": null,
   "metadata": {},
   "outputs": [],
   "source": []
  },
  {
   "cell_type": "markdown",
   "metadata": {},
   "source": [
    "### HRNN 솔루션 생성"
   ]
  },
  {
   "cell_type": "code",
   "execution_count": null,
   "metadata": {},
   "outputs": [],
   "source": []
  },
  {
   "cell_type": "code",
   "execution_count": 11,
   "metadata": {},
   "outputs": [
    {
     "name": "stdout",
     "output_type": "stream",
     "text": [
      "{\n",
      "  \"solutionVersionArn\": \"arn:aws:personalize:ap-northeast-2:057716757052:solution/Movielens-hrnn-91891/47b38681\",\n",
      "  \"ResponseMetadata\": {\n",
      "    \"RequestId\": \"cf3f664b-417a-43c6-9271-54f8aa2910cd\",\n",
      "    \"HTTPStatusCode\": 200,\n",
      "    \"HTTPHeaders\": {\n",
      "      \"content-type\": \"application/x-amz-json-1.1\",\n",
      "      \"date\": \"Sun, 30 Aug 2020 07:57:28 GMT\",\n",
      "      \"x-amzn-requestid\": \"cf3f664b-417a-43c6-9271-54f8aa2910cd\",\n",
      "      \"content-length\": \"111\",\n",
      "      \"connection\": \"keep-alive\"\n",
      "    },\n",
      "    \"RetryAttempts\": 0\n",
      "  }\n",
      "}\n"
     ]
    }
   ],
   "source": [
    "# 솔루션 버전 생성\n",
    "create_solution_version_response = personalize.create_solution_version(\n",
    "    solutionArn = hrnn_solution_arn\n",
    ")\n",
    "\n",
    "hrnn_solution_version_arn = create_solution_version_response['solutionVersionArn']\n",
    "print(json.dumps(create_solution_version_response, indent=2))"
   ]
  },
  {
   "cell_type": "markdown",
   "metadata": {},
   "source": [
    "### HRNN-Meta 솔루션 생성"
   ]
  },
  {
   "cell_type": "code",
   "execution_count": 22,
   "metadata": {},
   "outputs": [
    {
     "name": "stdout",
     "output_type": "stream",
     "text": [
      "{\n",
      "  \"solutionArn\": \"arn:aws:personalize:ap-northeast-2:057716757052:solution/Movielens-aws-hrnn-metadata-91891\",\n",
      "  \"ResponseMetadata\": {\n",
      "    \"RequestId\": \"1c41a038-5351-489c-94f6-3b7cf2841d36\",\n",
      "    \"HTTPStatusCode\": 200,\n",
      "    \"HTTPHeaders\": {\n",
      "      \"content-type\": \"application/x-amz-json-1.1\",\n",
      "      \"date\": \"Sun, 30 Aug 2020 08:49:14 GMT\",\n",
      "      \"x-amzn-requestid\": \"1c41a038-5351-489c-94f6-3b7cf2841d36\",\n",
      "      \"content-length\": \"108\",\n",
      "      \"connection\": \"keep-alive\"\n",
      "    },\n",
      "    \"RetryAttempts\": 0\n",
      "  }\n",
      "}\n"
     ]
    }
   ],
   "source": [
    " # Recipe 선택 \n",
    "system_hrnn_meta_recipe_arn = \"arn:aws:personalize:::recipe/aws-hrnn-metadata\"\n",
    "\n",
    "\n",
    "# Solution 생성 \n",
    "create_solution_response = personalize.create_solution(\n",
    "    name = \"Movielens-aws-hrnn-metadata-\" + suffix,\n",
    "    datasetGroupArn = dataset_group_arn,\n",
    "    recipeArn = system_hrnn_meta_recipe_arn,\n",
    ")\n",
    "\n",
    "hrnn_meta_solution_arn = create_solution_response['solutionArn']\n",
    "print(json.dumps(create_solution_response, indent=2))"
   ]
  },
  {
   "cell_type": "code",
   "execution_count": 23,
   "metadata": {},
   "outputs": [
    {
     "name": "stdout",
     "output_type": "stream",
     "text": [
      "{\n",
      "  \"solutionVersionArn\": \"arn:aws:personalize:ap-northeast-2:057716757052:solution/Movielens-aws-hrnn-metadata-91891/adaee5f0\",\n",
      "  \"ResponseMetadata\": {\n",
      "    \"RequestId\": \"0e855859-7fb4-4df2-b7cf-4ec6c4471a1a\",\n",
      "    \"HTTPStatusCode\": 200,\n",
      "    \"HTTPHeaders\": {\n",
      "      \"content-type\": \"application/x-amz-json-1.1\",\n",
      "      \"date\": \"Sun, 30 Aug 2020 08:49:19 GMT\",\n",
      "      \"x-amzn-requestid\": \"0e855859-7fb4-4df2-b7cf-4ec6c4471a1a\",\n",
      "      \"content-length\": \"124\",\n",
      "      \"connection\": \"keep-alive\"\n",
      "    },\n",
      "    \"RetryAttempts\": 0\n",
      "  }\n",
      "}\n"
     ]
    }
   ],
   "source": [
    "# 솔루션 버전 생성\n",
    "create_solution_version_response = personalize.create_solution_version(\n",
    "    solutionArn = hrnn_meta_solution_arn\n",
    ")\n",
    "\n",
    "hrnn_meta_solution_version_arn = create_solution_version_response['solutionVersionArn']\n",
    "print(json.dumps(create_solution_version_response, indent=2))"
   ]
  },
  {
   "cell_type": "markdown",
   "metadata": {},
   "source": [
    "### HRNN ColdStart 솔루션 생성"
   ]
  },
  {
   "cell_type": "code",
   "execution_count": 12,
   "metadata": {},
   "outputs": [
    {
     "name": "stdout",
     "output_type": "stream",
     "text": [
      "{\n",
      "  \"solutionArn\": \"arn:aws:personalize:ap-northeast-2:057716757052:solution/Movielens-hrnn-coldstart-91891\",\n",
      "  \"ResponseMetadata\": {\n",
      "    \"RequestId\": \"b15768e2-deda-413d-83ae-e099708c6ad7\",\n",
      "    \"HTTPStatusCode\": 200,\n",
      "    \"HTTPHeaders\": {\n",
      "      \"content-type\": \"application/x-amz-json-1.1\",\n",
      "      \"date\": \"Sun, 30 Aug 2020 07:57:30 GMT\",\n",
      "      \"x-amzn-requestid\": \"b15768e2-deda-413d-83ae-e099708c6ad7\",\n",
      "      \"content-length\": \"105\",\n",
      "      \"connection\": \"keep-alive\"\n",
      "    },\n",
      "    \"RetryAttempts\": 0\n",
      "  }\n",
      "}\n"
     ]
    }
   ],
   "source": [
    " # Recipe 선택 \n",
    "system_hrnn_coldstart_recipe_arn = \"arn:aws:personalize:::recipe/aws-hrnn-coldstart\"\n",
    "\n",
    "# Solution 생성 \n",
    "create_solution_response = personalize.create_solution(\n",
    "    name = \"Movielens-hrnn-coldstart-\" + suffix,\n",
    "    datasetGroupArn = dataset_group_arn,\n",
    "    recipeArn = system_hrnn_coldstart_recipe_arn,\n",
    "    solutionConfig = {\n",
    "        \"featureTransformationParameters\" : {\n",
    "            'cold_start_max_duration' : '5',\n",
    "            'cold_start_relative_from' : 'latestItem',\n",
    "            'cold_start_max_interactions':'15'\n",
    "        }\n",
    "    }\n",
    ")\n",
    "\n",
    "hrnn_coldstart_solution_arn = create_solution_response['solutionArn']\n",
    "print(json.dumps(create_solution_response, indent=2))"
   ]
  },
  {
   "cell_type": "code",
   "execution_count": 13,
   "metadata": {},
   "outputs": [
    {
     "name": "stdout",
     "output_type": "stream",
     "text": [
      "{\n",
      "  \"solutionVersionArn\": \"arn:aws:personalize:ap-northeast-2:057716757052:solution/Movielens-hrnn-coldstart-91891/5afbfa75\",\n",
      "  \"ResponseMetadata\": {\n",
      "    \"RequestId\": \"81fbe2b8-31f4-49a9-988d-7945be4dbc12\",\n",
      "    \"HTTPStatusCode\": 200,\n",
      "    \"HTTPHeaders\": {\n",
      "      \"content-type\": \"application/x-amz-json-1.1\",\n",
      "      \"date\": \"Sun, 30 Aug 2020 07:57:31 GMT\",\n",
      "      \"x-amzn-requestid\": \"81fbe2b8-31f4-49a9-988d-7945be4dbc12\",\n",
      "      \"content-length\": \"121\",\n",
      "      \"connection\": \"keep-alive\"\n",
      "    },\n",
      "    \"RetryAttempts\": 0\n",
      "  }\n",
      "}\n"
     ]
    }
   ],
   "source": [
    "# 솔루션 버전 생성\n",
    "create_solution_version_response = personalize.create_solution_version(\n",
    "    solutionArn = hrnn_coldstart_solution_arn\n",
    ")\n",
    "\n",
    "hrnn_coldstart_solution_version_arn = create_solution_version_response['solutionVersionArn']\n",
    "print(json.dumps(create_solution_version_response, indent=2))"
   ]
  },
  {
   "cell_type": "markdown",
   "metadata": {},
   "source": [
    "### SIMS 솔루션 생성 "
   ]
  },
  {
   "cell_type": "code",
   "execution_count": 14,
   "metadata": {},
   "outputs": [
    {
     "name": "stdout",
     "output_type": "stream",
     "text": [
      "{\n",
      "  \"solutionArn\": \"arn:aws:personalize:ap-northeast-2:057716757052:solution/Movielens-sims-91891\",\n",
      "  \"ResponseMetadata\": {\n",
      "    \"RequestId\": \"d766fd94-891e-4210-96f9-cedd28af75e5\",\n",
      "    \"HTTPStatusCode\": 200,\n",
      "    \"HTTPHeaders\": {\n",
      "      \"content-type\": \"application/x-amz-json-1.1\",\n",
      "      \"date\": \"Sun, 30 Aug 2020 07:57:32 GMT\",\n",
      "      \"x-amzn-requestid\": \"d766fd94-891e-4210-96f9-cedd28af75e5\",\n",
      "      \"content-length\": \"95\",\n",
      "      \"connection\": \"keep-alive\"\n",
      "    },\n",
      "    \"RetryAttempts\": 0\n",
      "  }\n",
      "}\n"
     ]
    }
   ],
   "source": [
    " # Recipe 선택 \n",
    "system_sims_recipe_arn = \"arn:aws:personalize:::recipe/aws-sims\"\n",
    "\n",
    "# Solution 생성 \n",
    "create_solution_response = personalize.create_solution(\n",
    "    name = \"Movielens-sims-\" + suffix,\n",
    "    datasetGroupArn = dataset_group_arn,\n",
    "    recipeArn = system_sims_recipe_arn\n",
    ")\n",
    "\n",
    "sims_solution_arn = create_solution_response['solutionArn']\n",
    "print(json.dumps(create_solution_response, indent=2))"
   ]
  },
  {
   "cell_type": "code",
   "execution_count": 15,
   "metadata": {},
   "outputs": [
    {
     "name": "stdout",
     "output_type": "stream",
     "text": [
      "{\n",
      "  \"solutionVersionArn\": \"arn:aws:personalize:ap-northeast-2:057716757052:solution/Movielens-sims-91891/84632efc\",\n",
      "  \"ResponseMetadata\": {\n",
      "    \"RequestId\": \"6b1df847-dd34-46ce-bf3c-33279e30cbf6\",\n",
      "    \"HTTPStatusCode\": 200,\n",
      "    \"HTTPHeaders\": {\n",
      "      \"content-type\": \"application/x-amz-json-1.1\",\n",
      "      \"date\": \"Sun, 30 Aug 2020 07:57:32 GMT\",\n",
      "      \"x-amzn-requestid\": \"6b1df847-dd34-46ce-bf3c-33279e30cbf6\",\n",
      "      \"content-length\": \"111\",\n",
      "      \"connection\": \"keep-alive\"\n",
      "    },\n",
      "    \"RetryAttempts\": 0\n",
      "  }\n",
      "}\n"
     ]
    }
   ],
   "source": [
    "# 솔루션 버전 생성\n",
    "create_solution_version_response = personalize.create_solution_version(\n",
    "    solutionArn = sims_solution_arn\n",
    ")\n",
    "sims_solution_version_arn = create_solution_version_response['solutionVersionArn']\n",
    "print(json.dumps(create_solution_version_response, indent=2))"
   ]
  },
  {
   "cell_type": "markdown",
   "metadata": {},
   "source": [
    "### Personalize Ranking 솔루션 생성 "
   ]
  },
  {
   "cell_type": "code",
   "execution_count": 16,
   "metadata": {},
   "outputs": [
    {
     "name": "stdout",
     "output_type": "stream",
     "text": [
      "{\n",
      "  \"solutionArn\": \"arn:aws:personalize:ap-northeast-2:057716757052:solution/Movielens-ranking-91891\",\n",
      "  \"ResponseMetadata\": {\n",
      "    \"RequestId\": \"0440919d-7aea-44d1-99a2-efa2ee3c91c8\",\n",
      "    \"HTTPStatusCode\": 200,\n",
      "    \"HTTPHeaders\": {\n",
      "      \"content-type\": \"application/x-amz-json-1.1\",\n",
      "      \"date\": \"Sun, 30 Aug 2020 07:57:35 GMT\",\n",
      "      \"x-amzn-requestid\": \"0440919d-7aea-44d1-99a2-efa2ee3c91c8\",\n",
      "      \"content-length\": \"98\",\n",
      "      \"connection\": \"keep-alive\"\n",
      "    },\n",
      "    \"RetryAttempts\": 0\n",
      "  }\n",
      "}\n"
     ]
    }
   ],
   "source": [
    " # Recipe 선택 \n",
    "system_ranking_recipe_arn = \"arn:aws:personalize:::recipe/aws-personalized-ranking\"\n",
    "\n",
    "# Solution 생성 \n",
    "create_solution_response = personalize.create_solution(\n",
    "    name = \"Movielens-ranking-\" + suffix,\n",
    "    datasetGroupArn = dataset_group_arn,\n",
    "    recipeArn = system_ranking_recipe_arn\n",
    ")\n",
    "\n",
    "ranking_solution_arn = create_solution_response['solutionArn']\n",
    "print(json.dumps(create_solution_response, indent=2))"
   ]
  },
  {
   "cell_type": "code",
   "execution_count": 17,
   "metadata": {},
   "outputs": [
    {
     "name": "stdout",
     "output_type": "stream",
     "text": [
      "{\n",
      "  \"solutionVersionArn\": \"arn:aws:personalize:ap-northeast-2:057716757052:solution/Movielens-ranking-91891/04a98ddc\",\n",
      "  \"ResponseMetadata\": {\n",
      "    \"RequestId\": \"b1a14a3c-393e-4316-8aec-a93711c714a0\",\n",
      "    \"HTTPStatusCode\": 200,\n",
      "    \"HTTPHeaders\": {\n",
      "      \"content-type\": \"application/x-amz-json-1.1\",\n",
      "      \"date\": \"Sun, 30 Aug 2020 07:57:34 GMT\",\n",
      "      \"x-amzn-requestid\": \"b1a14a3c-393e-4316-8aec-a93711c714a0\",\n",
      "      \"content-length\": \"114\",\n",
      "      \"connection\": \"keep-alive\"\n",
      "    },\n",
      "    \"RetryAttempts\": 0\n",
      "  }\n",
      "}\n"
     ]
    }
   ],
   "source": [
    "# 솔루션 버전 생성\n",
    "create_solution_version_response = personalize.create_solution_version(\n",
    "    solutionArn = ranking_solution_arn\n",
    ")\n",
    "ranking_solution_version_arn = create_solution_version_response['solutionVersionArn']\n",
    "print(json.dumps(create_solution_version_response, indent=2))"
   ]
  },
  {
   "cell_type": "markdown",
   "metadata": {},
   "source": [
    "### 모델 생성 확인 하기 \n",
    "아래 코드 실행하여 모델 생성 여부를 확인합니다. "
   ]
  },
  {
   "cell_type": "code",
   "execution_count": 18,
   "metadata": {},
   "outputs": [
    {
     "name": "stdout",
     "output_type": "stream",
     "text": [
      "user_personalization SolutionVersion: CREATE PENDING\n",
      "Popularity SolutionVersion: CREATE PENDING\n",
      "HRNN SolutionVersion: CREATE PENDING\n",
      "HRNN ColdStart SolutionVersion: CREATE PENDING\n",
      "Sims SolutionVersion: CREATE PENDING\n",
      "Ranking SolutionVersion: CREATE PENDING\n",
      "-------------------------------------->\n",
      "user_personalization SolutionVersion: CREATE IN_PROGRESS\n",
      "Popularity SolutionVersion: CREATE IN_PROGRESS\n",
      "HRNN SolutionVersion: CREATE IN_PROGRESS\n",
      "HRNN ColdStart SolutionVersion: CREATE IN_PROGRESS\n",
      "Sims SolutionVersion: CREATE IN_PROGRESS\n",
      "Ranking SolutionVersion: CREATE IN_PROGRESS\n",
      "-------------------------------------->\n",
      "user_personalization SolutionVersion: CREATE IN_PROGRESS\n",
      "Popularity SolutionVersion: CREATE IN_PROGRESS\n",
      "HRNN SolutionVersion: CREATE IN_PROGRESS\n",
      "HRNN ColdStart SolutionVersion: CREATE IN_PROGRESS\n",
      "Sims SolutionVersion: CREATE IN_PROGRESS\n",
      "Ranking SolutionVersion: CREATE IN_PROGRESS\n",
      "-------------------------------------->\n",
      "user_personalization SolutionVersion: CREATE IN_PROGRESS\n",
      "Popularity SolutionVersion: CREATE IN_PROGRESS\n",
      "HRNN SolutionVersion: CREATE IN_PROGRESS\n",
      "HRNN ColdStart SolutionVersion: CREATE IN_PROGRESS\n",
      "Sims SolutionVersion: CREATE IN_PROGRESS\n",
      "Ranking SolutionVersion: CREATE IN_PROGRESS\n",
      "-------------------------------------->\n",
      "user_personalization SolutionVersion: CREATE IN_PROGRESS\n",
      "Popularity SolutionVersion: CREATE IN_PROGRESS\n",
      "HRNN SolutionVersion: CREATE IN_PROGRESS\n",
      "HRNN ColdStart SolutionVersion: CREATE IN_PROGRESS\n",
      "Sims SolutionVersion: CREATE IN_PROGRESS\n",
      "Ranking SolutionVersion: CREATE IN_PROGRESS\n",
      "-------------------------------------->\n",
      "user_personalization SolutionVersion: CREATE IN_PROGRESS\n",
      "Popularity SolutionVersion: CREATE IN_PROGRESS\n",
      "HRNN SolutionVersion: CREATE IN_PROGRESS\n",
      "HRNN ColdStart SolutionVersion: CREATE IN_PROGRESS\n",
      "Sims SolutionVersion: CREATE IN_PROGRESS\n",
      "Ranking SolutionVersion: CREATE IN_PROGRESS\n",
      "-------------------------------------->\n",
      "user_personalization SolutionVersion: CREATE IN_PROGRESS\n",
      "Popularity SolutionVersion: CREATE IN_PROGRESS\n",
      "HRNN SolutionVersion: CREATE IN_PROGRESS\n",
      "HRNN ColdStart SolutionVersion: CREATE IN_PROGRESS\n",
      "Sims SolutionVersion: CREATE IN_PROGRESS\n",
      "Ranking SolutionVersion: CREATE IN_PROGRESS\n",
      "-------------------------------------->\n",
      "user_personalization SolutionVersion: CREATE IN_PROGRESS\n",
      "Popularity SolutionVersion: CREATE IN_PROGRESS\n",
      "HRNN SolutionVersion: CREATE IN_PROGRESS\n",
      "HRNN ColdStart SolutionVersion: CREATE IN_PROGRESS\n",
      "Sims SolutionVersion: CREATE IN_PROGRESS\n",
      "Ranking SolutionVersion: CREATE IN_PROGRESS\n",
      "-------------------------------------->\n",
      "user_personalization SolutionVersion: CREATE IN_PROGRESS\n",
      "Popularity SolutionVersion: CREATE IN_PROGRESS\n",
      "HRNN SolutionVersion: CREATE IN_PROGRESS\n",
      "HRNN ColdStart SolutionVersion: CREATE IN_PROGRESS\n",
      "Sims SolutionVersion: CREATE IN_PROGRESS\n",
      "Ranking SolutionVersion: CREATE IN_PROGRESS\n",
      "-------------------------------------->\n",
      "user_personalization SolutionVersion: CREATE IN_PROGRESS\n",
      "Popularity SolutionVersion: CREATE IN_PROGRESS\n",
      "HRNN SolutionVersion: CREATE IN_PROGRESS\n",
      "HRNN ColdStart SolutionVersion: CREATE IN_PROGRESS\n",
      "Sims SolutionVersion: CREATE IN_PROGRESS\n",
      "Ranking SolutionVersion: CREATE IN_PROGRESS\n",
      "-------------------------------------->\n",
      "user_personalization SolutionVersion: CREATE IN_PROGRESS\n",
      "Popularity SolutionVersion: CREATE IN_PROGRESS\n",
      "HRNN SolutionVersion: CREATE IN_PROGRESS\n",
      "HRNN ColdStart SolutionVersion: CREATE IN_PROGRESS\n",
      "Sims SolutionVersion: CREATE IN_PROGRESS\n",
      "Ranking SolutionVersion: CREATE IN_PROGRESS\n",
      "-------------------------------------->\n",
      "user_personalization SolutionVersion: CREATE IN_PROGRESS\n",
      "Popularity SolutionVersion: CREATE IN_PROGRESS\n",
      "HRNN SolutionVersion: CREATE IN_PROGRESS\n",
      "HRNN ColdStart SolutionVersion: CREATE IN_PROGRESS\n",
      "Sims SolutionVersion: CREATE IN_PROGRESS\n",
      "Ranking SolutionVersion: CREATE IN_PROGRESS\n",
      "-------------------------------------->\n",
      "user_personalization SolutionVersion: CREATE IN_PROGRESS\n",
      "Popularity SolutionVersion: CREATE IN_PROGRESS\n",
      "HRNN SolutionVersion: CREATE IN_PROGRESS\n",
      "HRNN ColdStart SolutionVersion: CREATE IN_PROGRESS\n",
      "Sims SolutionVersion: CREATE IN_PROGRESS\n",
      "Ranking SolutionVersion: CREATE IN_PROGRESS\n",
      "-------------------------------------->\n",
      "user_personalization SolutionVersion: CREATE IN_PROGRESS\n",
      "Popularity SolutionVersion: CREATE IN_PROGRESS\n",
      "HRNN SolutionVersion: CREATE IN_PROGRESS\n",
      "HRNN ColdStart SolutionVersion: CREATE IN_PROGRESS\n",
      "Sims SolutionVersion: CREATE IN_PROGRESS\n",
      "Ranking SolutionVersion: CREATE IN_PROGRESS\n",
      "-------------------------------------->\n",
      "user_personalization SolutionVersion: CREATE IN_PROGRESS\n",
      "Popularity SolutionVersion: CREATE IN_PROGRESS\n",
      "HRNN SolutionVersion: CREATE IN_PROGRESS\n",
      "HRNN ColdStart SolutionVersion: CREATE IN_PROGRESS\n",
      "Sims SolutionVersion: CREATE IN_PROGRESS\n",
      "Ranking SolutionVersion: CREATE IN_PROGRESS\n",
      "-------------------------------------->\n",
      "user_personalization SolutionVersion: CREATE IN_PROGRESS\n",
      "Popularity SolutionVersion: CREATE IN_PROGRESS\n",
      "HRNN SolutionVersion: CREATE IN_PROGRESS\n",
      "HRNN ColdStart SolutionVersion: CREATE IN_PROGRESS\n",
      "Sims SolutionVersion: CREATE IN_PROGRESS\n",
      "Ranking SolutionVersion: CREATE IN_PROGRESS\n",
      "-------------------------------------->\n",
      "user_personalization SolutionVersion: CREATE IN_PROGRESS\n",
      "Popularity SolutionVersion: CREATE IN_PROGRESS\n",
      "HRNN SolutionVersion: CREATE IN_PROGRESS\n",
      "HRNN ColdStart SolutionVersion: CREATE IN_PROGRESS\n",
      "Sims SolutionVersion: CREATE IN_PROGRESS\n",
      "Ranking SolutionVersion: CREATE IN_PROGRESS\n",
      "-------------------------------------->\n",
      "user_personalization SolutionVersion: CREATE IN_PROGRESS\n",
      "Popularity SolutionVersion: CREATE IN_PROGRESS\n",
      "HRNN SolutionVersion: CREATE IN_PROGRESS\n",
      "HRNN ColdStart SolutionVersion: CREATE IN_PROGRESS\n",
      "Sims SolutionVersion: CREATE IN_PROGRESS\n",
      "Ranking SolutionVersion: CREATE IN_PROGRESS\n",
      "-------------------------------------->\n",
      "user_personalization SolutionVersion: CREATE IN_PROGRESS\n",
      "Popularity SolutionVersion: CREATE IN_PROGRESS\n",
      "HRNN SolutionVersion: CREATE IN_PROGRESS\n",
      "HRNN ColdStart SolutionVersion: CREATE IN_PROGRESS\n",
      "Sims SolutionVersion: CREATE IN_PROGRESS\n",
      "Ranking SolutionVersion: CREATE IN_PROGRESS\n",
      "-------------------------------------->\n",
      "user_personalization SolutionVersion: CREATE IN_PROGRESS\n",
      "Popularity SolutionVersion: CREATE IN_PROGRESS\n",
      "HRNN SolutionVersion: CREATE IN_PROGRESS\n",
      "HRNN ColdStart SolutionVersion: CREATE IN_PROGRESS\n",
      "Sims SolutionVersion: CREATE IN_PROGRESS\n",
      "Ranking SolutionVersion: CREATE IN_PROGRESS\n",
      "-------------------------------------->\n",
      "user_personalization SolutionVersion: CREATE IN_PROGRESS\n",
      "Popularity SolutionVersion: CREATE IN_PROGRESS\n",
      "HRNN SolutionVersion: CREATE IN_PROGRESS\n",
      "HRNN ColdStart SolutionVersion: CREATE IN_PROGRESS\n",
      "Sims SolutionVersion: CREATE IN_PROGRESS\n",
      "Ranking SolutionVersion: CREATE IN_PROGRESS\n",
      "-------------------------------------->\n",
      "user_personalization SolutionVersion: CREATE IN_PROGRESS\n",
      "Popularity SolutionVersion: CREATE IN_PROGRESS\n",
      "HRNN SolutionVersion: CREATE IN_PROGRESS\n",
      "HRNN ColdStart SolutionVersion: CREATE IN_PROGRESS\n",
      "Sims SolutionVersion: CREATE IN_PROGRESS\n",
      "Ranking SolutionVersion: CREATE IN_PROGRESS\n",
      "-------------------------------------->\n",
      "user_personalization SolutionVersion: CREATE IN_PROGRESS\n",
      "Popularity SolutionVersion: CREATE IN_PROGRESS\n",
      "HRNN SolutionVersion: CREATE IN_PROGRESS\n",
      "HRNN ColdStart SolutionVersion: CREATE IN_PROGRESS\n",
      "Sims SolutionVersion: CREATE IN_PROGRESS\n",
      "Ranking SolutionVersion: CREATE IN_PROGRESS\n",
      "-------------------------------------->\n",
      "user_personalization SolutionVersion: CREATE IN_PROGRESS\n",
      "Popularity SolutionVersion: CREATE IN_PROGRESS\n",
      "HRNN SolutionVersion: CREATE IN_PROGRESS\n",
      "HRNN ColdStart SolutionVersion: CREATE IN_PROGRESS\n",
      "Sims SolutionVersion: CREATE IN_PROGRESS\n",
      "Ranking SolutionVersion: CREATE IN_PROGRESS\n",
      "-------------------------------------->\n",
      "user_personalization SolutionVersion: CREATE IN_PROGRESS\n",
      "Popularity SolutionVersion: CREATE IN_PROGRESS\n",
      "HRNN SolutionVersion: CREATE IN_PROGRESS\n",
      "HRNN ColdStart SolutionVersion: CREATE IN_PROGRESS\n",
      "Sims SolutionVersion: CREATE IN_PROGRESS\n",
      "Ranking SolutionVersion: CREATE IN_PROGRESS\n",
      "-------------------------------------->\n",
      "user_personalization SolutionVersion: CREATE IN_PROGRESS\n",
      "Popularity SolutionVersion: CREATE IN_PROGRESS\n",
      "HRNN SolutionVersion: CREATE IN_PROGRESS\n",
      "HRNN ColdStart SolutionVersion: CREATE IN_PROGRESS\n",
      "Sims SolutionVersion: CREATE IN_PROGRESS\n",
      "Ranking SolutionVersion: CREATE IN_PROGRESS\n",
      "-------------------------------------->\n",
      "user_personalization SolutionVersion: CREATE IN_PROGRESS\n",
      "Popularity SolutionVersion: CREATE IN_PROGRESS\n",
      "HRNN SolutionVersion: CREATE IN_PROGRESS\n",
      "HRNN ColdStart SolutionVersion: CREATE IN_PROGRESS\n",
      "Sims SolutionVersion: CREATE IN_PROGRESS\n",
      "Ranking SolutionVersion: CREATE IN_PROGRESS\n",
      "-------------------------------------->\n",
      "user_personalization SolutionVersion: CREATE IN_PROGRESS\n",
      "Popularity SolutionVersion: CREATE IN_PROGRESS\n",
      "HRNN SolutionVersion: CREATE IN_PROGRESS\n",
      "HRNN ColdStart SolutionVersion: CREATE IN_PROGRESS\n",
      "Sims SolutionVersion: CREATE IN_PROGRESS\n",
      "Ranking SolutionVersion: CREATE IN_PROGRESS\n",
      "-------------------------------------->\n",
      "user_personalization SolutionVersion: CREATE IN_PROGRESS\n",
      "Popularity SolutionVersion: CREATE IN_PROGRESS\n",
      "HRNN SolutionVersion: CREATE IN_PROGRESS\n",
      "HRNN ColdStart SolutionVersion: CREATE IN_PROGRESS\n",
      "Sims SolutionVersion: CREATE IN_PROGRESS\n",
      "Ranking SolutionVersion: CREATE IN_PROGRESS\n",
      "-------------------------------------->\n",
      "user_personalization SolutionVersion: CREATE IN_PROGRESS\n",
      "Popularity SolutionVersion: CREATE IN_PROGRESS\n",
      "HRNN SolutionVersion: CREATE IN_PROGRESS\n",
      "HRNN ColdStart SolutionVersion: CREATE IN_PROGRESS\n",
      "Sims SolutionVersion: CREATE IN_PROGRESS\n",
      "Ranking SolutionVersion: CREATE IN_PROGRESS\n",
      "-------------------------------------->\n",
      "user_personalization SolutionVersion: CREATE IN_PROGRESS\n",
      "Popularity SolutionVersion: CREATE IN_PROGRESS\n",
      "HRNN SolutionVersion: CREATE IN_PROGRESS\n",
      "HRNN ColdStart SolutionVersion: CREATE IN_PROGRESS\n",
      "Sims SolutionVersion: CREATE IN_PROGRESS\n",
      "Ranking SolutionVersion: CREATE IN_PROGRESS\n",
      "-------------------------------------->\n",
      "user_personalization SolutionVersion: CREATE IN_PROGRESS\n",
      "Popularity SolutionVersion: CREATE IN_PROGRESS\n",
      "HRNN SolutionVersion: CREATE IN_PROGRESS\n",
      "HRNN ColdStart SolutionVersion: CREATE IN_PROGRESS\n",
      "Sims SolutionVersion: CREATE IN_PROGRESS\n",
      "Ranking SolutionVersion: CREATE IN_PROGRESS\n",
      "-------------------------------------->\n",
      "user_personalization SolutionVersion: CREATE IN_PROGRESS\n",
      "Popularity SolutionVersion: CREATE IN_PROGRESS\n",
      "HRNN SolutionVersion: CREATE IN_PROGRESS\n",
      "HRNN ColdStart SolutionVersion: CREATE IN_PROGRESS\n",
      "Sims SolutionVersion: CREATE IN_PROGRESS\n",
      "Ranking SolutionVersion: CREATE IN_PROGRESS\n",
      "-------------------------------------->\n",
      "user_personalization SolutionVersion: CREATE IN_PROGRESS\n",
      "Popularity SolutionVersion: CREATE IN_PROGRESS\n",
      "HRNN SolutionVersion: CREATE IN_PROGRESS\n",
      "HRNN ColdStart SolutionVersion: CREATE IN_PROGRESS\n",
      "Sims SolutionVersion: CREATE IN_PROGRESS\n",
      "Ranking SolutionVersion: CREATE IN_PROGRESS\n",
      "-------------------------------------->\n",
      "user_personalization SolutionVersion: CREATE IN_PROGRESS\n",
      "Popularity SolutionVersion: CREATE IN_PROGRESS\n",
      "HRNN SolutionVersion: CREATE IN_PROGRESS\n",
      "HRNN ColdStart SolutionVersion: CREATE IN_PROGRESS\n",
      "Sims SolutionVersion: CREATE IN_PROGRESS\n",
      "Ranking SolutionVersion: CREATE IN_PROGRESS\n",
      "-------------------------------------->\n",
      "user_personalization SolutionVersion: CREATE IN_PROGRESS\n",
      "Popularity SolutionVersion: CREATE IN_PROGRESS\n",
      "HRNN SolutionVersion: CREATE IN_PROGRESS\n",
      "HRNN ColdStart SolutionVersion: CREATE IN_PROGRESS\n",
      "Sims SolutionVersion: CREATE IN_PROGRESS\n",
      "Ranking SolutionVersion: CREATE IN_PROGRESS\n",
      "-------------------------------------->\n",
      "user_personalization SolutionVersion: CREATE IN_PROGRESS\n",
      "Popularity SolutionVersion: ACTIVE\n",
      "HRNN SolutionVersion: CREATE IN_PROGRESS\n",
      "HRNN ColdStart SolutionVersion: CREATE IN_PROGRESS\n",
      "Sims SolutionVersion: CREATE IN_PROGRESS\n",
      "Ranking SolutionVersion: CREATE IN_PROGRESS\n",
      "-------------------------------------->\n",
      "user_personalization SolutionVersion: CREATE IN_PROGRESS\n",
      "Popularity SolutionVersion: ACTIVE\n",
      "HRNN SolutionVersion: ACTIVE\n",
      "HRNN ColdStart SolutionVersion: CREATE IN_PROGRESS\n",
      "Sims SolutionVersion: CREATE IN_PROGRESS\n",
      "Ranking SolutionVersion: CREATE IN_PROGRESS\n",
      "-------------------------------------->\n",
      "user_personalization SolutionVersion: CREATE IN_PROGRESS\n",
      "Popularity SolutionVersion: ACTIVE\n",
      "HRNN SolutionVersion: ACTIVE\n",
      "HRNN ColdStart SolutionVersion: CREATE IN_PROGRESS\n",
      "Sims SolutionVersion: ACTIVE\n",
      "Ranking SolutionVersion: CREATE IN_PROGRESS\n",
      "-------------------------------------->\n",
      "user_personalization SolutionVersion: CREATE IN_PROGRESS\n",
      "Popularity SolutionVersion: ACTIVE\n",
      "HRNN SolutionVersion: ACTIVE\n",
      "HRNN ColdStart SolutionVersion: ACTIVE\n",
      "Sims SolutionVersion: ACTIVE\n",
      "Ranking SolutionVersion: CREATE IN_PROGRESS\n",
      "-------------------------------------->\n",
      "user_personalization SolutionVersion: CREATE IN_PROGRESS\n",
      "Popularity SolutionVersion: ACTIVE\n",
      "HRNN SolutionVersion: ACTIVE\n",
      "HRNN ColdStart SolutionVersion: ACTIVE\n",
      "Sims SolutionVersion: ACTIVE\n",
      "Ranking SolutionVersion: CREATE IN_PROGRESS\n",
      "-------------------------------------->\n",
      "user_personalization SolutionVersion: CREATE IN_PROGRESS\n",
      "Popularity SolutionVersion: ACTIVE\n",
      "HRNN SolutionVersion: ACTIVE\n",
      "HRNN ColdStart SolutionVersion: ACTIVE\n",
      "Sims SolutionVersion: ACTIVE\n",
      "Ranking SolutionVersion: CREATE IN_PROGRESS\n",
      "-------------------------------------->\n",
      "user_personalization SolutionVersion: CREATE IN_PROGRESS\n",
      "Popularity SolutionVersion: ACTIVE\n",
      "HRNN SolutionVersion: ACTIVE\n",
      "HRNN ColdStart SolutionVersion: ACTIVE\n",
      "Sims SolutionVersion: ACTIVE\n",
      "Ranking SolutionVersion: CREATE IN_PROGRESS\n",
      "-------------------------------------->\n",
      "user_personalization SolutionVersion: CREATE IN_PROGRESS\n",
      "Popularity SolutionVersion: ACTIVE\n",
      "HRNN SolutionVersion: ACTIVE\n",
      "HRNN ColdStart SolutionVersion: ACTIVE\n",
      "Sims SolutionVersion: ACTIVE\n",
      "Ranking SolutionVersion: CREATE IN_PROGRESS\n",
      "-------------------------------------->\n",
      "user_personalization SolutionVersion: CREATE IN_PROGRESS\n",
      "Popularity SolutionVersion: ACTIVE\n",
      "HRNN SolutionVersion: ACTIVE\n",
      "HRNN ColdStart SolutionVersion: ACTIVE\n",
      "Sims SolutionVersion: ACTIVE\n",
      "Ranking SolutionVersion: CREATE IN_PROGRESS\n",
      "-------------------------------------->\n",
      "user_personalization SolutionVersion: CREATE IN_PROGRESS\n",
      "Popularity SolutionVersion: ACTIVE\n",
      "HRNN SolutionVersion: ACTIVE\n",
      "HRNN ColdStart SolutionVersion: ACTIVE\n",
      "Sims SolutionVersion: ACTIVE\n",
      "Ranking SolutionVersion: ACTIVE\n",
      "-------------------------------------->\n",
      "user_personalization SolutionVersion: CREATE IN_PROGRESS\n",
      "Popularity SolutionVersion: ACTIVE\n",
      "HRNN SolutionVersion: ACTIVE\n",
      "HRNN ColdStart SolutionVersion: ACTIVE\n",
      "Sims SolutionVersion: ACTIVE\n",
      "Ranking SolutionVersion: ACTIVE\n",
      "-------------------------------------->\n",
      "user_personalization SolutionVersion: CREATE IN_PROGRESS\n",
      "Popularity SolutionVersion: ACTIVE\n",
      "HRNN SolutionVersion: ACTIVE\n",
      "HRNN ColdStart SolutionVersion: ACTIVE\n",
      "Sims SolutionVersion: ACTIVE\n",
      "Ranking SolutionVersion: ACTIVE\n",
      "-------------------------------------->\n",
      "user_personalization SolutionVersion: ACTIVE\n",
      "Popularity SolutionVersion: ACTIVE\n",
      "HRNN SolutionVersion: ACTIVE\n",
      "HRNN ColdStart SolutionVersion: ACTIVE\n",
      "Sims SolutionVersion: ACTIVE\n",
      "Ranking SolutionVersion: ACTIVE\n",
      "All solution creation completed\n",
      "CPU times: user 658 ms, sys: 61.5 ms, total: 719 ms\n",
      "Wall time: 48min 8s\n"
     ]
    }
   ],
   "source": [
    "%%time\n",
    "\n",
    "\n",
    "max_time = time.time() + 3*60*60 # 3 hours\n",
    "while time.time() < max_time:\n",
    "    ##user_personalization Status\n",
    "    #hrnn status\n",
    "    describe_solution_version_response = personalize.describe_solution_version(\n",
    "        solutionVersionArn = user_personalization_solution_version_arn\n",
    "    )  \n",
    "    status_user_per = describe_solution_version_response[\"solutionVersion\"][\"status\"]\n",
    "    print(\"user_personalization SolutionVersion: {}\".format(status_user_per))\n",
    "    \n",
    "    ##Popularity Status\n",
    "    #hrnn status\n",
    "    describe_solution_version_response = personalize.describe_solution_version(\n",
    "        solutionVersionArn = popularity_solution_version_arn\n",
    "    )  \n",
    "    status_pop = describe_solution_version_response[\"solutionVersion\"][\"status\"]\n",
    "    print(\"Popularity SolutionVersion: {}\".format(status_pop))\n",
    "    \n",
    "    #hrnn status\n",
    "    describe_solution_version_response = personalize.describe_solution_version(\n",
    "        solutionVersionArn = hrnn_solution_version_arn\n",
    "    )  \n",
    "    status_hrnn = describe_solution_version_response[\"solutionVersion\"][\"status\"]\n",
    "    print(\"HRNN SolutionVersion: {}\".format(status_hrnn))\n",
    "\n",
    "    #hrnn_meta status\n",
    "    describe_solution_version_response = personalize.describe_solution_version(\n",
    "        solutionVersionArn = hrnn_meta_solution_version_arn\n",
    "    )\n",
    "    status_hrnn_meta = describe_solution_version_response[\"solutionVersion\"][\"status\"]    \n",
    "    print(\"HRNN Meta SolutionVersion: {}\".format(status_hrnn_meta))\n",
    "    \n",
    "    \n",
    "    #hrnn_coldstart status\n",
    "    describe_solution_version_response = personalize.describe_solution_version(\n",
    "        solutionVersionArn = hrnn_coldstart_solution_version_arn\n",
    "    )\n",
    "    status_hrnn_cs = describe_solution_version_response[\"solutionVersion\"][\"status\"]    \n",
    "    print(\"HRNN ColdStart SolutionVersion: {}\".format(status_hrnn_cs))\n",
    "    \n",
    "    #sims status\n",
    "    describe_solution_version_response = personalize.describe_solution_version(\n",
    "    solutionVersionArn = sims_solution_version_arn\n",
    "    )\n",
    "    status_sims = describe_solution_version_response[\"solutionVersion\"][\"status\"]\n",
    "    print(\"Sims SolutionVersion: {}\".format(status_sims))\n",
    "    \n",
    "    #ranking status\n",
    "    describe_solution_version_response = personalize.describe_solution_version(\n",
    "        solutionVersionArn = ranking_solution_version_arn\n",
    "    )\n",
    "    status_ranking= describe_solution_version_response[\"solutionVersion\"][\"status\"]    \n",
    "    print(\"Ranking SolutionVersion: {}\".format(status_ranking))    \n",
    "    \n",
    "    if (status_user_per == \"ACTIVE\" or status_user_per == \"CREATE FAILED\") &\\\n",
    "       (status_pop == \"ACTIVE\" or status_pop == \"CREATE FAILED\") &\\\n",
    "       (status_hrnn == \"ACTIVE\" or status_hrnn == \"CREATE FAILED\") &\\\n",
    "       (status_hrnn_meta == \"ACTIVE\" or status_hrnn_meta == \"CREATE FAILED\") &\\    \n",
    "       (status_hrnn_cs == \"ACTIVE\" or status_hrnn_cs == \"CREATE FAILED\") &\\\n",
    "       (status_sims == \"ACTIVE\" or status_sims == \"CREATE FAILED\") &\\\n",
    "       (status_ranking == \"ACTIVE\" or status_ranking == \"CREATE FAILED\"):\n",
    "        break\n",
    "    print(\"-------------------------------------->\")\n",
    "    time.sleep(60)\n",
    "\n",
    "print(\"All solution creation completed\")"
   ]
  },
  {
   "cell_type": "markdown",
   "metadata": {},
   "source": [
    "### Store variables"
   ]
  },
  {
   "cell_type": "code",
   "execution_count": 29,
   "metadata": {},
   "outputs": [
    {
     "name": "stdout",
     "output_type": "stream",
     "text": [
      "Stored 'user_personalization_solution_arn' (str)\n",
      "Stored 'user_personalization_solution_version_arn' (str)\n",
      "Stored 'popularity_solution_arn' (str)\n",
      "Stored 'popularity_solution_version_arn' (str)\n",
      "Stored 'hrnn_solution_version_arn' (str)\n",
      "Stored 'hrnn_solution_arn' (str)\n",
      "Stored 'hrnn_meta_solution_version_arn' (str)\n",
      "Stored 'hrnn_meta_solution_arn' (str)\n",
      "Stored 'hrnn_coldstart_solution_version_arn' (str)\n",
      "Stored 'hrnn_coldstart_solution_arn' (str)\n",
      "Stored 'sims_solution_version_arn' (str)\n",
      "Stored 'sims_solution_arn' (str)\n",
      "Stored 'ranking_solution_version_arn' (str)\n",
      "Stored 'ranking_solution_arn' (str)\n"
     ]
    }
   ],
   "source": [
    "\n",
    "%store user_personalization_solution_arn\n",
    "%store user_personalization_solution_version_arn\n",
    "\n",
    "%store popularity_solution_arn\n",
    "%store popularity_solution_version_arn\n",
    "\n",
    "%store hrnn_solution_version_arn\n",
    "%store hrnn_solution_arn\n",
    "\n",
    "%store hrnn_meta_solution_version_arn\n",
    "%store hrnn_meta_solution_arn\n",
    "\n",
    "\n",
    "%store hrnn_coldstart_solution_version_arn\n",
    "%store hrnn_coldstart_solution_arn\n",
    "\n",
    "%store sims_solution_version_arn\n",
    "%store sims_solution_arn\n",
    "\n",
    "%store ranking_solution_version_arn\n",
    "%store ranking_solution_arn\n"
   ]
  },
  {
   "cell_type": "code",
   "execution_count": null,
   "metadata": {},
   "outputs": [],
   "source": []
  }
 ],
 "metadata": {
  "kernelspec": {
   "display_name": "conda_python3",
   "language": "python",
   "name": "conda_python3"
  },
  "language_info": {
   "codemirror_mode": {
    "name": "ipython",
    "version": 3
   },
   "file_extension": ".py",
   "mimetype": "text/x-python",
   "name": "python",
   "nbconvert_exporter": "python",
   "pygments_lexer": "ipython3",
   "version": "3.6.10"
  }
 },
 "nbformat": 4,
 "nbformat_minor": 4
}

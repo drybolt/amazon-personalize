{
 "cells": [
  {
   "cell_type": "markdown",
   "metadata": {},
   "source": [
    "# [Module 6.1] Custom Metric 으로 성능 데이터 및 Cold Start 성능 체크 하기 "
   ]
  },
  {
   "cell_type": "markdown",
   "metadata": {},
   "source": [
    "이번 모듈에서는 모듈1에서 테스트 용으로 분리했던 데이터를 가지고 Custom 지표를 통해 추가적인 성능을 평가해 보도록 합니다. \n",
    "또한 HRNN Coldstart 성능도 추가적으로 확인해 보도록 합니다.Coldstart 아이템은 신규로 등록된 아이템 이기 때문에 성능을 예측하기가 어려운 부분이 있습니다. "
   ]
  },
  {
   "cell_type": "code",
   "execution_count": 1,
   "metadata": {},
   "outputs": [
    {
     "name": "stdout",
     "output_type": "stream",
     "text": [
      "Requirement already satisfied: tqdm in /home/ec2-user/anaconda3/envs/python3/lib/python3.6/site-packages (4.44.1)\n",
      "\u001b[33mWARNING: You are using pip version 20.0.2; however, version 20.2.2 is available.\n",
      "You should consider upgrading via the '/home/ec2-user/anaconda3/envs/python3/bin/python -m pip install --upgrade pip' command.\u001b[0m\n"
     ]
    }
   ],
   "source": [
    "!pip install tqdm"
   ]
  },
  {
   "cell_type": "code",
   "execution_count": 12,
   "metadata": {},
   "outputs": [],
   "source": [
    "import pandas as pd, numpy as np\n",
    "import io\n",
    "import scipy.sparse as ss\n",
    "import json\n",
    "import time\n",
    "import os\n",
    "import boto3\n",
    "from botocore.exceptions import ClientError\n",
    "from metrics import ndcg_at_k, precision_at_k, mean_reciprocal_rank\n",
    "\n",
    "from tqdm import notebook"
   ]
  },
  {
   "cell_type": "code",
   "execution_count": 3,
   "metadata": {},
   "outputs": [],
   "source": [
    "%store -r"
   ]
  },
  {
   "cell_type": "code",
   "execution_count": 4,
   "metadata": {},
   "outputs": [],
   "source": [
    "# Configure the SDK to Personalize:\n",
    "personalize = boto3.client('personalize')\n",
    "personalize_runtime = boto3.client('personalize-runtime')"
   ]
  },
  {
   "cell_type": "code",
   "execution_count": 5,
   "metadata": {},
   "outputs": [],
   "source": [
    "#read holdout data and coldstart data\n",
    "df_holdout = pd.read_csv(validation_interaction_filename)\n",
    "df_coldstart=pd.read_csv(coldstart_interation_filename)"
   ]
  },
  {
   "cell_type": "markdown",
   "metadata": {},
   "source": [
    "## Custom Metric으로 테스트 데이터 세트 평가하기\n",
    "\n",
    "이번 파트에서는 앞장에 남겨두었던 데이터 세트를 활용하여 모델 성능을 평가 하도록 합니다.\n",
    "테스트 데이터 셋에 있는 모든 고유한 사용자에 대해 테스트 데이터 세트 Interaction Ground Truth data와 Campaign에서 생성된 결과를 비교 하도록 합니다.\n"
   ]
  },
  {
   "cell_type": "code",
   "execution_count": 6,
   "metadata": {},
   "outputs": [
    {
     "data": {
      "text/html": [
       "<div>\n",
       "<style scoped>\n",
       "    .dataframe tbody tr th:only-of-type {\n",
       "        vertical-align: middle;\n",
       "    }\n",
       "\n",
       "    .dataframe tbody tr th {\n",
       "        vertical-align: top;\n",
       "    }\n",
       "\n",
       "    .dataframe thead th {\n",
       "        text-align: right;\n",
       "    }\n",
       "</style>\n",
       "<table border=\"1\" class=\"dataframe\">\n",
       "  <thead>\n",
       "    <tr style=\"text-align: right;\">\n",
       "      <th></th>\n",
       "      <th>USER_ID</th>\n",
       "      <th>ITEM_ID</th>\n",
       "      <th>EVENT_VALUE</th>\n",
       "      <th>TIMESTAMP</th>\n",
       "      <th>EVENT_TYPE</th>\n",
       "    </tr>\n",
       "  </thead>\n",
       "  <tbody>\n",
       "    <tr>\n",
       "      <th>0</th>\n",
       "      <td>1</td>\n",
       "      <td>2355</td>\n",
       "      <td>5</td>\n",
       "      <td>978824291</td>\n",
       "      <td>RATING</td>\n",
       "    </tr>\n",
       "    <tr>\n",
       "      <th>1</th>\n",
       "      <td>1</td>\n",
       "      <td>1907</td>\n",
       "      <td>4</td>\n",
       "      <td>978824330</td>\n",
       "      <td>RATING</td>\n",
       "    </tr>\n",
       "    <tr>\n",
       "      <th>2</th>\n",
       "      <td>1</td>\n",
       "      <td>783</td>\n",
       "      <td>4</td>\n",
       "      <td>978824291</td>\n",
       "      <td>RATING</td>\n",
       "    </tr>\n",
       "    <tr>\n",
       "      <th>3</th>\n",
       "      <td>2</td>\n",
       "      <td>1687</td>\n",
       "      <td>3</td>\n",
       "      <td>978300174</td>\n",
       "      <td>RATING</td>\n",
       "    </tr>\n",
       "    <tr>\n",
       "      <th>4</th>\n",
       "      <td>2</td>\n",
       "      <td>292</td>\n",
       "      <td>3</td>\n",
       "      <td>978300123</td>\n",
       "      <td>RATING</td>\n",
       "    </tr>\n",
       "    <tr>\n",
       "      <th>...</th>\n",
       "      <td>...</td>\n",
       "      <td>...</td>\n",
       "      <td>...</td>\n",
       "      <td>...</td>\n",
       "      <td>...</td>\n",
       "    </tr>\n",
       "    <tr>\n",
       "      <th>51161</th>\n",
       "      <td>6040</td>\n",
       "      <td>1273</td>\n",
       "      <td>4</td>\n",
       "      <td>964828734</td>\n",
       "      <td>RATING</td>\n",
       "    </tr>\n",
       "    <tr>\n",
       "      <th>51162</th>\n",
       "      <td>6040</td>\n",
       "      <td>1674</td>\n",
       "      <td>4</td>\n",
       "      <td>964828706</td>\n",
       "      <td>RATING</td>\n",
       "    </tr>\n",
       "    <tr>\n",
       "      <th>51163</th>\n",
       "      <td>6040</td>\n",
       "      <td>1784</td>\n",
       "      <td>3</td>\n",
       "      <td>997454464</td>\n",
       "      <td>RATING</td>\n",
       "    </tr>\n",
       "    <tr>\n",
       "      <th>51164</th>\n",
       "      <td>6040</td>\n",
       "      <td>535</td>\n",
       "      <td>4</td>\n",
       "      <td>964828734</td>\n",
       "      <td>RATING</td>\n",
       "    </tr>\n",
       "    <tr>\n",
       "      <th>51165</th>\n",
       "      <td>6040</td>\n",
       "      <td>3751</td>\n",
       "      <td>4</td>\n",
       "      <td>964828782</td>\n",
       "      <td>RATING</td>\n",
       "    </tr>\n",
       "  </tbody>\n",
       "</table>\n",
       "<p>51166 rows × 5 columns</p>\n",
       "</div>"
      ],
      "text/plain": [
       "       USER_ID  ITEM_ID  EVENT_VALUE  TIMESTAMP EVENT_TYPE\n",
       "0            1     2355            5  978824291     RATING\n",
       "1            1     1907            4  978824330     RATING\n",
       "2            1      783            4  978824291     RATING\n",
       "3            2     1687            3  978300174     RATING\n",
       "4            2      292            3  978300123     RATING\n",
       "...        ...      ...          ...        ...        ...\n",
       "51161     6040     1273            4  964828734     RATING\n",
       "51162     6040     1674            4  964828706     RATING\n",
       "51163     6040     1784            3  997454464     RATING\n",
       "51164     6040      535            4  964828734     RATING\n",
       "51165     6040     3751            4  964828782     RATING\n",
       "\n",
       "[51166 rows x 5 columns]"
      ]
     },
     "execution_count": 6,
     "metadata": {},
     "output_type": "execute_result"
    }
   ],
   "source": [
    "test_users = df_holdout['USER_ID'].unique()\n",
    "df_holdout\n"
   ]
  },
  {
   "cell_type": "code",
   "execution_count": 8,
   "metadata": {},
   "outputs": [],
   "source": []
  },
  {
   "cell_type": "code",
   "execution_count": 31,
   "metadata": {},
   "outputs": [],
   "source": [
    "def get_relevance_list(campaign_arn, df_holdout, test_user_list):\n",
    "    relevance = []\n",
    "    for user_id in test_user_list:\n",
    "        true_items = set(df_holdout[df_holdout['USER_ID']==user_id]['ITEM_ID'].values)\n",
    "        rec_response = personalize_runtime.get_recommendations(\n",
    "            campaignArn = campaign_arn,\n",
    "            userId = str(user_id)\n",
    "        )\n",
    "        rec_items = [int(x['itemId']) for x in rec_response['itemList']]\n",
    "        relevance.append([int(x in true_items) for x in rec_items])\n",
    "    return relevance\n",
    "\n",
    "def evaluate_relevance(relevance):\n",
    "    mrr = np.mean([mean_reciprocal_rank(r) for r in relevance])\n",
    "    print('mean_reciprocal_rank: ',mrr)\n",
    "    \n",
    "    p_at_5= np.mean([precision_at_k(r, 5) for r in relevance])\n",
    "    print('precision_at_5: ',p_at_5)\n",
    "    \n",
    "    p_at_10 = np.mean([precision_at_k(r, 10) for r in relevance])\n",
    "    print('precision_at_10: ',p_at_10)\n",
    "    p_at_25 = np.mean([precision_at_k(r, 25) for r in relevance])\n",
    "    print('precision_at_25: ', p_at_25)\n",
    "    ndcg_at_5 = np.mean([ndcg_at_k(r, 5) for r in relevance])\n",
    "    print('normalized_discounted_cumulative_gain_at_5: ', ndcg_at_5)\n",
    "    ndcg_at_10 = np.mean([ndcg_at_k(r, 10) for r in relevance])\n",
    "    print('normalized_discounted_cumulative_gain_at_10: ',ndcg_at_10 )\n",
    "    ndcg_at_25 = np.mean([ndcg_at_k(r, 25) for r in relevance])    \n",
    "    print('normalized_discounted_cumulative_gain_at_25: ',ndcg_at_25 )    \n",
    "\n",
    "metrics=[]\n",
    "\n",
    "def build_metric_matrix(solution,response):\n",
    "    metrics.append([solution,\n",
    "                response['metrics']['coverage'],\n",
    "                response['metrics']['mean_reciprocal_rank_at_25'],\n",
    "                response['metrics']['normalized_discounted_cumulative_gain_at_5'],\n",
    "                response['metrics']['normalized_discounted_cumulative_gain_at_10'],\n",
    "                response['metrics']['normalized_discounted_cumulative_gain_at_25'],\n",
    "                response['metrics']['precision_at_5'],\n",
    "                response['metrics']['precision_at_10'],\n",
    "                response['metrics']['precision_at_25']])\n"
   ]
  },
  {
   "cell_type": "markdown",
   "metadata": {},
   "source": [
    "![Fig.3.2.metric_summary.png](static/imgs/Fig.3.2.metric_summary.png)"
   ]
  },
  {
   "cell_type": "code",
   "execution_count": 34,
   "metadata": {},
   "outputs": [],
   "source": [
    "test_user_list = test_users[:10]"
   ]
  },
  {
   "cell_type": "code",
   "execution_count": 35,
   "metadata": {},
   "outputs": [
    {
     "name": "stdout",
     "output_type": "stream",
     "text": [
      "mean_reciprocal_rank:  0.21524743230625581\n",
      "precision_at_5:  0.08\n",
      "precision_at_10:  0.09000000000000001\n",
      "precision_at_25:  0.068\n",
      "normalized_discounted_cumulative_gain_at_5:  0.13811095333354723\n",
      "normalized_discounted_cumulative_gain_at_10:  0.2220698649094479\n",
      "normalized_discounted_cumulative_gain_at_25:  0.3381175584255128\n"
     ]
    }
   ],
   "source": [
    "relevance = get_relevance_list(user_personalization_campaign_arn, df_holdout, test_user_list)\n",
    "evaluate_relevance(relevance)"
   ]
  },
  {
   "cell_type": "code",
   "execution_count": 36,
   "metadata": {},
   "outputs": [
    {
     "name": "stdout",
     "output_type": "stream",
     "text": [
      "mean_reciprocal_rank:  0.10416666666666667\n",
      "precision_at_5:  0.02\n",
      "precision_at_10:  0.04\n",
      "precision_at_25:  0.024\n",
      "normalized_discounted_cumulative_gain_at_5:  0.1\n",
      "normalized_discounted_cumulative_gain_at_10:  0.1967132018086354\n",
      "normalized_discounted_cumulative_gain_at_25:  0.23029407667552051\n"
     ]
    }
   ],
   "source": [
    "relevance = get_relevance_list(hrnn_campaign_arn, df_holdout, test_user_list)\n",
    "evaluate_relevance(relevance)"
   ]
  },
  {
   "cell_type": "code",
   "execution_count": 37,
   "metadata": {},
   "outputs": [
    {
     "name": "stdout",
     "output_type": "stream",
     "text": [
      "mean_reciprocal_rank:  0.12115079365079365\n",
      "precision_at_5:  0.04\n",
      "precision_at_10:  0.05\n",
      "precision_at_25:  0.05600000000000001\n",
      "normalized_discounted_cumulative_gain_at_5:  0.07807721888661444\n",
      "normalized_discounted_cumulative_gain_at_10:  0.12298713276783971\n",
      "normalized_discounted_cumulative_gain_at_25:  0.24449393114592563\n"
     ]
    }
   ],
   "source": [
    "relevance = get_relevance_list(hrnn_meta_campaign_arn, df_holdout, test_user_list)\n",
    "evaluate_relevance(relevance)"
   ]
  },
  {
   "cell_type": "markdown",
   "metadata": {},
   "source": [
    "## Cold Start 성능 테스트 \n",
    "\n",
    "이부분에서는 새롭게 더해진 새로운 아이템(ColdStart)에 대한 추천 성능을 테스트 해보도록 합니다. \n"
   ]
  },
  {
   "cell_type": "code",
   "execution_count": 9,
   "metadata": {},
   "outputs": [],
   "source": [
    "metrics=[]\n",
    "\n",
    "def build_metric_matrix(solution,relevance):\n",
    "    metrics.append([solution,\n",
    "                np.mean([mean_reciprocal_rank(r) for r in relevance]),\n",
    "                np.mean([precision_at_k(r, 5) for r in relevance]),\n",
    "                np.mean([precision_at_k(r, 10) for r in relevance]),\n",
    "                np.mean([precision_at_k(r, 10) for r in relevance]),\n",
    "                np.mean([ndcg_at_k(r, 5) for r in relevance]),\n",
    "                np.mean([ndcg_at_k(r, 10) for r in relevance]),\n",
    "                np.mean([ndcg_at_k(r, 25) for r in relevance])])\n"
   ]
  },
  {
   "cell_type": "code",
   "execution_count": 10,
   "metadata": {},
   "outputs": [
    {
     "data": {
      "text/plain": [
       "(6040,)"
      ]
     },
     "execution_count": 10,
     "metadata": {},
     "output_type": "execute_result"
    }
   ],
   "source": [
    "users = df_coldstart['USER_ID'].unique()\n",
    "users.shape"
   ]
  },
  {
   "cell_type": "code",
   "execution_count": 11,
   "metadata": {},
   "outputs": [
    {
     "name": "stderr",
     "output_type": "stream",
     "text": [
      "/home/ec2-user/anaconda3/envs/python3/lib/python3.6/site-packages/ipykernel/__main__.py:2: TqdmDeprecationWarning: This function will be removed in tqdm==5.0.0\n",
      "Please use `tqdm.notebook.tqdm` instead of `tqdm.tqdm_notebook`\n",
      "  from ipykernel import kernelapp as app\n"
     ]
    },
    {
     "data": {
      "application/vnd.jupyter.widget-view+json": {
       "model_id": "e556bcb95c5042de8de89b0e17febf88",
       "version_major": 2,
       "version_minor": 0
      },
      "text/plain": [
       "HBox(children=(FloatProgress(value=0.0, max=1000.0), HTML(value='')))"
      ]
     },
     "metadata": {},
     "output_type": "display_data"
    },
    {
     "name": "stdout",
     "output_type": "stream",
     "text": [
      "\n"
     ]
    }
   ],
   "source": [
    "relevance = []\n",
    "for user_id in  tqdm_notebook(users[:1000]):\n",
    "\n",
    "    true_items = set(df_coldstart[df_coldstart['USER_ID']==user_id]['ITEM_ID'].values)\n",
    "\n",
    "    rec_response = personalize_runtime.get_recommendations(\n",
    "            campaignArn = hrnn_coldstart_campaign_arn,\n",
    "            userId = str(user_id)\n",
    "        )\n",
    "    rec_items = [int(x['itemId']) for x in rec_response['itemList']]\n",
    "    relevance.append([int(x in true_items) for x in rec_items])"
   ]
  },
  {
   "cell_type": "code",
   "execution_count": 12,
   "metadata": {},
   "outputs": [
    {
     "name": "stdout",
     "output_type": "stream",
     "text": [
      "mean_reciprocal_rank 0.3062901684461423\n",
      "precision_at_5 0.1504\n",
      "precision_at_10 0.1422\n",
      "precision_at_25 0.12644\n",
      "normalized_discounted_cumulative_gain_at_5 0.19831109168815617\n",
      "normalized_discounted_cumulative_gain_at_10 0.2529745586524605\n",
      "normalized_discounted_cumulative_gain_at_25 0.38139360801035516\n"
     ]
    }
   ],
   "source": [
    "print('mean_reciprocal_rank', np.mean([mean_reciprocal_rank(r) for r in relevance]))\n",
    "print('precision_at_5', np.mean([precision_at_k(r, 5) for r in relevance]))\n",
    "print('precision_at_10', np.mean([precision_at_k(r, 10) for r in relevance]))\n",
    "print('precision_at_25', np.mean([precision_at_k(r, 25) for r in relevance]))\n",
    "print('normalized_discounted_cumulative_gain_at_5', np.mean([ndcg_at_k(r, 5) for r in relevance]))\n",
    "print('normalized_discounted_cumulative_gain_at_10', np.mean([ndcg_at_k(r, 10) for r in relevance]))\n",
    "print('normalized_discounted_cumulative_gain_at_25', np.mean([ndcg_at_k(r, 25) for r in relevance]))\n",
    "build_metric_matrix('hrnn-coldstart',relevance)"
   ]
  },
  {
   "cell_type": "markdown",
   "metadata": {},
   "source": [
    "### A baseline"
   ]
  },
  {
   "cell_type": "markdown",
   "metadata": {},
   "source": [
    "랜덤으로 추천하였을 경우 대비 Coldstart 성능이 얼마나 좋은 것인지 비교하여 보도록 합니다. "
   ]
  },
  {
   "cell_type": "code",
   "execution_count": 13,
   "metadata": {},
   "outputs": [
    {
     "data": {
      "text/plain": [
       "25"
      ]
     },
     "execution_count": 13,
     "metadata": {},
     "output_type": "execute_result"
    }
   ],
   "source": [
    "len(rec_items)"
   ]
  },
  {
   "cell_type": "code",
   "execution_count": 14,
   "metadata": {},
   "outputs": [
    {
     "name": "stderr",
     "output_type": "stream",
     "text": [
      "/home/ec2-user/anaconda3/envs/python3/lib/python3.6/site-packages/ipykernel/__main__.py:2: TqdmDeprecationWarning: This function will be removed in tqdm==5.0.0\n",
      "Please use `tqdm.notebook.tqdm` instead of `tqdm.tqdm_notebook`\n",
      "  from ipykernel import kernelapp as app\n"
     ]
    },
    {
     "data": {
      "application/vnd.jupyter.widget-view+json": {
       "model_id": "c829fe4e9f514e779e2c108d7d0d519f",
       "version_major": 2,
       "version_minor": 0
      },
      "text/plain": [
       "HBox(children=(FloatProgress(value=0.0, max=1000.0), HTML(value='')))"
      ]
     },
     "metadata": {},
     "output_type": "display_data"
    },
    {
     "name": "stdout",
     "output_type": "stream",
     "text": [
      "\n"
     ]
    }
   ],
   "source": [
    "relevance = []\n",
    "for user_id in  tqdm_notebook(users[:1000]):\n",
    "\n",
    "    true_items = set(df_coldstart[df_coldstart['USER_ID']==user_id]['ITEM_ID'].values)\n",
    "    rec_items = np.random.permutation(cold_items)[:25]\n",
    "    relevance.append([int(x in true_items) for x in rec_items])"
   ]
  },
  {
   "cell_type": "code",
   "execution_count": 15,
   "metadata": {},
   "outputs": [
    {
     "name": "stdout",
     "output_type": "stream",
     "text": [
      "mean_reciprocal_rank 0.11485065805076304\n",
      "precision_at_5 0.0384\n",
      "precision_at_10 0.0411\n",
      "precision_at_25 0.04264\n",
      "normalized_discounted_cumulative_gain_at_5 0.0713667283987009\n",
      "normalized_discounted_cumulative_gain_at_10 0.10898545670852522\n",
      "normalized_discounted_cumulative_gain_at_25 0.1921322157564481\n"
     ]
    }
   ],
   "source": [
    "print('mean_reciprocal_rank', np.mean([mean_reciprocal_rank(r) for r in relevance]))\n",
    "print('precision_at_5', np.mean([precision_at_k(r, 5) for r in relevance]))\n",
    "print('precision_at_10', np.mean([precision_at_k(r, 10) for r in relevance]))\n",
    "print('precision_at_25', np.mean([precision_at_k(r, 25) for r in relevance]))\n",
    "print('normalized_discounted_cumulative_gain_at_5', np.mean([ndcg_at_k(r, 5) for r in relevance]))\n",
    "print('normalized_discounted_cumulative_gain_at_10', np.mean([ndcg_at_k(r, 10) for r in relevance]))\n",
    "print('normalized_discounted_cumulative_gain_at_25', np.mean([ndcg_at_k(r, 25) for r in relevance]))\n",
    "build_metric_matrix('random',relevance)\n"
   ]
  },
  {
   "cell_type": "code",
   "execution_count": 16,
   "metadata": {},
   "outputs": [
    {
     "data": {
      "text/html": [
       "<div>\n",
       "<style scoped>\n",
       "    .dataframe tbody tr th:only-of-type {\n",
       "        vertical-align: middle;\n",
       "    }\n",
       "\n",
       "    .dataframe tbody tr th {\n",
       "        vertical-align: top;\n",
       "    }\n",
       "\n",
       "    .dataframe thead th {\n",
       "        text-align: right;\n",
       "    }\n",
       "</style>\n",
       "<table border=\"1\" class=\"dataframe\">\n",
       "  <thead>\n",
       "    <tr style=\"text-align: right;\">\n",
       "      <th></th>\n",
       "      <th>recipe</th>\n",
       "      <th>mrr</th>\n",
       "      <th>p@5</th>\n",
       "      <th>p@10</th>\n",
       "      <th>p@25</th>\n",
       "      <th>ndcg@5</th>\n",
       "      <th>ndcg@10</th>\n",
       "      <th>ndcg@25</th>\n",
       "    </tr>\n",
       "  </thead>\n",
       "  <tbody>\n",
       "    <tr>\n",
       "      <th>0</th>\n",
       "      <td>hrnn-coldstart</td>\n",
       "      <td>0.306290</td>\n",
       "      <td>0.1504</td>\n",
       "      <td>0.1422</td>\n",
       "      <td>0.1422</td>\n",
       "      <td>0.198311</td>\n",
       "      <td>0.252975</td>\n",
       "      <td>0.381394</td>\n",
       "    </tr>\n",
       "    <tr>\n",
       "      <th>1</th>\n",
       "      <td>random</td>\n",
       "      <td>0.114851</td>\n",
       "      <td>0.0384</td>\n",
       "      <td>0.0411</td>\n",
       "      <td>0.0411</td>\n",
       "      <td>0.071367</td>\n",
       "      <td>0.108985</td>\n",
       "      <td>0.192132</td>\n",
       "    </tr>\n",
       "  </tbody>\n",
       "</table>\n",
       "</div>"
      ],
      "text/plain": [
       "           recipe       mrr     p@5    p@10    p@25    ndcg@5   ndcg@10  \\\n",
       "0  hrnn-coldstart  0.306290  0.1504  0.1422  0.1422  0.198311  0.252975   \n",
       "1          random  0.114851  0.0384  0.0411  0.0411  0.071367  0.108985   \n",
       "\n",
       "    ndcg@25  \n",
       "0  0.381394  \n",
       "1  0.192132  "
      ]
     },
     "execution_count": 16,
     "metadata": {},
     "output_type": "execute_result"
    }
   ],
   "source": [
    "metrics=pd.DataFrame(metrics,columns=['recipe','mrr','p@5','p@10','p@25','ndcg@5','ndcg@10','ndcg@25'])\n",
    "metrics"
   ]
  },
  {
   "cell_type": "markdown",
   "metadata": {},
   "source": [
    "HRNN Cold Start모델은 메타 데이터의 일부 정보를 활용하여 Interaction정보가 없는 새로운 아이템에 대해도 추천을 할수 있습니다. 메타 데이터 정보가 장르밖에 없었음에도 랜덤 추천 대비 약 3~4배의 성능이 있었음을 확인할 수 있습니다. 메타 데이터 성능을 향상 시키거나 Cold-start item비율을 줄인다면 더 좋은 성능을 기대해 볼 수 있습니다. \n"
   ]
  },
  {
   "cell_type": "markdown",
   "metadata": {},
   "source": [
    "## A quick test"
   ]
  },
  {
   "cell_type": "code",
   "execution_count": 17,
   "metadata": {},
   "outputs": [],
   "source": [
    "# we had saved all the data before deleting the cold items\n",
    "\n",
    "df=pd.read_csv(interaction_filename)\n",
    "df = df.sort_values('TIMESTAMP', kind='mergesort').copy()"
   ]
  },
  {
   "cell_type": "code",
   "execution_count": 18,
   "metadata": {},
   "outputs": [
    {
     "name": "stderr",
     "output_type": "stream",
     "text": [
      "/home/ec2-user/anaconda3/envs/python3/lib/python3.6/site-packages/ipykernel/__main__.py:1: ParserWarning: Falling back to the 'python' engine because the 'c' engine does not support regex separators (separators > 1 char and different from '\\s+' are interpreted as regex); you can avoid this warning by specifying engine='python'.\n",
      "  if __name__ == '__main__':\n"
     ]
    },
    {
     "data": {
      "text/html": [
       "<div>\n",
       "<style scoped>\n",
       "    .dataframe tbody tr th:only-of-type {\n",
       "        vertical-align: middle;\n",
       "    }\n",
       "\n",
       "    .dataframe tbody tr th {\n",
       "        vertical-align: top;\n",
       "    }\n",
       "\n",
       "    .dataframe thead th {\n",
       "        text-align: right;\n",
       "    }\n",
       "</style>\n",
       "<table border=\"1\" class=\"dataframe\">\n",
       "  <thead>\n",
       "    <tr style=\"text-align: right;\">\n",
       "      <th></th>\n",
       "      <th>GENRE</th>\n",
       "    </tr>\n",
       "    <tr>\n",
       "      <th>ITEM_ID</th>\n",
       "      <th></th>\n",
       "    </tr>\n",
       "  </thead>\n",
       "  <tbody>\n",
       "    <tr>\n",
       "      <th>459</th>\n",
       "      <td>Action</td>\n",
       "    </tr>\n",
       "    <tr>\n",
       "      <th>442</th>\n",
       "      <td>Action|Sci-Fi</td>\n",
       "    </tr>\n",
       "    <tr>\n",
       "      <th>1597</th>\n",
       "      <td>Action|Mystery|Romance|Thriller</td>\n",
       "    </tr>\n",
       "    <tr>\n",
       "      <th>2628</th>\n",
       "      <td>Action|Adventure|Fantasy|Sci-Fi</td>\n",
       "    </tr>\n",
       "    <tr>\n",
       "      <th>1690</th>\n",
       "      <td>Action|Horror|Sci-Fi</td>\n",
       "    </tr>\n",
       "  </tbody>\n",
       "</table>\n",
       "</div>"
      ],
      "text/plain": [
       "                                   GENRE\n",
       "ITEM_ID                                 \n",
       "459                               Action\n",
       "442                        Action|Sci-Fi\n",
       "1597     Action|Mystery|Romance|Thriller\n",
       "2628     Action|Adventure|Fantasy|Sci-Fi\n",
       "1690                Action|Horror|Sci-Fi"
      ]
     },
     "execution_count": 18,
     "metadata": {},
     "output_type": "execute_result"
    }
   ],
   "source": [
    "items_all = pd.read_csv('./ml-1m/movies.dat',sep='::', encoding='latin1',names=['ITEM_ID', '_TITLE', 'GENRE'],)\n",
    "del items_all['_TITLE']\n",
    "\n",
    "user_id = users[1]\n",
    "hist_items = df[df['USER_ID']==user_id]['ITEM_ID'].tail(5).values\n",
    "items_all.set_index('ITEM_ID').loc[hist_items]"
   ]
  },
  {
   "cell_type": "code",
   "execution_count": 19,
   "metadata": {},
   "outputs": [
    {
     "data": {
      "text/html": [
       "<div>\n",
       "<style scoped>\n",
       "    .dataframe tbody tr th:only-of-type {\n",
       "        vertical-align: middle;\n",
       "    }\n",
       "\n",
       "    .dataframe tbody tr th {\n",
       "        vertical-align: top;\n",
       "    }\n",
       "\n",
       "    .dataframe thead th {\n",
       "        text-align: right;\n",
       "    }\n",
       "</style>\n",
       "<table border=\"1\" class=\"dataframe\">\n",
       "  <thead>\n",
       "    <tr style=\"text-align: right;\">\n",
       "      <th></th>\n",
       "      <th>GENRE</th>\n",
       "    </tr>\n",
       "    <tr>\n",
       "      <th>ITEM_ID</th>\n",
       "      <th></th>\n",
       "    </tr>\n",
       "  </thead>\n",
       "  <tbody>\n",
       "    <tr>\n",
       "      <th>1205</th>\n",
       "      <td>Action|Animation|Children's|Sci-Fi|Thriller|War</td>\n",
       "    </tr>\n",
       "    <tr>\n",
       "      <th>610</th>\n",
       "      <td>Action|Adventure|Animation|Horror|Sci-Fi</td>\n",
       "    </tr>\n",
       "    <tr>\n",
       "      <th>849</th>\n",
       "      <td>Action|Adventure|Sci-Fi|Thriller</td>\n",
       "    </tr>\n",
       "    <tr>\n",
       "      <th>1917</th>\n",
       "      <td>Action|Adventure|Sci-Fi|Thriller</td>\n",
       "    </tr>\n",
       "    <tr>\n",
       "      <th>1591</th>\n",
       "      <td>Action|Adventure|Sci-Fi|Thriller</td>\n",
       "    </tr>\n",
       "  </tbody>\n",
       "</table>\n",
       "</div>"
      ],
      "text/plain": [
       "                                                   GENRE\n",
       "ITEM_ID                                                 \n",
       "1205     Action|Animation|Children's|Sci-Fi|Thriller|War\n",
       "610             Action|Adventure|Animation|Horror|Sci-Fi\n",
       "849                     Action|Adventure|Sci-Fi|Thriller\n",
       "1917                    Action|Adventure|Sci-Fi|Thriller\n",
       "1591                    Action|Adventure|Sci-Fi|Thriller"
      ]
     },
     "execution_count": 19,
     "metadata": {},
     "output_type": "execute_result"
    }
   ],
   "source": [
    "rec_response = personalize_runtime.get_recommendations(\n",
    "            campaignArn = hrnn_coldstart_campaign_arn,\n",
    "            userId = str(user_id)\n",
    "        )\n",
    "rec_items = [int(x['itemId']) for x in rec_response['itemList']]\n",
    "\n",
    "items_all.set_index('ITEM_ID').loc[rec_items[:5]]\n",
    "\n"
   ]
  },
  {
   "cell_type": "code",
   "execution_count": 20,
   "metadata": {},
   "outputs": [
    {
     "data": {
      "text/html": [
       "<div>\n",
       "<style scoped>\n",
       "    .dataframe tbody tr th:only-of-type {\n",
       "        vertical-align: middle;\n",
       "    }\n",
       "\n",
       "    .dataframe tbody tr th {\n",
       "        vertical-align: top;\n",
       "    }\n",
       "\n",
       "    .dataframe thead th {\n",
       "        text-align: right;\n",
       "    }\n",
       "</style>\n",
       "<table border=\"1\" class=\"dataframe\">\n",
       "  <thead>\n",
       "    <tr style=\"text-align: right;\">\n",
       "      <th></th>\n",
       "      <th>GENRE</th>\n",
       "    </tr>\n",
       "    <tr>\n",
       "      <th>ITEM_ID</th>\n",
       "      <th></th>\n",
       "    </tr>\n",
       "  </thead>\n",
       "  <tbody>\n",
       "    <tr>\n",
       "      <th>1205</th>\n",
       "      <td>Action|Animation|Children's|Sci-Fi|Thriller|War</td>\n",
       "    </tr>\n",
       "    <tr>\n",
       "      <th>610</th>\n",
       "      <td>Action|Adventure|Animation|Horror|Sci-Fi</td>\n",
       "    </tr>\n",
       "    <tr>\n",
       "      <th>849</th>\n",
       "      <td>Action|Adventure|Sci-Fi|Thriller</td>\n",
       "    </tr>\n",
       "    <tr>\n",
       "      <th>1917</th>\n",
       "      <td>Action|Adventure|Sci-Fi|Thriller</td>\n",
       "    </tr>\n",
       "    <tr>\n",
       "      <th>1591</th>\n",
       "      <td>Action|Adventure|Sci-Fi|Thriller</td>\n",
       "    </tr>\n",
       "  </tbody>\n",
       "</table>\n",
       "</div>"
      ],
      "text/plain": [
       "                                                   GENRE\n",
       "ITEM_ID                                                 \n",
       "1205     Action|Animation|Children's|Sci-Fi|Thriller|War\n",
       "610             Action|Adventure|Animation|Horror|Sci-Fi\n",
       "849                     Action|Adventure|Sci-Fi|Thriller\n",
       "1917                    Action|Adventure|Sci-Fi|Thriller\n",
       "1591                    Action|Adventure|Sci-Fi|Thriller"
      ]
     },
     "execution_count": 20,
     "metadata": {},
     "output_type": "execute_result"
    }
   ],
   "source": [
    "rec_response = personalize_runtime.get_recommendations(\n",
    "            campaignArn = hrnn_coldstart_campaign_arn,\n",
    "            userId = str(user_id)\n",
    "        )\n",
    "rec_items = [int(x['itemId']) for x in rec_response['itemList']]\n",
    "\n",
    "items_all.set_index('ITEM_ID').loc[rec_items[:5]]\n",
    "\n"
   ]
  },
  {
   "cell_type": "raw",
   "metadata": {},
   "source": []
  },
  {
   "cell_type": "code",
   "execution_count": 21,
   "metadata": {},
   "outputs": [
    {
     "data": {
      "text/plain": [
       "'\\ndef is_cold_item(rec_items):\\n    count=0\\n    np_cold_items=np.array(cold_items)\\n    for i in range(len(rec_items)):\\n        if np.where(np_cold_items==rec_items[i]):\\n            count+=1\\n        else:\\n            print(\"Item_id {} is not Coldstart Item\".format(rec_items[i]))\\n    print(count)\\nis_cold_item(rec_items)\\n'"
      ]
     },
     "execution_count": 21,
     "metadata": {},
     "output_type": "execute_result"
    }
   ],
   "source": [
    "##This code is only testing purpose\n",
    "'''\n",
    "def is_cold_item(rec_items):\n",
    "    count=0\n",
    "    np_cold_items=np.array(cold_items)\n",
    "    for i in range(len(rec_items)):\n",
    "        if np.where(np_cold_items==rec_items[i]):\n",
    "            count+=1\n",
    "        else:\n",
    "            print(\"Item_id {} is not Coldstart Item\".format(rec_items[i]))\n",
    "    print(count)\n",
    "is_cold_item(rec_items)\n",
    "'''"
   ]
  },
  {
   "cell_type": "markdown",
   "metadata": {},
   "source": [
    "이 사용자는액션|어드벤처|스릴러 아이템을 많이 선택하였고 모델도 장르에서 만이 선택하였다는 것을 다는 것을 알았습니다. 콜드 아이템에서 액션 | 어드벤처 | 스릴러 아이템을 추천합니다."
   ]
  },
  {
   "cell_type": "markdown",
   "metadata": {},
   "source": [
    "## Another quick test"
   ]
  },
  {
   "cell_type": "code",
   "execution_count": 22,
   "metadata": {},
   "outputs": [
    {
     "data": {
      "text/html": [
       "<div>\n",
       "<style scoped>\n",
       "    .dataframe tbody tr th:only-of-type {\n",
       "        vertical-align: middle;\n",
       "    }\n",
       "\n",
       "    .dataframe tbody tr th {\n",
       "        vertical-align: top;\n",
       "    }\n",
       "\n",
       "    .dataframe thead th {\n",
       "        text-align: right;\n",
       "    }\n",
       "</style>\n",
       "<table border=\"1\" class=\"dataframe\">\n",
       "  <thead>\n",
       "    <tr style=\"text-align: right;\">\n",
       "      <th></th>\n",
       "      <th>GENRE</th>\n",
       "    </tr>\n",
       "    <tr>\n",
       "      <th>ITEM_ID</th>\n",
       "      <th></th>\n",
       "    </tr>\n",
       "  </thead>\n",
       "  <tbody>\n",
       "    <tr>\n",
       "      <th>2470</th>\n",
       "      <td>Adventure|Comedy</td>\n",
       "    </tr>\n",
       "    <tr>\n",
       "      <th>2115</th>\n",
       "      <td>Action|Adventure</td>\n",
       "    </tr>\n",
       "    <tr>\n",
       "      <th>552</th>\n",
       "      <td>Action|Adventure|Comedy</td>\n",
       "    </tr>\n",
       "    <tr>\n",
       "      <th>2617</th>\n",
       "      <td>Action|Adventure|Horror|Thriller</td>\n",
       "    </tr>\n",
       "    <tr>\n",
       "      <th>2735</th>\n",
       "      <td>Action|Adventure|Comedy</td>\n",
       "    </tr>\n",
       "    <tr>\n",
       "      <th>1136</th>\n",
       "      <td>Comedy</td>\n",
       "    </tr>\n",
       "    <tr>\n",
       "      <th>3114</th>\n",
       "      <td>Animation|Children's|Comedy</td>\n",
       "    </tr>\n",
       "    <tr>\n",
       "      <th>3619</th>\n",
       "      <td>Comedy</td>\n",
       "    </tr>\n",
       "    <tr>\n",
       "      <th>1265</th>\n",
       "      <td>Comedy|Romance</td>\n",
       "    </tr>\n",
       "    <tr>\n",
       "      <th>2355</th>\n",
       "      <td>Animation|Children's|Comedy</td>\n",
       "    </tr>\n",
       "  </tbody>\n",
       "</table>\n",
       "</div>"
      ],
      "text/plain": [
       "                                    GENRE\n",
       "ITEM_ID                                  \n",
       "2470                     Adventure|Comedy\n",
       "2115                     Action|Adventure\n",
       "552               Action|Adventure|Comedy\n",
       "2617     Action|Adventure|Horror|Thriller\n",
       "2735              Action|Adventure|Comedy\n",
       "1136                               Comedy\n",
       "3114          Animation|Children's|Comedy\n",
       "3619                               Comedy\n",
       "1265                       Comedy|Romance\n",
       "2355          Animation|Children's|Comedy"
      ]
     },
     "execution_count": 22,
     "metadata": {},
     "output_type": "execute_result"
    }
   ],
   "source": [
    "user_id = users[2]\n",
    "hist_items = df[df['USER_ID']==user_id]['ITEM_ID'].tail(10).values\n",
    "items_all.set_index('ITEM_ID').loc[hist_items]"
   ]
  },
  {
   "cell_type": "code",
   "execution_count": 23,
   "metadata": {},
   "outputs": [
    {
     "data": {
      "text/html": [
       "<div>\n",
       "<style scoped>\n",
       "    .dataframe tbody tr th:only-of-type {\n",
       "        vertical-align: middle;\n",
       "    }\n",
       "\n",
       "    .dataframe tbody tr th {\n",
       "        vertical-align: top;\n",
       "    }\n",
       "\n",
       "    .dataframe thead th {\n",
       "        text-align: right;\n",
       "    }\n",
       "</style>\n",
       "<table border=\"1\" class=\"dataframe\">\n",
       "  <thead>\n",
       "    <tr style=\"text-align: right;\">\n",
       "      <th></th>\n",
       "      <th>GENRE</th>\n",
       "    </tr>\n",
       "    <tr>\n",
       "      <th>ITEM_ID</th>\n",
       "      <th></th>\n",
       "    </tr>\n",
       "  </thead>\n",
       "  <tbody>\n",
       "    <tr>\n",
       "      <th>1566</th>\n",
       "      <td>Adventure|Animation|Children's|Comedy|Musical</td>\n",
       "    </tr>\n",
       "    <tr>\n",
       "      <th>588</th>\n",
       "      <td>Animation|Children's|Comedy|Musical</td>\n",
       "    </tr>\n",
       "    <tr>\n",
       "      <th>2078</th>\n",
       "      <td>Animation|Children's|Comedy|Musical</td>\n",
       "    </tr>\n",
       "    <tr>\n",
       "      <th>239</th>\n",
       "      <td>Animation|Children's|Comedy|Romance</td>\n",
       "    </tr>\n",
       "    <tr>\n",
       "      <th>2141</th>\n",
       "      <td>Animation|Children's|Comedy</td>\n",
       "    </tr>\n",
       "    <tr>\n",
       "      <th>3611</th>\n",
       "      <td>Animation|Children's|Comedy</td>\n",
       "    </tr>\n",
       "    <tr>\n",
       "      <th>3754</th>\n",
       "      <td>Animation|Children's|Comedy</td>\n",
       "    </tr>\n",
       "    <tr>\n",
       "      <th>688</th>\n",
       "      <td>Action|Adventure|Comedy|War</td>\n",
       "    </tr>\n",
       "    <tr>\n",
       "      <th>1148</th>\n",
       "      <td>Animation|Comedy</td>\n",
       "    </tr>\n",
       "    <tr>\n",
       "      <th>2700</th>\n",
       "      <td>Animation|Comedy</td>\n",
       "    </tr>\n",
       "  </tbody>\n",
       "</table>\n",
       "</div>"
      ],
      "text/plain": [
       "                                                 GENRE\n",
       "ITEM_ID                                               \n",
       "1566     Adventure|Animation|Children's|Comedy|Musical\n",
       "588                Animation|Children's|Comedy|Musical\n",
       "2078               Animation|Children's|Comedy|Musical\n",
       "239                Animation|Children's|Comedy|Romance\n",
       "2141                       Animation|Children's|Comedy\n",
       "3611                       Animation|Children's|Comedy\n",
       "3754                       Animation|Children's|Comedy\n",
       "688                        Action|Adventure|Comedy|War\n",
       "1148                                  Animation|Comedy\n",
       "2700                                  Animation|Comedy"
      ]
     },
     "execution_count": 23,
     "metadata": {},
     "output_type": "execute_result"
    }
   ],
   "source": [
    "rec_response = personalize_runtime.get_recommendations(\n",
    "            campaignArn = hrnn_coldstart_campaign_arn,\n",
    "            userId = str(user_id)\n",
    "        )\n",
    "rec_items = [int(x['itemId']) for x in rec_response['itemList']]\n",
    "items_all.set_index('ITEM_ID').loc[rec_items[:10]]"
   ]
  },
  {
   "cell_type": "markdown",
   "metadata": {},
   "source": [
    "다시 한번 테스트를 통해 해당 사용자는 Comedy|Action을 주로 보았고 Amazon personalize 모델이 Comedy|Action 아이템을 추천하는 것을 볼 수 있습니다. "
   ]
  },
  {
   "cell_type": "code",
   "execution_count": null,
   "metadata": {},
   "outputs": [],
   "source": []
  }
 ],
 "metadata": {
  "kernelspec": {
   "display_name": "conda_python3",
   "language": "python",
   "name": "conda_python3"
  },
  "language_info": {
   "codemirror_mode": {
    "name": "ipython",
    "version": 3
   },
   "file_extension": ".py",
   "mimetype": "text/x-python",
   "name": "python",
   "nbconvert_exporter": "python",
   "pygments_lexer": "ipython3",
   "version": "3.6.10"
  }
 },
 "nbformat": 4,
 "nbformat_minor": 4
}

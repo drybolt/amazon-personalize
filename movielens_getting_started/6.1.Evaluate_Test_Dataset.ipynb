{
 "cells": [
  {
   "cell_type": "markdown",
   "metadata": {},
   "source": [
    "# [Module 6.1] Custom Metric 으로 성능 데이터 및 Cold Start 성능 체크 하기 "
   ]
  },
  {
   "cell_type": "markdown",
   "metadata": {},
   "source": [
    "이번 모듈에서는 모듈1에서 테스트 용으로 분리했던 데이터를 가지고 Custom 지표를 통해 추가적인 성능을 평가해 보도록 합니다. \n",
    "또한 HRNN Coldstart 성능도 추가적으로 확인해 보도록 합니다.Coldstart 아이템은 신규로 등록된 아이템 이기 때문에 성능을 예측하기가 어려운 부분이 있습니다. "
   ]
  },
  {
   "cell_type": "code",
   "execution_count": 18,
   "metadata": {},
   "outputs": [],
   "source": [
    "import pandas as pd, numpy as np\n",
    "import io\n",
    "import scipy.sparse as ss\n",
    "import json\n",
    "import time\n",
    "import os\n",
    "import boto3\n",
    "from botocore.exceptions import ClientError\n",
    "from metrics import ndcg_at_k, precision_at_k, mean_reciprocal_rank\n",
    "\n",
    "from tqdm import notebook"
   ]
  },
  {
   "cell_type": "code",
   "execution_count": 19,
   "metadata": {},
   "outputs": [],
   "source": [
    "%store -r"
   ]
  },
  {
   "cell_type": "code",
   "execution_count": 20,
   "metadata": {},
   "outputs": [],
   "source": [
    "# Configure the SDK to Personalize:\n",
    "personalize = boto3.client('personalize')\n",
    "personalize_runtime = boto3.client('personalize-runtime')"
   ]
  },
  {
   "cell_type": "code",
   "execution_count": 21,
   "metadata": {},
   "outputs": [],
   "source": [
    "#read holdout data and coldstart data\n",
    "df_holdout = pd.read_csv(validation_interaction_filename)\n",
    "df_coldstart=pd.read_csv(coldstart_interation_filename)"
   ]
  },
  {
   "cell_type": "markdown",
   "metadata": {},
   "source": [
    "## Validaton(holdout) 데이터 세트 평가하기\n",
    "\n",
    "이번 파트에서는 앞장에 남겨두었던 데이터 세트를 활용하여 모델 성능을 평가 하도록 합니다.\n",
    "테스트 데이터 셋에 있는 모든 고유한 사용자에 대해 테스트 데이터 세트 Interaction Ground Truth data와 Campaign에서 생성된 결과를 비교 하도록 합니다.\n"
   ]
  },
  {
   "cell_type": "code",
   "execution_count": 22,
   "metadata": {},
   "outputs": [],
   "source": [
    "def get_relevance_list(campaign_arn, df_holdout, test_user_list):\n",
    "    relevance = []\n",
    "    for user_id in test_user_list:\n",
    "        true_items = set(df_holdout[df_holdout['USER_ID']==user_id]['ITEM_ID'].values)\n",
    "        rec_response = personalize_runtime.get_recommendations(\n",
    "            campaignArn = campaign_arn,\n",
    "            userId = str(user_id)\n",
    "        )\n",
    "        rec_items = [int(x['itemId']) for x in rec_response['itemList']]\n",
    "        relevance.append([int(x in true_items) for x in rec_items])\n",
    "    return relevance\n",
    "\n",
    "def evaluate_relevance(relevance):\n",
    "    '''\n",
    "    relevance 입력 받으면, 지표를 사전으로 리턴 함\n",
    "    '''\n",
    "    mrr = np.mean([mean_reciprocal_rank(r) for r in relevance])\n",
    "    p_at_5= np.mean([precision_at_k(r, 5) for r in relevance])\n",
    "    p_at_10 = np.mean([precision_at_k(r, 10) for r in relevance])\n",
    "    p_at_25 = np.mean([precision_at_k(r, 25) for r in relevance])\n",
    "    ndcg_at_5 = np.mean([ndcg_at_k(r, 5) for r in relevance])\n",
    "    ndcg_at_10 = np.mean([ndcg_at_k(r, 10) for r in relevance])\n",
    "    ndcg_at_25 = np.mean([ndcg_at_k(r, 25) for r in relevance])    \n",
    "#     print('mean_reciprocal_rank: ',mrr)\n",
    "#     print('precision_at_5: ',p_at_5)\n",
    "#     print('precision_at_10: ',p_at_10)\n",
    "#     print('precision_at_25: ', p_at_25)\n",
    "#     print('normalized_discounted_cumulative_gain_at_5: ', ndcg_at_5)\n",
    "#     print('normalized_discounted_cu{}mulative_gain_at_10: ',ndcg_at_10 )\n",
    "#     print('normalized_discounted_cumulative_gain_at_25: ',ndcg_at_25 )    \n",
    "\n",
    "    metric_dict = {}\n",
    "    metric_dict['mrr'] = round(mrr,3)\n",
    "    metric_dict['ndcg_at_5'] = round(ndcg_at_5,3)        \n",
    "    metric_dict['ndcg_at_10'] = round(ndcg_at_10,3)            \n",
    "    metric_dict['ndcg_at_25'] = round(ndcg_at_25,3)                \n",
    "    metric_dict['p_at_5'] = round(p_at_5,3)    \n",
    "    metric_dict['p_at_10'] = round(p_at_10, 3)\n",
    "    metric_dict['p_at_25'] = round(p_at_25,3)    \n",
    "        \n",
    "    return metric_dict\n",
    "\n",
    "def build_metric_matrix(solution,metric_dict):\n",
    "    metrics.append([solution,\n",
    "                        metric_dict['mrr'],\n",
    "                        metric_dict['p_at_5'],\n",
    "                        metric_dict['p_at_10'],\n",
    "                        metric_dict['p_at_25'],\n",
    "                        metric_dict['ndcg_at_5'],\n",
    "                        metric_dict['ndcg_at_10'],\n",
    "                        metric_dict['ndcg_at_25']\n",
    "\n",
    "])\n"
   ]
  },
  {
   "cell_type": "markdown",
   "metadata": {},
   "source": [
    "![Fig.3.2.metric_summary.png](static/imgs/Fig.3.2.metric_summary.png)"
   ]
  },
  {
   "cell_type": "markdown",
   "metadata": {},
   "source": [
    "#### Validation 결과 확인 하기\n",
    "\n",
    "아래 과정은 num_test_user = 1000 으로 하면 약 4분 소요 됩니다.\n",
    "디폴트로 100을 설정 합니다."
   ]
  },
  {
   "cell_type": "code",
   "execution_count": 23,
   "metadata": {},
   "outputs": [],
   "source": [
    "test_users = df_holdout['USER_ID'].unique()\n",
    "\n",
    "# num_validation_test_user = 6040\n",
    "num_validation_test_user = 10\n",
    "test_user_list = test_users[:num_validation_test_user]"
   ]
  },
  {
   "cell_type": "code",
   "execution_count": 24,
   "metadata": {},
   "outputs": [
    {
     "name": "stdout",
     "output_type": "stream",
     "text": [
      "CPU times: user 128 ms, sys: 256 µs, total: 128 ms\n",
      "Wall time: 4.43 s\n"
     ]
    }
   ],
   "source": [
    "%%time\n",
    "\n",
    "metrics=[] # 변수 선언\n",
    "# user-perssonalization\n",
    "relevance = get_relevance_list(user_personalization_campaign_arn, df_holdout, test_user_list)\n",
    "metrics_eval_rel = evaluate_relevance(relevance)\n",
    "build_metric_matrix(\"user-pers\",metrics_eval_rel)\n",
    "# hrnn\n",
    "relevance = get_relevance_list(hrnn_campaign_arn, df_holdout, test_user_list)\n",
    "metrics_eval_rel = evaluate_relevance(relevance)\n",
    "build_metric_matrix(\"hrnn\",metrics_eval_rel)\n",
    "# hrnn-meta\n",
    "relevance = get_relevance_list(hrnn_meta_campaign_arn, df_holdout, test_user_list)\n",
    "metrics_eval_rel = evaluate_relevance(relevance)\n",
    "build_metric_matrix(\"hrnn-meta\",metrics_eval_rel)\n",
    "# hrnn-coldstart\n",
    "relevance = get_relevance_list(hrnn_coldstart_campaign_arn, df_holdout, test_user_list)\n",
    "metrics_eval_rel = evaluate_relevance(relevance)\n",
    "build_metric_matrix(\"hrnn_coldstart\",metrics_eval_rel)"
   ]
  },
  {
   "cell_type": "code",
   "execution_count": 25,
   "metadata": {},
   "outputs": [
    {
     "data": {
      "text/html": [
       "<div>\n",
       "<style scoped>\n",
       "    .dataframe tbody tr th:only-of-type {\n",
       "        vertical-align: middle;\n",
       "    }\n",
       "\n",
       "    .dataframe tbody tr th {\n",
       "        vertical-align: top;\n",
       "    }\n",
       "\n",
       "    .dataframe thead th {\n",
       "        text-align: right;\n",
       "    }\n",
       "</style>\n",
       "<table border=\"1\" class=\"dataframe\">\n",
       "  <thead>\n",
       "    <tr style=\"text-align: right;\">\n",
       "      <th></th>\n",
       "      <th>recipe</th>\n",
       "      <th>mrr</th>\n",
       "      <th>ncdg@5</th>\n",
       "      <th>ncdg@10</th>\n",
       "      <th>ncdg@25</th>\n",
       "      <th>p@5</th>\n",
       "      <th>p@10</th>\n",
       "      <th>p@25</th>\n",
       "    </tr>\n",
       "  </thead>\n",
       "  <tbody>\n",
       "    <tr>\n",
       "      <th>0</th>\n",
       "      <td>user-pers</td>\n",
       "      <td>0.215</td>\n",
       "      <td>0.08</td>\n",
       "      <td>0.09</td>\n",
       "      <td>0.068</td>\n",
       "      <td>0.138</td>\n",
       "      <td>0.222</td>\n",
       "      <td>0.338</td>\n",
       "    </tr>\n",
       "    <tr>\n",
       "      <th>1</th>\n",
       "      <td>hrnn</td>\n",
       "      <td>0.104</td>\n",
       "      <td>0.02</td>\n",
       "      <td>0.04</td>\n",
       "      <td>0.024</td>\n",
       "      <td>0.100</td>\n",
       "      <td>0.197</td>\n",
       "      <td>0.230</td>\n",
       "    </tr>\n",
       "    <tr>\n",
       "      <th>2</th>\n",
       "      <td>hrnn-meta</td>\n",
       "      <td>0.121</td>\n",
       "      <td>0.04</td>\n",
       "      <td>0.05</td>\n",
       "      <td>0.056</td>\n",
       "      <td>0.078</td>\n",
       "      <td>0.123</td>\n",
       "      <td>0.244</td>\n",
       "    </tr>\n",
       "    <tr>\n",
       "      <th>3</th>\n",
       "      <td>hrnn_coldstart</td>\n",
       "      <td>0.025</td>\n",
       "      <td>0.02</td>\n",
       "      <td>0.01</td>\n",
       "      <td>0.004</td>\n",
       "      <td>0.050</td>\n",
       "      <td>0.050</td>\n",
       "      <td>0.050</td>\n",
       "    </tr>\n",
       "  </tbody>\n",
       "</table>\n",
       "</div>"
      ],
      "text/plain": [
       "           recipe    mrr  ncdg@5  ncdg@10  ncdg@25    p@5   p@10   p@25\n",
       "0       user-pers  0.215    0.08     0.09    0.068  0.138  0.222  0.338\n",
       "1            hrnn  0.104    0.02     0.04    0.024  0.100  0.197  0.230\n",
       "2       hrnn-meta  0.121    0.04     0.05    0.056  0.078  0.123  0.244\n",
       "3  hrnn_coldstart  0.025    0.02     0.01    0.004  0.050  0.050  0.050"
      ]
     },
     "execution_count": 25,
     "metadata": {},
     "output_type": "execute_result"
    }
   ],
   "source": [
    "val_metrics = pd.DataFrame(metrics, \n",
    "                           columns=['recipe','mrr','ncdg@5','ncdg@10','ncdg@25','p@5','p@10','p@25'])\n",
    "val_metrics"
   ]
  },
  {
   "cell_type": "markdown",
   "metadata": {},
   "source": [
    "![Fig.6.1.validation_metric_summary](static/imgs/Fig.6.1.validation_metric_summary.png)"
   ]
  },
  {
   "cell_type": "markdown",
   "metadata": {},
   "source": [
    "## Cold Start 성능 테스트 \n",
    "\n",
    "이부분에서는 새롭게 더해진 새로운 아이템(ColdStart)에 대한 추천 성능을 테스트 해보도록 합니다. \n"
   ]
  },
  {
   "cell_type": "code",
   "execution_count": 26,
   "metadata": {},
   "outputs": [],
   "source": [
    "test_users = df_coldstart['USER_ID'].unique()\n",
    "# num_coldstart_test_user = 6040\n",
    "num_coldstart_test_user = 10\n",
    "test_user_list = test_users[:num_coldstart_test_user]"
   ]
  },
  {
   "cell_type": "code",
   "execution_count": 27,
   "metadata": {},
   "outputs": [],
   "source": [
    "metrics=[] # 변수 선언\n",
    "\n",
    "# hrnn-coldstart\n",
    "relevance = get_relevance_list(hrnn_coldstart_campaign_arn, df_coldstart, test_user_list)\n",
    "metrics_eval_rel = evaluate_relevance(relevance)\n",
    "build_metric_matrix(\"hrnn_coldstart\",metrics_eval_rel)\n",
    "# random\n",
    "def get_random_relevance_list(df_coldstart, test_user_list):\n",
    "    relevance = []\n",
    "    for user_id in  test_user_list:\n",
    "        true_items = set(df_coldstart[df_coldstart['USER_ID']==user_id]['ITEM_ID'].values)\n",
    "        rec_items = np.random.RandomState(seed=42).permutation(cold_items)[:25]\n",
    "        relevance.append([int(x in true_items) for x in rec_items])\n",
    "        \n",
    "    return relevance\n",
    "\n",
    "relevance = get_random_relevance_list(df_coldstart, test_user_list)\n",
    "metrics_eval_rel = evaluate_relevance(relevance)\n",
    "build_metric_matrix(\"random\",metrics_eval_rel)"
   ]
  },
  {
   "cell_type": "code",
   "execution_count": 28,
   "metadata": {},
   "outputs": [
    {
     "data": {
      "text/html": [
       "<div>\n",
       "<style scoped>\n",
       "    .dataframe tbody tr th:only-of-type {\n",
       "        vertical-align: middle;\n",
       "    }\n",
       "\n",
       "    .dataframe tbody tr th {\n",
       "        vertical-align: top;\n",
       "    }\n",
       "\n",
       "    .dataframe thead th {\n",
       "        text-align: right;\n",
       "    }\n",
       "</style>\n",
       "<table border=\"1\" class=\"dataframe\">\n",
       "  <thead>\n",
       "    <tr style=\"text-align: right;\">\n",
       "      <th></th>\n",
       "      <th>recipe</th>\n",
       "      <th>mrr</th>\n",
       "      <th>ncdg@5</th>\n",
       "      <th>ncdg@10</th>\n",
       "      <th>ncdg@25</th>\n",
       "      <th>p@5</th>\n",
       "      <th>p@10</th>\n",
       "      <th>p@25</th>\n",
       "    </tr>\n",
       "  </thead>\n",
       "  <tbody>\n",
       "    <tr>\n",
       "      <th>0</th>\n",
       "      <td>hrnn_coldstart</td>\n",
       "      <td>0.320</td>\n",
       "      <td>0.14</td>\n",
       "      <td>0.14</td>\n",
       "      <td>0.104</td>\n",
       "      <td>0.216</td>\n",
       "      <td>0.274</td>\n",
       "      <td>0.403</td>\n",
       "    </tr>\n",
       "    <tr>\n",
       "      <th>1</th>\n",
       "      <td>random</td>\n",
       "      <td>0.105</td>\n",
       "      <td>0.04</td>\n",
       "      <td>0.04</td>\n",
       "      <td>0.020</td>\n",
       "      <td>0.113</td>\n",
       "      <td>0.168</td>\n",
       "      <td>0.190</td>\n",
       "    </tr>\n",
       "  </tbody>\n",
       "</table>\n",
       "</div>"
      ],
      "text/plain": [
       "           recipe    mrr  ncdg@5  ncdg@10  ncdg@25    p@5   p@10   p@25\n",
       "0  hrnn_coldstart  0.320    0.14     0.14    0.104  0.216  0.274  0.403\n",
       "1          random  0.105    0.04     0.04    0.020  0.113  0.168  0.190"
      ]
     },
     "execution_count": 28,
     "metadata": {},
     "output_type": "execute_result"
    }
   ],
   "source": [
    "val_metrics = pd.DataFrame(metrics, columns=['recipe','mrr','ncdg@5','ncdg@10','ncdg@25','p@5','p@10','p@25'])\n",
    "val_metrics"
   ]
  },
  {
   "cell_type": "markdown",
   "metadata": {},
   "source": [
    "![Fig.6.1.coldstart_random_metrics](static/imgs/Fig.6.1.coldstart_random_metrics.png)\n",
    "HRNN Cold Start모델은 메타 데이터의 일부 정보를 활용하여 Interaction정보가 없는 새로운 아이템에 대해도 추천을 할수 있습니다. 메타 데이터 정보가 장르밖에 없었음에도 랜덤 추천 대비 약 3~4배의 성능이 있었음을 확인할 수 있습니다. 메타 데이터 성능을 향상 시키거나 Cold-start item비율을 줄인다면 더 좋은 성능을 기대해 볼 수 있습니다. \n"
   ]
  },
  {
   "cell_type": "markdown",
   "metadata": {},
   "source": [
    "## ColdStart Recipe 추천 결과의 유추"
   ]
  },
  {
   "cell_type": "code",
   "execution_count": 29,
   "metadata": {},
   "outputs": [
    {
     "name": "stderr",
     "output_type": "stream",
     "text": [
      "/home/ec2-user/anaconda3/envs/python3/lib/python3.6/site-packages/ipykernel/__main__.py:3: ParserWarning: Falling back to the 'python' engine because the 'c' engine does not support regex separators (separators > 1 char and different from '\\s+' are interpreted as regex); you can avoid this warning by specifying engine='python'.\n",
      "  app.launch_new_instance()\n"
     ]
    }
   ],
   "source": [
    "from utils import get_rich_dataset\n",
    "df_warm_train = pd.read_csv(warm_train_interaction_filename)\n",
    "item_meta = pd.read_csv('./ml-1m/movies.dat',sep='::', encoding='latin1',names=['ITEM_ID', 'TITLE', 'GENRE'],)\n",
    "df_warm_train_rich = get_rich_dataset(df_warm_train, item_meta)\n",
    "df_warm_train_rich = df_warm_train_rich.sort_values('TIMESTAMP').copy()"
   ]
  },
  {
   "cell_type": "code",
   "execution_count": 30,
   "metadata": {},
   "outputs": [],
   "source": [
    "def get_recentViews_coldstart(user_id, df_warm_train_rich, hrnn_coldstart_campaign_arn, item_meta):\n",
    "    history_items = df_warm_train_rich[df_warm_train_rich['USER_ID']==user_id].tail(5)\n",
    "    \n",
    "    rec_response = personalize_runtime.get_recommendations(\n",
    "                campaignArn = hrnn_coldstart_campaign_arn,\n",
    "                userId = str(user_id)\n",
    "            )\n",
    "    rec_items = [int(x['itemId']) for x in rec_response['itemList']]\n",
    "    rec_items_movies = item_meta.set_index('ITEM_ID').loc[rec_items[:5]]\n",
    "\n",
    "    return history_items, rec_items_movies\n",
    "\n"
   ]
  },
  {
   "cell_type": "markdown",
   "metadata": {},
   "source": [
    "#### 유저 2\n",
    "\n",
    "이 사용자는액션|어드벤처|스릴러 아이템을 많이 선택하였고 모델도 장르에서 만이 선택하였다는 것을 다는 것을 알았습니다. 콜드 아이템에서 액션 | 어드벤처 | 스릴러 아이템을 추천합니다."
   ]
  },
  {
   "cell_type": "code",
   "execution_count": 31,
   "metadata": {},
   "outputs": [
    {
     "data": {
      "text/html": [
       "<font color='blue'>The lastest top 5 movies fed into learned model</font>"
      ],
      "text/plain": [
       "<IPython.core.display.HTML object>"
      ]
     },
     "metadata": {},
     "output_type": "display_data"
    },
    {
     "data": {
      "text/html": [
       "<div>\n",
       "<style scoped>\n",
       "    .dataframe tbody tr th:only-of-type {\n",
       "        vertical-align: middle;\n",
       "    }\n",
       "\n",
       "    .dataframe tbody tr th {\n",
       "        vertical-align: top;\n",
       "    }\n",
       "\n",
       "    .dataframe thead th {\n",
       "        text-align: right;\n",
       "    }\n",
       "</style>\n",
       "<table border=\"1\" class=\"dataframe\">\n",
       "  <thead>\n",
       "    <tr style=\"text-align: right;\">\n",
       "      <th></th>\n",
       "      <th>USER_ID</th>\n",
       "      <th>ITEM_ID</th>\n",
       "      <th>TITLE</th>\n",
       "      <th>GENRE</th>\n",
       "      <th>TIMESTAMP</th>\n",
       "      <th>DATE</th>\n",
       "    </tr>\n",
       "  </thead>\n",
       "  <tbody>\n",
       "    <tr>\n",
       "      <th>35539</th>\n",
       "      <td>2</td>\n",
       "      <td>3107</td>\n",
       "      <td>Backdraft (1991)</td>\n",
       "      <td>Action|Drama</td>\n",
       "      <td>978300002</td>\n",
       "      <td>2000-12-31 22:00:02</td>\n",
       "    </tr>\n",
       "    <tr>\n",
       "      <th>63832</th>\n",
       "      <td>2</td>\n",
       "      <td>1597</td>\n",
       "      <td>Conspiracy Theory (1997)</td>\n",
       "      <td>Action|Mystery|Romance|Thriller</td>\n",
       "      <td>978300025</td>\n",
       "      <td>2000-12-31 22:00:25</td>\n",
       "    </tr>\n",
       "    <tr>\n",
       "      <th>50473</th>\n",
       "      <td>2</td>\n",
       "      <td>442</td>\n",
       "      <td>Demolition Man (1993)</td>\n",
       "      <td>Action|Sci-Fi</td>\n",
       "      <td>978300025</td>\n",
       "      <td>2000-12-31 22:00:25</td>\n",
       "    </tr>\n",
       "    <tr>\n",
       "      <th>26815</th>\n",
       "      <td>2</td>\n",
       "      <td>2628</td>\n",
       "      <td>Star Wars: Episode I - The Phantom Menace (1999)</td>\n",
       "      <td>Action|Adventure|Fantasy|Sci-Fi</td>\n",
       "      <td>978300051</td>\n",
       "      <td>2000-12-31 22:00:51</td>\n",
       "    </tr>\n",
       "    <tr>\n",
       "      <th>47355</th>\n",
       "      <td>2</td>\n",
       "      <td>1690</td>\n",
       "      <td>Alien: Resurrection (1997)</td>\n",
       "      <td>Action|Horror|Sci-Fi</td>\n",
       "      <td>978300051</td>\n",
       "      <td>2000-12-31 22:00:51</td>\n",
       "    </tr>\n",
       "  </tbody>\n",
       "</table>\n",
       "</div>"
      ],
      "text/plain": [
       "       USER_ID  ITEM_ID                                             TITLE  \\\n",
       "35539        2     3107                                  Backdraft (1991)   \n",
       "63832        2     1597                          Conspiracy Theory (1997)   \n",
       "50473        2      442                             Demolition Man (1993)   \n",
       "26815        2     2628  Star Wars: Episode I - The Phantom Menace (1999)   \n",
       "47355        2     1690                        Alien: Resurrection (1997)   \n",
       "\n",
       "                                 GENRE  TIMESTAMP                 DATE  \n",
       "35539                     Action|Drama  978300002  2000-12-31 22:00:02  \n",
       "63832  Action|Mystery|Romance|Thriller  978300025  2000-12-31 22:00:25  \n",
       "50473                    Action|Sci-Fi  978300025  2000-12-31 22:00:25  \n",
       "26815  Action|Adventure|Fantasy|Sci-Fi  978300051  2000-12-31 22:00:51  \n",
       "47355             Action|Horror|Sci-Fi  978300051  2000-12-31 22:00:51  "
      ]
     },
     "metadata": {},
     "output_type": "display_data"
    },
    {
     "data": {
      "text/html": [
       "<font color='blue'>Five movies recommended by ColdStart recipe</font>"
      ],
      "text/plain": [
       "<IPython.core.display.HTML object>"
      ]
     },
     "metadata": {},
     "output_type": "display_data"
    },
    {
     "data": {
      "text/html": [
       "<div>\n",
       "<style scoped>\n",
       "    .dataframe tbody tr th:only-of-type {\n",
       "        vertical-align: middle;\n",
       "    }\n",
       "\n",
       "    .dataframe tbody tr th {\n",
       "        vertical-align: top;\n",
       "    }\n",
       "\n",
       "    .dataframe thead th {\n",
       "        text-align: right;\n",
       "    }\n",
       "</style>\n",
       "<table border=\"1\" class=\"dataframe\">\n",
       "  <thead>\n",
       "    <tr style=\"text-align: right;\">\n",
       "      <th></th>\n",
       "      <th>TITLE</th>\n",
       "      <th>GENRE</th>\n",
       "    </tr>\n",
       "    <tr>\n",
       "      <th>ITEM_ID</th>\n",
       "      <th></th>\n",
       "      <th></th>\n",
       "    </tr>\n",
       "  </thead>\n",
       "  <tbody>\n",
       "    <tr>\n",
       "      <th>1205</th>\n",
       "      <td>Transformers: The Movie, The (1986)</td>\n",
       "      <td>Action|Animation|Children's|Sci-Fi|Thriller|War</td>\n",
       "    </tr>\n",
       "    <tr>\n",
       "      <th>610</th>\n",
       "      <td>Heavy Metal (1981)</td>\n",
       "      <td>Action|Adventure|Animation|Horror|Sci-Fi</td>\n",
       "    </tr>\n",
       "    <tr>\n",
       "      <th>849</th>\n",
       "      <td>Escape from L.A. (1996)</td>\n",
       "      <td>Action|Adventure|Sci-Fi|Thriller</td>\n",
       "    </tr>\n",
       "    <tr>\n",
       "      <th>1917</th>\n",
       "      <td>Armageddon (1998)</td>\n",
       "      <td>Action|Adventure|Sci-Fi|Thriller</td>\n",
       "    </tr>\n",
       "    <tr>\n",
       "      <th>1591</th>\n",
       "      <td>Spawn (1997)</td>\n",
       "      <td>Action|Adventure|Sci-Fi|Thriller</td>\n",
       "    </tr>\n",
       "  </tbody>\n",
       "</table>\n",
       "</div>"
      ],
      "text/plain": [
       "                                       TITLE  \\\n",
       "ITEM_ID                                        \n",
       "1205     Transformers: The Movie, The (1986)   \n",
       "610                       Heavy Metal (1981)   \n",
       "849                  Escape from L.A. (1996)   \n",
       "1917                       Armageddon (1998)   \n",
       "1591                            Spawn (1997)   \n",
       "\n",
       "                                                   GENRE  \n",
       "ITEM_ID                                                   \n",
       "1205     Action|Animation|Children's|Sci-Fi|Thriller|War  \n",
       "610             Action|Adventure|Animation|Horror|Sci-Fi  \n",
       "849                     Action|Adventure|Sci-Fi|Thriller  \n",
       "1917                    Action|Adventure|Sci-Fi|Thriller  \n",
       "1591                    Action|Adventure|Sci-Fi|Thriller  "
      ]
     },
     "metadata": {},
     "output_type": "display_data"
    }
   ],
   "source": [
    "from IPython.display import display, HTML\n",
    "\n",
    "coldstart_test_user = 1\n",
    "user_id = df_coldstart.USER_ID.unique()[coldstart_test_user]\n",
    "history_items , rec_items_movies= get_recentViews_coldstart(user_id, df_warm_train_rich, hrnn_coldstart_campaign_arn, item_meta)\n",
    "\n",
    "display(HTML(\"<font color='blue'>The lastest top 5 movies fed into learned model</font>\"))\n",
    "display(history_items)\n",
    "display(HTML(\"<font color='blue'>Five movies recommended by ColdStart recipe</font>\"))\n",
    "display(rec_items_movies)"
   ]
  },
  {
   "cell_type": "markdown",
   "metadata": {},
   "source": [
    "#### 유저 3\n",
    "다시 한번 테스트를 통해 해당 사용자는 Animation|Comedy|Children을 주로 보았고 Amazon personalize 모델이 Animation|Comedy|Children 아이템을 추천하는 것을 볼 수 있습니다. "
   ]
  },
  {
   "cell_type": "code",
   "execution_count": 32,
   "metadata": {},
   "outputs": [
    {
     "data": {
      "text/html": [
       "<font color='blue'>The lastest top 5 movies fed into learned model</font>"
      ],
      "text/plain": [
       "<IPython.core.display.HTML object>"
      ]
     },
     "metadata": {},
     "output_type": "display_data"
    },
    {
     "data": {
      "text/html": [
       "<div>\n",
       "<style scoped>\n",
       "    .dataframe tbody tr th:only-of-type {\n",
       "        vertical-align: middle;\n",
       "    }\n",
       "\n",
       "    .dataframe tbody tr th {\n",
       "        vertical-align: top;\n",
       "    }\n",
       "\n",
       "    .dataframe thead th {\n",
       "        text-align: right;\n",
       "    }\n",
       "</style>\n",
       "<table border=\"1\" class=\"dataframe\">\n",
       "  <thead>\n",
       "    <tr style=\"text-align: right;\">\n",
       "      <th></th>\n",
       "      <th>USER_ID</th>\n",
       "      <th>ITEM_ID</th>\n",
       "      <th>TITLE</th>\n",
       "      <th>GENRE</th>\n",
       "      <th>TIMESTAMP</th>\n",
       "      <th>DATE</th>\n",
       "    </tr>\n",
       "  </thead>\n",
       "  <tbody>\n",
       "    <tr>\n",
       "      <th>90723</th>\n",
       "      <td>3</td>\n",
       "      <td>1136</td>\n",
       "      <td>Monty Python and the Holy Grail (1974)</td>\n",
       "      <td>Comedy</td>\n",
       "      <td>978298079</td>\n",
       "      <td>2000-12-31 21:27:59</td>\n",
       "    </tr>\n",
       "    <tr>\n",
       "      <th>24236</th>\n",
       "      <td>3</td>\n",
       "      <td>3114</td>\n",
       "      <td>Toy Story 2 (1999)</td>\n",
       "      <td>Animation|Children's|Comedy</td>\n",
       "      <td>978298103</td>\n",
       "      <td>2000-12-31 21:28:23</td>\n",
       "    </tr>\n",
       "    <tr>\n",
       "      <th>84384</th>\n",
       "      <td>3</td>\n",
       "      <td>3619</td>\n",
       "      <td>Hollywood Knights, The (1980)</td>\n",
       "      <td>Comedy</td>\n",
       "      <td>978298201</td>\n",
       "      <td>2000-12-31 21:30:01</td>\n",
       "    </tr>\n",
       "    <tr>\n",
       "      <th>53307</th>\n",
       "      <td>3</td>\n",
       "      <td>1265</td>\n",
       "      <td>Groundhog Day (1993)</td>\n",
       "      <td>Comedy|Romance</td>\n",
       "      <td>978298316</td>\n",
       "      <td>2000-12-31 21:31:56</td>\n",
       "    </tr>\n",
       "    <tr>\n",
       "      <th>84948</th>\n",
       "      <td>3</td>\n",
       "      <td>2355</td>\n",
       "      <td>Bug's Life, A (1998)</td>\n",
       "      <td>Animation|Children's|Comedy</td>\n",
       "      <td>978298430</td>\n",
       "      <td>2000-12-31 21:33:50</td>\n",
       "    </tr>\n",
       "  </tbody>\n",
       "</table>\n",
       "</div>"
      ],
      "text/plain": [
       "       USER_ID  ITEM_ID                                   TITLE  \\\n",
       "90723        3     1136  Monty Python and the Holy Grail (1974)   \n",
       "24236        3     3114                      Toy Story 2 (1999)   \n",
       "84384        3     3619           Hollywood Knights, The (1980)   \n",
       "53307        3     1265                    Groundhog Day (1993)   \n",
       "84948        3     2355                    Bug's Life, A (1998)   \n",
       "\n",
       "                             GENRE  TIMESTAMP                 DATE  \n",
       "90723                       Comedy  978298079  2000-12-31 21:27:59  \n",
       "24236  Animation|Children's|Comedy  978298103  2000-12-31 21:28:23  \n",
       "84384                       Comedy  978298201  2000-12-31 21:30:01  \n",
       "53307               Comedy|Romance  978298316  2000-12-31 21:31:56  \n",
       "84948  Animation|Children's|Comedy  978298430  2000-12-31 21:33:50  "
      ]
     },
     "metadata": {},
     "output_type": "display_data"
    },
    {
     "data": {
      "text/html": [
       "<font color='blue'>Five movies recommended by ColdStart recipe</font>"
      ],
      "text/plain": [
       "<IPython.core.display.HTML object>"
      ]
     },
     "metadata": {},
     "output_type": "display_data"
    },
    {
     "data": {
      "text/html": [
       "<div>\n",
       "<style scoped>\n",
       "    .dataframe tbody tr th:only-of-type {\n",
       "        vertical-align: middle;\n",
       "    }\n",
       "\n",
       "    .dataframe tbody tr th {\n",
       "        vertical-align: top;\n",
       "    }\n",
       "\n",
       "    .dataframe thead th {\n",
       "        text-align: right;\n",
       "    }\n",
       "</style>\n",
       "<table border=\"1\" class=\"dataframe\">\n",
       "  <thead>\n",
       "    <tr style=\"text-align: right;\">\n",
       "      <th></th>\n",
       "      <th>TITLE</th>\n",
       "      <th>GENRE</th>\n",
       "    </tr>\n",
       "    <tr>\n",
       "      <th>ITEM_ID</th>\n",
       "      <th></th>\n",
       "      <th></th>\n",
       "    </tr>\n",
       "  </thead>\n",
       "  <tbody>\n",
       "    <tr>\n",
       "      <th>1566</th>\n",
       "      <td>Hercules (1997)</td>\n",
       "      <td>Adventure|Animation|Children's|Comedy|Musical</td>\n",
       "    </tr>\n",
       "    <tr>\n",
       "      <th>588</th>\n",
       "      <td>Aladdin (1992)</td>\n",
       "      <td>Animation|Children's|Comedy|Musical</td>\n",
       "    </tr>\n",
       "    <tr>\n",
       "      <th>2078</th>\n",
       "      <td>Jungle Book, The (1967)</td>\n",
       "      <td>Animation|Children's|Comedy|Musical</td>\n",
       "    </tr>\n",
       "    <tr>\n",
       "      <th>239</th>\n",
       "      <td>Goofy Movie, A (1995)</td>\n",
       "      <td>Animation|Children's|Comedy|Romance</td>\n",
       "    </tr>\n",
       "    <tr>\n",
       "      <th>2141</th>\n",
       "      <td>American Tail, An (1986)</td>\n",
       "      <td>Animation|Children's|Comedy</td>\n",
       "    </tr>\n",
       "  </tbody>\n",
       "</table>\n",
       "</div>"
      ],
      "text/plain": [
       "                            TITLE  \\\n",
       "ITEM_ID                             \n",
       "1566              Hercules (1997)   \n",
       "588                Aladdin (1992)   \n",
       "2078      Jungle Book, The (1967)   \n",
       "239         Goofy Movie, A (1995)   \n",
       "2141     American Tail, An (1986)   \n",
       "\n",
       "                                                 GENRE  \n",
       "ITEM_ID                                                 \n",
       "1566     Adventure|Animation|Children's|Comedy|Musical  \n",
       "588                Animation|Children's|Comedy|Musical  \n",
       "2078               Animation|Children's|Comedy|Musical  \n",
       "239                Animation|Children's|Comedy|Romance  \n",
       "2141                       Animation|Children's|Comedy  "
      ]
     },
     "metadata": {},
     "output_type": "display_data"
    }
   ],
   "source": [
    "coldstart_test_user = 2\n",
    "user_id = df_coldstart.USER_ID.unique()[coldstart_test_user]\n",
    "history_items , rec_items_movies= get_recentViews_coldstart(user_id, df_warm_train_rich, hrnn_coldstart_campaign_arn, item_meta)\n",
    "\n",
    "display(HTML(\"<font color='blue'>The lastest top 5 movies fed into learned model</font>\"))\n",
    "display(history_items)\n",
    "display(HTML(\"<font color='blue'>Five movies recommended by ColdStart recipe</font>\"))\n",
    "display(rec_items_movies)"
   ]
  },
  {
   "cell_type": "markdown",
   "metadata": {},
   "source": [
    "#### 유저 500\n",
    "다시 한번 테스트를 통해 해당 사용자는 Drama 주로 보았고 Amazon personalize 모델이 Drama|Romance|Comedy 아이템을 추천하는 것을 볼 수 있습니다. "
   ]
  },
  {
   "cell_type": "code",
   "execution_count": 33,
   "metadata": {},
   "outputs": [
    {
     "data": {
      "text/html": [
       "<font color='blue'>The lastest top 5 movies fed into learned model</font>"
      ],
      "text/plain": [
       "<IPython.core.display.HTML object>"
      ]
     },
     "metadata": {},
     "output_type": "display_data"
    },
    {
     "data": {
      "text/html": [
       "<div>\n",
       "<style scoped>\n",
       "    .dataframe tbody tr th:only-of-type {\n",
       "        vertical-align: middle;\n",
       "    }\n",
       "\n",
       "    .dataframe tbody tr th {\n",
       "        vertical-align: top;\n",
       "    }\n",
       "\n",
       "    .dataframe thead th {\n",
       "        text-align: right;\n",
       "    }\n",
       "</style>\n",
       "<table border=\"1\" class=\"dataframe\">\n",
       "  <thead>\n",
       "    <tr style=\"text-align: right;\">\n",
       "      <th></th>\n",
       "      <th>USER_ID</th>\n",
       "      <th>ITEM_ID</th>\n",
       "      <th>TITLE</th>\n",
       "      <th>GENRE</th>\n",
       "      <th>TIMESTAMP</th>\n",
       "      <th>DATE</th>\n",
       "    </tr>\n",
       "  </thead>\n",
       "  <tbody>\n",
       "    <tr>\n",
       "      <th>124126</th>\n",
       "      <td>500</td>\n",
       "      <td>497</td>\n",
       "      <td>Much Ado About Nothing (1993)</td>\n",
       "      <td>Comedy|Romance</td>\n",
       "      <td>976644137</td>\n",
       "      <td>2000-12-12 18:02:17</td>\n",
       "    </tr>\n",
       "    <tr>\n",
       "      <th>152018</th>\n",
       "      <td>500</td>\n",
       "      <td>337</td>\n",
       "      <td>What's Eating Gilbert Grape (1993)</td>\n",
       "      <td>Drama</td>\n",
       "      <td>976644171</td>\n",
       "      <td>2000-12-12 18:02:51</td>\n",
       "    </tr>\n",
       "    <tr>\n",
       "      <th>17239</th>\n",
       "      <td>500</td>\n",
       "      <td>2762</td>\n",
       "      <td>Sixth Sense, The (1999)</td>\n",
       "      <td>Thriller</td>\n",
       "      <td>976644186</td>\n",
       "      <td>2000-12-12 18:03:06</td>\n",
       "    </tr>\n",
       "    <tr>\n",
       "      <th>1132</th>\n",
       "      <td>500</td>\n",
       "      <td>3408</td>\n",
       "      <td>Erin Brockovich (2000)</td>\n",
       "      <td>Drama</td>\n",
       "      <td>979257574</td>\n",
       "      <td>2001-01-11 23:59:34</td>\n",
       "    </tr>\n",
       "    <tr>\n",
       "      <th>408772</th>\n",
       "      <td>500</td>\n",
       "      <td>3795</td>\n",
       "      <td>Five Senses, The (1999)</td>\n",
       "      <td>Drama</td>\n",
       "      <td>979257748</td>\n",
       "      <td>2001-01-12 00:02:28</td>\n",
       "    </tr>\n",
       "  </tbody>\n",
       "</table>\n",
       "</div>"
      ],
      "text/plain": [
       "        USER_ID  ITEM_ID                               TITLE           GENRE  \\\n",
       "124126      500      497       Much Ado About Nothing (1993)  Comedy|Romance   \n",
       "152018      500      337  What's Eating Gilbert Grape (1993)           Drama   \n",
       "17239       500     2762             Sixth Sense, The (1999)        Thriller   \n",
       "1132        500     3408              Erin Brockovich (2000)           Drama   \n",
       "408772      500     3795             Five Senses, The (1999)           Drama   \n",
       "\n",
       "        TIMESTAMP                 DATE  \n",
       "124126  976644137  2000-12-12 18:02:17  \n",
       "152018  976644171  2000-12-12 18:02:51  \n",
       "17239   976644186  2000-12-12 18:03:06  \n",
       "1132    979257574  2001-01-11 23:59:34  \n",
       "408772  979257748  2001-01-12 00:02:28  "
      ]
     },
     "metadata": {},
     "output_type": "display_data"
    },
    {
     "data": {
      "text/html": [
       "<font color='blue'>Five movies recommended by ColdStart recipe</font>"
      ],
      "text/plain": [
       "<IPython.core.display.HTML object>"
      ]
     },
     "metadata": {},
     "output_type": "display_data"
    },
    {
     "data": {
      "text/html": [
       "<div>\n",
       "<style scoped>\n",
       "    .dataframe tbody tr th:only-of-type {\n",
       "        vertical-align: middle;\n",
       "    }\n",
       "\n",
       "    .dataframe tbody tr th {\n",
       "        vertical-align: top;\n",
       "    }\n",
       "\n",
       "    .dataframe thead th {\n",
       "        text-align: right;\n",
       "    }\n",
       "</style>\n",
       "<table border=\"1\" class=\"dataframe\">\n",
       "  <thead>\n",
       "    <tr style=\"text-align: right;\">\n",
       "      <th></th>\n",
       "      <th>TITLE</th>\n",
       "      <th>GENRE</th>\n",
       "    </tr>\n",
       "    <tr>\n",
       "      <th>ITEM_ID</th>\n",
       "      <th></th>\n",
       "      <th></th>\n",
       "    </tr>\n",
       "  </thead>\n",
       "  <tbody>\n",
       "    <tr>\n",
       "      <th>1094</th>\n",
       "      <td>Crying Game, The (1992)</td>\n",
       "      <td>Drama|Romance|War</td>\n",
       "    </tr>\n",
       "    <tr>\n",
       "      <th>1944</th>\n",
       "      <td>From Here to Eternity (1953)</td>\n",
       "      <td>Drama|Romance|War</td>\n",
       "    </tr>\n",
       "    <tr>\n",
       "      <th>912</th>\n",
       "      <td>Casablanca (1942)</td>\n",
       "      <td>Drama|Romance|War</td>\n",
       "    </tr>\n",
       "    <tr>\n",
       "      <th>224</th>\n",
       "      <td>Don Juan DeMarco (1995)</td>\n",
       "      <td>Comedy|Drama|Romance</td>\n",
       "    </tr>\n",
       "    <tr>\n",
       "      <th>3343</th>\n",
       "      <td>And God Created Woman (1988)</td>\n",
       "      <td>Comedy|Drama|Romance</td>\n",
       "    </tr>\n",
       "  </tbody>\n",
       "</table>\n",
       "</div>"
      ],
      "text/plain": [
       "                                TITLE                 GENRE\n",
       "ITEM_ID                                                    \n",
       "1094          Crying Game, The (1992)     Drama|Romance|War\n",
       "1944     From Here to Eternity (1953)     Drama|Romance|War\n",
       "912                 Casablanca (1942)     Drama|Romance|War\n",
       "224           Don Juan DeMarco (1995)  Comedy|Drama|Romance\n",
       "3343     And God Created Woman (1988)  Comedy|Drama|Romance"
      ]
     },
     "metadata": {},
     "output_type": "display_data"
    }
   ],
   "source": [
    "coldstart_test_user = 499\n",
    "user_id = df_coldstart.USER_ID.unique()[coldstart_test_user]\n",
    "history_items , rec_items_movies= get_recentViews_coldstart(user_id, df_warm_train_rich, hrnn_coldstart_campaign_arn, item_meta)\n",
    "\n",
    "display(HTML(\"<font color='blue'>The lastest top 5 movies fed into learned model</font>\"))\n",
    "display(history_items)\n",
    "display(HTML(\"<font color='blue'>Five movies recommended by ColdStart recipe</font>\"))\n",
    "display(rec_items_movies)"
   ]
  },
  {
   "cell_type": "code",
   "execution_count": null,
   "metadata": {},
   "outputs": [],
   "source": []
  }
 ],
 "metadata": {
  "kernelspec": {
   "display_name": "conda_python3",
   "language": "python",
   "name": "conda_python3"
  },
  "language_info": {
   "codemirror_mode": {
    "name": "ipython",
    "version": 3
   },
   "file_extension": ".py",
   "mimetype": "text/x-python",
   "name": "python",
   "nbconvert_exporter": "python",
   "pygments_lexer": "ipython3",
   "version": "3.6.10"
  }
 },
 "nbformat": 4,
 "nbformat_minor": 4
}

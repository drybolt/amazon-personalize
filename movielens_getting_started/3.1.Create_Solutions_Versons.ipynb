{
 "cells": [
  {
   "cell_type": "markdown",
   "metadata": {},
   "source": [
    "# [Module 3.1] Personalize 솔류션 및 솔류션 버전 생성\n",
    "\n",
    "이 노트북은 Module1에서 생성한 데이타셋 그룹, 데이타셋을 바탕으로 아래와 같은 작업을 합니다.\n",
    "\n",
    "* 레서피(알고리즘) 선택 및 7가지 솔류션 생성\n",
    "* 7가지 솔류션 버전 생성\n",
    "\n",
    "--- \n",
    "이 노트북은 약 50분 소요 됩니다.\n",
    "\n"
   ]
  },
  {
   "cell_type": "code",
   "execution_count": 1,
   "metadata": {},
   "outputs": [],
   "source": [
    "# Imports\n",
    "import boto3\n",
    "import json\n",
    "import numpy as np\n",
    "import pandas as pd\n",
    "import time\n"
   ]
  },
  {
   "cell_type": "markdown",
   "metadata": {},
   "source": [
    "다음으로 여러분의 환경이 Amazon Personalize와 성공적으로 통신할 수 있는지 확인해야 합니다."
   ]
  },
  {
   "cell_type": "code",
   "execution_count": 2,
   "metadata": {},
   "outputs": [],
   "source": [
    "# Configure the SDK to Personalize:\n",
    "personalize = boto3.client('personalize')"
   ]
  },
  {
   "cell_type": "markdown",
   "metadata": {},
   "source": [
    "아래 코드 셀은 이전 notebook에서 저장했던 공유 변수들을 불러옵니다."
   ]
  },
  {
   "cell_type": "code",
   "execution_count": 3,
   "metadata": {},
   "outputs": [],
   "source": [
    "%store -r"
   ]
  },
  {
   "cell_type": "markdown",
   "metadata": {},
   "source": [
    "생성할 오브젝트의 끝에 임의의 숫자를 부여하기 위해 suffix 정의"
   ]
  },
  {
   "cell_type": "code",
   "execution_count": 4,
   "metadata": {},
   "outputs": [],
   "source": [
    "# suffix = str(np.random.uniform())[4:9]"
   ]
  },
  {
   "cell_type": "markdown",
   "metadata": {},
   "source": [
    "## 솔루션 및 버전 생성\n",
    "\n",
    "Amazon Personalize에서 훈련된 모델을 솔루션이라고 하며, 각 솔루션에는 모델이 훈련되었을 때 주어진 데이터량과 관련된 많은 특정 버전들이 있을 수 있습니다.\n",
    "\n",
    "우선, Amazon Personalize에서 지원되는 모든 레시피(레시피는 아직 데이터에 대해 훈련되지 않은 알고리즘입니다.)들을 나열합니다. 리스트업된 레시피들 중 하나를 선택하고 이를 사용하여 모델을 빌드해 보세요.\n",
    "\n",
    "이 LAB에서 아래와 같은 모든 솔루션을 생성하여 성능을 비교하여 봅니다.\n",
    "\n",
    "    1) User-Personalization \n",
    "    2) HRNN\n",
    "    3) HRNN Coldstart\n",
    "    4) HRNN-Metadata\n",
    "    5) popularity-count \n",
    "    6) SIMS\n",
    "    7) Personalized Ranking\n",
    "\n",
    "이 프로세스의 완료는 실제로 40분 이상 소요됩니다. 작업이 완료될 때까지(즉, 활성화 상태가 될 때까지) while 루프를 수행하는 방법도 있지만, 이렇게 하면 다른 셀의 실행을 차단하게 됩니다. 따라서, 많은 모델을 만들어 신속하게 배포하려면 while 루프를 사용하는 대신, 필요한 솔루션 버전들을 생성 후, SageMaker 및 Cloudwatch에서 업데이트를 확인하세요.\n",
    "\n",
    "###  레시피 리스트 확인"
   ]
  },
  {
   "cell_type": "code",
   "execution_count": 5,
   "metadata": {},
   "outputs": [
    {
     "name": "stdout",
     "output_type": "stream",
     "text": [
      "arn:aws:personalize:::recipe/aws-hrnn\n",
      "arn:aws:personalize:::recipe/aws-hrnn-coldstart\n",
      "arn:aws:personalize:::recipe/aws-hrnn-metadata\n",
      "arn:aws:personalize:::recipe/aws-personalized-ranking\n",
      "arn:aws:personalize:::recipe/aws-popularity-count\n",
      "arn:aws:personalize:::recipe/aws-sims\n",
      "arn:aws:personalize:::recipe/aws-user-personalization\n"
     ]
    }
   ],
   "source": [
    "recipe_list = personalize.list_recipes()\n",
    "for recipe in recipe_list['recipes']:\n",
    "    print(recipe['recipeArn'])"
   ]
  },
  {
   "cell_type": "markdown",
   "metadata": {},
   "source": [
    "###  User-Personalization 솔루션 생성 "
   ]
  },
  {
   "cell_type": "code",
   "execution_count": 6,
   "metadata": {},
   "outputs": [],
   "source": [
    "# Recipe 선택 \n",
    "system_user_personalization_recipe_arn = \"arn:aws:personalize:::recipe/aws-user-personalization\"\n",
    "\n",
    "# Solution 생성 \n",
    "create_solution_response = personalize.create_solution(\n",
    "    name = \"Movielens-user-personalization-\" + suffix,\n",
    "    datasetGroupArn = dataset_group_arn,\n",
    "    recipeArn = system_user_personalization_recipe_arn,\n",
    ")"
   ]
  },
  {
   "cell_type": "code",
   "execution_count": 7,
   "metadata": {},
   "outputs": [
    {
     "name": "stdout",
     "output_type": "stream",
     "text": [
      "{\n",
      "  \"solutionArn\": \"arn:aws:personalize:ap-northeast-2:057716757052:solution/Movielens-user-personalization-59673\",\n",
      "  \"ResponseMetadata\": {\n",
      "    \"RequestId\": \"326ebff0-6b51-47ec-91b9-36af7b1738df\",\n",
      "    \"HTTPStatusCode\": 200,\n",
      "    \"HTTPHeaders\": {\n",
      "      \"content-type\": \"application/x-amz-json-1.1\",\n",
      "      \"date\": \"Fri, 04 Sep 2020 11:41:34 GMT\",\n",
      "      \"x-amzn-requestid\": \"326ebff0-6b51-47ec-91b9-36af7b1738df\",\n",
      "      \"content-length\": \"111\",\n",
      "      \"connection\": \"keep-alive\"\n",
      "    },\n",
      "    \"RetryAttempts\": 0\n",
      "  }\n",
      "}\n"
     ]
    }
   ],
   "source": [
    "user_personalization_solution_arn = create_solution_response['solutionArn']\n",
    "print(json.dumps(create_solution_response, indent=2))"
   ]
  },
  {
   "cell_type": "code",
   "execution_count": 9,
   "metadata": {},
   "outputs": [
    {
     "name": "stdout",
     "output_type": "stream",
     "text": [
      "{\n",
      "  \"solutionVersionArn\": \"arn:aws:personalize:ap-northeast-2:057716757052:solution/Movielens-user-personalization-59673/6e16c11b\",\n",
      "  \"ResponseMetadata\": {\n",
      "    \"RequestId\": \"c42935c7-2359-4cd7-8321-9000ecffefd7\",\n",
      "    \"HTTPStatusCode\": 200,\n",
      "    \"HTTPHeaders\": {\n",
      "      \"content-type\": \"application/x-amz-json-1.1\",\n",
      "      \"date\": \"Fri, 04 Sep 2020 11:42:20 GMT\",\n",
      "      \"x-amzn-requestid\": \"c42935c7-2359-4cd7-8321-9000ecffefd7\",\n",
      "      \"content-length\": \"127\",\n",
      "      \"connection\": \"keep-alive\"\n",
      "    },\n",
      "    \"RetryAttempts\": 0\n",
      "  }\n",
      "}\n"
     ]
    }
   ],
   "source": [
    "# 솔루션 버전 생성\n",
    "create_solution_version_response = personalize.create_solution_version(\n",
    "    solutionArn = user_personalization_solution_arn\n",
    ")\n",
    "\n",
    "user_personalization_solution_version_arn = create_solution_version_response['solutionVersionArn']\n",
    "print(json.dumps(create_solution_version_response, indent=2))"
   ]
  },
  {
   "cell_type": "markdown",
   "metadata": {},
   "source": [
    "###  Popularity Count 솔루션 생성 "
   ]
  },
  {
   "cell_type": "code",
   "execution_count": 10,
   "metadata": {},
   "outputs": [],
   "source": [
    "# Recipe 선택 \n",
    "system_popularity_recipe_arn = \"arn:aws:personalize:::recipe/aws-popularity-count\"\n",
    "\n",
    "# Solution 생성 \n",
    "create_solution_response = personalize.create_solution(\n",
    "    name = \"Movielens-popularity-\" + suffix,\n",
    "    datasetGroupArn = dataset_group_arn,\n",
    "    recipeArn = system_popularity_recipe_arn,\n",
    ")\n",
    "\n"
   ]
  },
  {
   "cell_type": "code",
   "execution_count": 11,
   "metadata": {},
   "outputs": [
    {
     "name": "stdout",
     "output_type": "stream",
     "text": [
      "{\n",
      "  \"solutionArn\": \"arn:aws:personalize:ap-northeast-2:057716757052:solution/Movielens-popularity-59673\",\n",
      "  \"ResponseMetadata\": {\n",
      "    \"RequestId\": \"cb933ec9-d9ec-4ece-9745-4eea9aa4c7e6\",\n",
      "    \"HTTPStatusCode\": 200,\n",
      "    \"HTTPHeaders\": {\n",
      "      \"content-type\": \"application/x-amz-json-1.1\",\n",
      "      \"date\": \"Fri, 04 Sep 2020 11:42:22 GMT\",\n",
      "      \"x-amzn-requestid\": \"cb933ec9-d9ec-4ece-9745-4eea9aa4c7e6\",\n",
      "      \"content-length\": \"101\",\n",
      "      \"connection\": \"keep-alive\"\n",
      "    },\n",
      "    \"RetryAttempts\": 0\n",
      "  }\n",
      "}\n"
     ]
    }
   ],
   "source": [
    "popularity_solution_arn = create_solution_response['solutionArn']\n",
    "print(json.dumps(create_solution_response, indent=2))"
   ]
  },
  {
   "cell_type": "code",
   "execution_count": 13,
   "metadata": {},
   "outputs": [
    {
     "name": "stdout",
     "output_type": "stream",
     "text": [
      "{\n",
      "  \"solutionVersionArn\": \"arn:aws:personalize:ap-northeast-2:057716757052:solution/Movielens-popularity-59673/54f97f23\",\n",
      "  \"ResponseMetadata\": {\n",
      "    \"RequestId\": \"4bd61d5b-549a-477b-a594-875c0d2974b3\",\n",
      "    \"HTTPStatusCode\": 200,\n",
      "    \"HTTPHeaders\": {\n",
      "      \"content-type\": \"application/x-amz-json-1.1\",\n",
      "      \"date\": \"Fri, 04 Sep 2020 11:42:43 GMT\",\n",
      "      \"x-amzn-requestid\": \"4bd61d5b-549a-477b-a594-875c0d2974b3\",\n",
      "      \"content-length\": \"117\",\n",
      "      \"connection\": \"keep-alive\"\n",
      "    },\n",
      "    \"RetryAttempts\": 0\n",
      "  }\n",
      "}\n"
     ]
    }
   ],
   "source": [
    "# 솔루션 버전 생성\n",
    "create_solution_version_response = personalize.create_solution_version(\n",
    "    solutionArn = popularity_solution_arn\n",
    ")\n",
    "\n",
    "popularity_solution_version_arn = create_solution_version_response['solutionVersionArn']\n",
    "print(json.dumps(create_solution_version_response, indent=2))"
   ]
  },
  {
   "cell_type": "markdown",
   "metadata": {},
   "source": [
    "### HRNN 솔루션 생성"
   ]
  },
  {
   "cell_type": "code",
   "execution_count": 14,
   "metadata": {},
   "outputs": [
    {
     "name": "stdout",
     "output_type": "stream",
     "text": [
      "{\n",
      "  \"solutionArn\": \"arn:aws:personalize:ap-northeast-2:057716757052:solution/Movielens-aws-hrnn-59673\",\n",
      "  \"ResponseMetadata\": {\n",
      "    \"RequestId\": \"33a8fc27-1677-45eb-bfb5-89aca4e84960\",\n",
      "    \"HTTPStatusCode\": 200,\n",
      "    \"HTTPHeaders\": {\n",
      "      \"content-type\": \"application/x-amz-json-1.1\",\n",
      "      \"date\": \"Fri, 04 Sep 2020 11:42:47 GMT\",\n",
      "      \"x-amzn-requestid\": \"33a8fc27-1677-45eb-bfb5-89aca4e84960\",\n",
      "      \"content-length\": \"99\",\n",
      "      \"connection\": \"keep-alive\"\n",
      "    },\n",
      "    \"RetryAttempts\": 0\n",
      "  }\n",
      "}\n"
     ]
    }
   ],
   "source": [
    " # Recipe 선택 \n",
    "system_hrnn_recipe_arn = \"arn:aws:personalize:::recipe/aws-hrnn\"\n",
    "\n",
    "\n",
    "# Solution 생성 \n",
    "create_solution_response = personalize.create_solution(\n",
    "    name = \"Movielens-aws-hrnn-\" + suffix,\n",
    "    datasetGroupArn = dataset_group_arn,\n",
    "    recipeArn = system_hrnn_recipe_arn,\n",
    ")\n",
    "\n",
    "hrnn_solution_arn = create_solution_response['solutionArn']\n",
    "print(json.dumps(create_solution_response, indent=2))"
   ]
  },
  {
   "cell_type": "code",
   "execution_count": 15,
   "metadata": {},
   "outputs": [
    {
     "name": "stdout",
     "output_type": "stream",
     "text": [
      "{\n",
      "  \"solutionVersionArn\": \"arn:aws:personalize:ap-northeast-2:057716757052:solution/Movielens-aws-hrnn-59673/8b63c375\",\n",
      "  \"ResponseMetadata\": {\n",
      "    \"RequestId\": \"c526e8fc-e22a-4e2c-9f31-f5b24052b587\",\n",
      "    \"HTTPStatusCode\": 200,\n",
      "    \"HTTPHeaders\": {\n",
      "      \"content-type\": \"application/x-amz-json-1.1\",\n",
      "      \"date\": \"Fri, 04 Sep 2020 11:42:48 GMT\",\n",
      "      \"x-amzn-requestid\": \"c526e8fc-e22a-4e2c-9f31-f5b24052b587\",\n",
      "      \"content-length\": \"115\",\n",
      "      \"connection\": \"keep-alive\"\n",
      "    },\n",
      "    \"RetryAttempts\": 0\n",
      "  }\n",
      "}\n"
     ]
    }
   ],
   "source": [
    "# 솔루션 버전 생성\n",
    "create_solution_version_response = personalize.create_solution_version(\n",
    "    solutionArn = hrnn_solution_arn\n",
    ")\n",
    "\n",
    "hrnn_solution_version_arn = create_solution_version_response['solutionVersionArn']\n",
    "print(json.dumps(create_solution_version_response, indent=2))"
   ]
  },
  {
   "cell_type": "markdown",
   "metadata": {},
   "source": [
    "### HRNN-Meta 솔루션 생성"
   ]
  },
  {
   "cell_type": "code",
   "execution_count": 16,
   "metadata": {},
   "outputs": [
    {
     "name": "stdout",
     "output_type": "stream",
     "text": [
      "{\n",
      "  \"solutionArn\": \"arn:aws:personalize:ap-northeast-2:057716757052:solution/Movielens-aws-hrnn-metadata-59673\",\n",
      "  \"ResponseMetadata\": {\n",
      "    \"RequestId\": \"19e9a6bf-bf1d-49c5-bb21-9de547980793\",\n",
      "    \"HTTPStatusCode\": 200,\n",
      "    \"HTTPHeaders\": {\n",
      "      \"content-type\": \"application/x-amz-json-1.1\",\n",
      "      \"date\": \"Fri, 04 Sep 2020 11:42:49 GMT\",\n",
      "      \"x-amzn-requestid\": \"19e9a6bf-bf1d-49c5-bb21-9de547980793\",\n",
      "      \"content-length\": \"108\",\n",
      "      \"connection\": \"keep-alive\"\n",
      "    },\n",
      "    \"RetryAttempts\": 0\n",
      "  }\n",
      "}\n"
     ]
    }
   ],
   "source": [
    " # Recipe 선택 \n",
    "system_hrnn_meta_recipe_arn = \"arn:aws:personalize:::recipe/aws-hrnn-metadata\"\n",
    "\n",
    "# Solution 생성 \n",
    "create_solution_response = personalize.create_solution(\n",
    "    name = \"Movielens-aws-hrnn-metadata-\" + suffix,\n",
    "    datasetGroupArn = dataset_group_arn,\n",
    "    recipeArn = system_hrnn_meta_recipe_arn,\n",
    ")\n",
    "\n",
    "hrnn_meta_solution_arn = create_solution_response['solutionArn']\n",
    "print(json.dumps(create_solution_response, indent=2))"
   ]
  },
  {
   "cell_type": "code",
   "execution_count": 17,
   "metadata": {},
   "outputs": [
    {
     "name": "stdout",
     "output_type": "stream",
     "text": [
      "{\n",
      "  \"solutionVersionArn\": \"arn:aws:personalize:ap-northeast-2:057716757052:solution/Movielens-aws-hrnn-metadata-59673/e248e1ac\",\n",
      "  \"ResponseMetadata\": {\n",
      "    \"RequestId\": \"a1f85927-05e1-4194-a158-c4474a89d706\",\n",
      "    \"HTTPStatusCode\": 200,\n",
      "    \"HTTPHeaders\": {\n",
      "      \"content-type\": \"application/x-amz-json-1.1\",\n",
      "      \"date\": \"Fri, 04 Sep 2020 11:42:49 GMT\",\n",
      "      \"x-amzn-requestid\": \"a1f85927-05e1-4194-a158-c4474a89d706\",\n",
      "      \"content-length\": \"124\",\n",
      "      \"connection\": \"keep-alive\"\n",
      "    },\n",
      "    \"RetryAttempts\": 0\n",
      "  }\n",
      "}\n"
     ]
    }
   ],
   "source": [
    "# 솔루션 버전 생성\n",
    "create_solution_version_response = personalize.create_solution_version(\n",
    "    solutionArn = hrnn_meta_solution_arn\n",
    ")\n",
    "\n",
    "hrnn_meta_solution_version_arn = create_solution_version_response['solutionVersionArn']\n",
    "print(json.dumps(create_solution_version_response, indent=2))"
   ]
  },
  {
   "cell_type": "markdown",
   "metadata": {},
   "source": [
    "### HRNN ColdStart 솔루션 생성"
   ]
  },
  {
   "cell_type": "code",
   "execution_count": 18,
   "metadata": {},
   "outputs": [
    {
     "name": "stdout",
     "output_type": "stream",
     "text": [
      "{\n",
      "  \"solutionArn\": \"arn:aws:personalize:ap-northeast-2:057716757052:solution/Movielens-hrnn-coldstart-59673\",\n",
      "  \"ResponseMetadata\": {\n",
      "    \"RequestId\": \"2eb80d9d-7782-422f-9505-4c9e0f3e0216\",\n",
      "    \"HTTPStatusCode\": 200,\n",
      "    \"HTTPHeaders\": {\n",
      "      \"content-type\": \"application/x-amz-json-1.1\",\n",
      "      \"date\": \"Fri, 04 Sep 2020 11:42:50 GMT\",\n",
      "      \"x-amzn-requestid\": \"2eb80d9d-7782-422f-9505-4c9e0f3e0216\",\n",
      "      \"content-length\": \"105\",\n",
      "      \"connection\": \"keep-alive\"\n",
      "    },\n",
      "    \"RetryAttempts\": 0\n",
      "  }\n",
      "}\n"
     ]
    }
   ],
   "source": [
    " # Recipe 선택 \n",
    "system_hrnn_coldstart_recipe_arn = \"arn:aws:personalize:::recipe/aws-hrnn-coldstart\"\n",
    "\n",
    "# Solution 생성 \n",
    "create_solution_response = personalize.create_solution(\n",
    "    name = \"Movielens-hrnn-coldstart-\" + suffix,\n",
    "    datasetGroupArn = dataset_group_arn,\n",
    "    recipeArn = system_hrnn_coldstart_recipe_arn,\n",
    "    solutionConfig = {\n",
    "        \"featureTransformationParameters\" : {\n",
    "            'cold_start_max_duration' : '5',\n",
    "            'cold_start_relative_from' : 'latestItem',\n",
    "            'cold_start_max_interactions':'15'\n",
    "        }\n",
    "    }\n",
    ")\n",
    "\n",
    "hrnn_coldstart_solution_arn = create_solution_response['solutionArn']\n",
    "print(json.dumps(create_solution_response, indent=2))"
   ]
  },
  {
   "cell_type": "code",
   "execution_count": 19,
   "metadata": {},
   "outputs": [
    {
     "name": "stdout",
     "output_type": "stream",
     "text": [
      "{\n",
      "  \"solutionVersionArn\": \"arn:aws:personalize:ap-northeast-2:057716757052:solution/Movielens-hrnn-coldstart-59673/1e1825b8\",\n",
      "  \"ResponseMetadata\": {\n",
      "    \"RequestId\": \"5c29a6e4-0a6c-4407-b266-42dbc67ad50a\",\n",
      "    \"HTTPStatusCode\": 200,\n",
      "    \"HTTPHeaders\": {\n",
      "      \"content-type\": \"application/x-amz-json-1.1\",\n",
      "      \"date\": \"Fri, 04 Sep 2020 11:42:51 GMT\",\n",
      "      \"x-amzn-requestid\": \"5c29a6e4-0a6c-4407-b266-42dbc67ad50a\",\n",
      "      \"content-length\": \"121\",\n",
      "      \"connection\": \"keep-alive\"\n",
      "    },\n",
      "    \"RetryAttempts\": 0\n",
      "  }\n",
      "}\n"
     ]
    }
   ],
   "source": [
    "# 솔루션 버전 생성\n",
    "create_solution_version_response = personalize.create_solution_version(\n",
    "    solutionArn = hrnn_coldstart_solution_arn\n",
    ")\n",
    "\n",
    "hrnn_coldstart_solution_version_arn = create_solution_version_response['solutionVersionArn']\n",
    "print(json.dumps(create_solution_version_response, indent=2))"
   ]
  },
  {
   "cell_type": "markdown",
   "metadata": {},
   "source": [
    "### SIMS 솔루션 생성 "
   ]
  },
  {
   "cell_type": "code",
   "execution_count": 20,
   "metadata": {},
   "outputs": [
    {
     "name": "stdout",
     "output_type": "stream",
     "text": [
      "{\n",
      "  \"solutionArn\": \"arn:aws:personalize:ap-northeast-2:057716757052:solution/Movielens-sims-59673\",\n",
      "  \"ResponseMetadata\": {\n",
      "    \"RequestId\": \"56e3ef1d-67ed-43a6-9c0b-0b3e7dd90cb8\",\n",
      "    \"HTTPStatusCode\": 200,\n",
      "    \"HTTPHeaders\": {\n",
      "      \"content-type\": \"application/x-amz-json-1.1\",\n",
      "      \"date\": \"Fri, 04 Sep 2020 11:42:53 GMT\",\n",
      "      \"x-amzn-requestid\": \"56e3ef1d-67ed-43a6-9c0b-0b3e7dd90cb8\",\n",
      "      \"content-length\": \"95\",\n",
      "      \"connection\": \"keep-alive\"\n",
      "    },\n",
      "    \"RetryAttempts\": 0\n",
      "  }\n",
      "}\n"
     ]
    }
   ],
   "source": [
    " # Recipe 선택 \n",
    "system_sims_recipe_arn = \"arn:aws:personalize:::recipe/aws-sims\"\n",
    "\n",
    "# Solution 생성 \n",
    "create_solution_response = personalize.create_solution(\n",
    "    name = \"Movielens-sims-\" + suffix,\n",
    "    datasetGroupArn = dataset_group_arn,\n",
    "    recipeArn = system_sims_recipe_arn\n",
    ")\n",
    "\n",
    "sims_solution_arn = create_solution_response['solutionArn']\n",
    "print(json.dumps(create_solution_response, indent=2))"
   ]
  },
  {
   "cell_type": "code",
   "execution_count": 21,
   "metadata": {},
   "outputs": [
    {
     "name": "stdout",
     "output_type": "stream",
     "text": [
      "{\n",
      "  \"solutionVersionArn\": \"arn:aws:personalize:ap-northeast-2:057716757052:solution/Movielens-sims-59673/02f182b0\",\n",
      "  \"ResponseMetadata\": {\n",
      "    \"RequestId\": \"100862a7-d2bf-46bc-b242-6267079dcdc6\",\n",
      "    \"HTTPStatusCode\": 200,\n",
      "    \"HTTPHeaders\": {\n",
      "      \"content-type\": \"application/x-amz-json-1.1\",\n",
      "      \"date\": \"Fri, 04 Sep 2020 11:42:54 GMT\",\n",
      "      \"x-amzn-requestid\": \"100862a7-d2bf-46bc-b242-6267079dcdc6\",\n",
      "      \"content-length\": \"111\",\n",
      "      \"connection\": \"keep-alive\"\n",
      "    },\n",
      "    \"RetryAttempts\": 0\n",
      "  }\n",
      "}\n"
     ]
    }
   ],
   "source": [
    "# 솔루션 버전 생성\n",
    "create_solution_version_response = personalize.create_solution_version(\n",
    "    solutionArn = sims_solution_arn\n",
    ")\n",
    "sims_solution_version_arn = create_solution_version_response['solutionVersionArn']\n",
    "print(json.dumps(create_solution_version_response, indent=2))"
   ]
  },
  {
   "cell_type": "markdown",
   "metadata": {},
   "source": [
    "### Personalize Ranking 솔루션 생성 "
   ]
  },
  {
   "cell_type": "code",
   "execution_count": 22,
   "metadata": {},
   "outputs": [
    {
     "name": "stdout",
     "output_type": "stream",
     "text": [
      "{\n",
      "  \"solutionArn\": \"arn:aws:personalize:ap-northeast-2:057716757052:solution/Movielens-ranking-59673\",\n",
      "  \"ResponseMetadata\": {\n",
      "    \"RequestId\": \"1a7f848d-4cfc-4939-97d7-b3e27d975493\",\n",
      "    \"HTTPStatusCode\": 200,\n",
      "    \"HTTPHeaders\": {\n",
      "      \"content-type\": \"application/x-amz-json-1.1\",\n",
      "      \"date\": \"Fri, 04 Sep 2020 11:42:57 GMT\",\n",
      "      \"x-amzn-requestid\": \"1a7f848d-4cfc-4939-97d7-b3e27d975493\",\n",
      "      \"content-length\": \"98\",\n",
      "      \"connection\": \"keep-alive\"\n",
      "    },\n",
      "    \"RetryAttempts\": 0\n",
      "  }\n",
      "}\n"
     ]
    }
   ],
   "source": [
    " # Recipe 선택 \n",
    "system_ranking_recipe_arn = \"arn:aws:personalize:::recipe/aws-personalized-ranking\"\n",
    "\n",
    "# Solution 생성 \n",
    "create_solution_response = personalize.create_solution(\n",
    "    name = \"Movielens-ranking-\" + suffix,\n",
    "    datasetGroupArn = dataset_group_arn,\n",
    "    recipeArn = system_ranking_recipe_arn\n",
    ")\n",
    "\n",
    "ranking_solution_arn = create_solution_response['solutionArn']\n",
    "print(json.dumps(create_solution_response, indent=2))"
   ]
  },
  {
   "cell_type": "code",
   "execution_count": 23,
   "metadata": {},
   "outputs": [
    {
     "name": "stdout",
     "output_type": "stream",
     "text": [
      "{\n",
      "  \"solutionVersionArn\": \"arn:aws:personalize:ap-northeast-2:057716757052:solution/Movielens-ranking-59673/aeda5dcc\",\n",
      "  \"ResponseMetadata\": {\n",
      "    \"RequestId\": \"0075d049-08d7-4948-8cd8-fddd52cb7806\",\n",
      "    \"HTTPStatusCode\": 200,\n",
      "    \"HTTPHeaders\": {\n",
      "      \"content-type\": \"application/x-amz-json-1.1\",\n",
      "      \"date\": \"Fri, 04 Sep 2020 11:42:57 GMT\",\n",
      "      \"x-amzn-requestid\": \"0075d049-08d7-4948-8cd8-fddd52cb7806\",\n",
      "      \"content-length\": \"114\",\n",
      "      \"connection\": \"keep-alive\"\n",
      "    },\n",
      "    \"RetryAttempts\": 0\n",
      "  }\n",
      "}\n"
     ]
    }
   ],
   "source": [
    "# 솔루션 버전 생성\n",
    "create_solution_version_response = personalize.create_solution_version(\n",
    "    solutionArn = ranking_solution_arn\n",
    ")\n",
    "ranking_solution_version_arn = create_solution_version_response['solutionVersionArn']\n",
    "print(json.dumps(create_solution_version_response, indent=2))"
   ]
  },
  {
   "cell_type": "markdown",
   "metadata": {},
   "source": [
    "### 모델 생성 확인 하기 \n",
    "아래 코드 실행하여 모델 생성 여부를 확인합니다. "
   ]
  },
  {
   "cell_type": "code",
   "execution_count": null,
   "metadata": {},
   "outputs": [
    {
     "name": "stdout",
     "output_type": "stream",
     "text": [
      "user_personalization SolutionVersion: CREATE IN_PROGRESS\n",
      "Popularity SolutionVersion: CREATE IN_PROGRESS\n",
      "HRNN SolutionVersion: CREATE IN_PROGRESS\n",
      "HRNN Meta SolutionVersion: CREATE IN_PROGRESS\n",
      "HRNN ColdStart SolutionVersion: CREATE IN_PROGRESS\n",
      "Sims SolutionVersion: CREATE IN_PROGRESS\n",
      "Ranking SolutionVersion: CREATE IN_PROGRESS\n",
      "-------------------------------------->\n",
      "user_personalization SolutionVersion: CREATE IN_PROGRESS\n",
      "Popularity SolutionVersion: CREATE IN_PROGRESS\n",
      "HRNN SolutionVersion: CREATE IN_PROGRESS\n",
      "HRNN Meta SolutionVersion: CREATE IN_PROGRESS\n",
      "HRNN ColdStart SolutionVersion: CREATE IN_PROGRESS\n",
      "Sims SolutionVersion: CREATE IN_PROGRESS\n",
      "Ranking SolutionVersion: CREATE IN_PROGRESS\n",
      "-------------------------------------->\n",
      "user_personalization SolutionVersion: CREATE IN_PROGRESS\n",
      "Popularity SolutionVersion: CREATE IN_PROGRESS\n",
      "HRNN SolutionVersion: CREATE IN_PROGRESS\n",
      "HRNN Meta SolutionVersion: CREATE IN_PROGRESS\n",
      "HRNN ColdStart SolutionVersion: CREATE IN_PROGRESS\n",
      "Sims SolutionVersion: CREATE IN_PROGRESS\n",
      "Ranking SolutionVersion: CREATE IN_PROGRESS\n",
      "-------------------------------------->\n",
      "user_personalization SolutionVersion: CREATE IN_PROGRESS\n",
      "Popularity SolutionVersion: CREATE IN_PROGRESS\n",
      "HRNN SolutionVersion: CREATE IN_PROGRESS\n",
      "HRNN Meta SolutionVersion: CREATE IN_PROGRESS\n",
      "HRNN ColdStart SolutionVersion: CREATE IN_PROGRESS\n",
      "Sims SolutionVersion: CREATE IN_PROGRESS\n",
      "Ranking SolutionVersion: CREATE IN_PROGRESS\n",
      "-------------------------------------->\n",
      "user_personalization SolutionVersion: CREATE IN_PROGRESS\n",
      "Popularity SolutionVersion: CREATE IN_PROGRESS\n",
      "HRNN SolutionVersion: CREATE IN_PROGRESS\n",
      "HRNN Meta SolutionVersion: CREATE IN_PROGRESS\n",
      "HRNN ColdStart SolutionVersion: CREATE IN_PROGRESS\n",
      "Sims SolutionVersion: CREATE IN_PROGRESS\n",
      "Ranking SolutionVersion: CREATE IN_PROGRESS\n",
      "-------------------------------------->\n",
      "user_personalization SolutionVersion: CREATE IN_PROGRESS\n",
      "Popularity SolutionVersion: CREATE IN_PROGRESS\n",
      "HRNN SolutionVersion: CREATE IN_PROGRESS\n",
      "HRNN Meta SolutionVersion: CREATE IN_PROGRESS\n",
      "HRNN ColdStart SolutionVersion: CREATE IN_PROGRESS\n",
      "Sims SolutionVersion: CREATE IN_PROGRESS\n",
      "Ranking SolutionVersion: CREATE IN_PROGRESS\n",
      "-------------------------------------->\n",
      "user_personalization SolutionVersion: CREATE IN_PROGRESS\n",
      "Popularity SolutionVersion: CREATE IN_PROGRESS\n",
      "HRNN SolutionVersion: CREATE IN_PROGRESS\n",
      "HRNN Meta SolutionVersion: CREATE IN_PROGRESS\n",
      "HRNN ColdStart SolutionVersion: CREATE IN_PROGRESS\n",
      "Sims SolutionVersion: CREATE IN_PROGRESS\n",
      "Ranking SolutionVersion: CREATE IN_PROGRESS\n",
      "-------------------------------------->\n",
      "user_personalization SolutionVersion: CREATE IN_PROGRESS\n",
      "Popularity SolutionVersion: CREATE IN_PROGRESS\n",
      "HRNN SolutionVersion: CREATE IN_PROGRESS\n",
      "HRNN Meta SolutionVersion: CREATE IN_PROGRESS\n",
      "HRNN ColdStart SolutionVersion: CREATE IN_PROGRESS\n",
      "Sims SolutionVersion: CREATE IN_PROGRESS\n",
      "Ranking SolutionVersion: CREATE IN_PROGRESS\n",
      "-------------------------------------->\n",
      "user_personalization SolutionVersion: CREATE IN_PROGRESS\n",
      "Popularity SolutionVersion: CREATE IN_PROGRESS\n",
      "HRNN SolutionVersion: CREATE IN_PROGRESS\n",
      "HRNN Meta SolutionVersion: CREATE IN_PROGRESS\n",
      "HRNN ColdStart SolutionVersion: CREATE IN_PROGRESS\n",
      "Sims SolutionVersion: CREATE IN_PROGRESS\n",
      "Ranking SolutionVersion: CREATE IN_PROGRESS\n",
      "-------------------------------------->\n",
      "user_personalization SolutionVersion: CREATE IN_PROGRESS\n",
      "Popularity SolutionVersion: CREATE IN_PROGRESS\n",
      "HRNN SolutionVersion: CREATE IN_PROGRESS\n",
      "HRNN Meta SolutionVersion: CREATE IN_PROGRESS\n",
      "HRNN ColdStart SolutionVersion: CREATE IN_PROGRESS\n",
      "Sims SolutionVersion: CREATE IN_PROGRESS\n",
      "Ranking SolutionVersion: CREATE IN_PROGRESS\n",
      "-------------------------------------->\n",
      "user_personalization SolutionVersion: CREATE IN_PROGRESS\n",
      "Popularity SolutionVersion: CREATE IN_PROGRESS\n",
      "HRNN SolutionVersion: CREATE IN_PROGRESS\n",
      "HRNN Meta SolutionVersion: CREATE IN_PROGRESS\n",
      "HRNN ColdStart SolutionVersion: CREATE IN_PROGRESS\n",
      "Sims SolutionVersion: CREATE IN_PROGRESS\n",
      "Ranking SolutionVersion: CREATE IN_PROGRESS\n",
      "-------------------------------------->\n",
      "user_personalization SolutionVersion: CREATE IN_PROGRESS\n",
      "Popularity SolutionVersion: CREATE IN_PROGRESS\n",
      "HRNN SolutionVersion: CREATE IN_PROGRESS\n",
      "HRNN Meta SolutionVersion: CREATE IN_PROGRESS\n",
      "HRNN ColdStart SolutionVersion: CREATE IN_PROGRESS\n",
      "Sims SolutionVersion: CREATE IN_PROGRESS\n",
      "Ranking SolutionVersion: CREATE IN_PROGRESS\n",
      "-------------------------------------->\n",
      "user_personalization SolutionVersion: CREATE IN_PROGRESS\n",
      "Popularity SolutionVersion: CREATE IN_PROGRESS\n",
      "HRNN SolutionVersion: CREATE IN_PROGRESS\n",
      "HRNN Meta SolutionVersion: CREATE IN_PROGRESS\n",
      "HRNN ColdStart SolutionVersion: CREATE IN_PROGRESS\n",
      "Sims SolutionVersion: CREATE IN_PROGRESS\n",
      "Ranking SolutionVersion: CREATE IN_PROGRESS\n",
      "-------------------------------------->\n",
      "user_personalization SolutionVersion: CREATE IN_PROGRESS\n",
      "Popularity SolutionVersion: CREATE IN_PROGRESS\n",
      "HRNN SolutionVersion: CREATE IN_PROGRESS\n",
      "HRNN Meta SolutionVersion: CREATE IN_PROGRESS\n",
      "HRNN ColdStart SolutionVersion: CREATE IN_PROGRESS\n",
      "Sims SolutionVersion: CREATE IN_PROGRESS\n",
      "Ranking SolutionVersion: CREATE IN_PROGRESS\n",
      "-------------------------------------->\n",
      "user_personalization SolutionVersion: CREATE IN_PROGRESS\n",
      "Popularity SolutionVersion: CREATE IN_PROGRESS\n",
      "HRNN SolutionVersion: CREATE IN_PROGRESS\n",
      "HRNN Meta SolutionVersion: CREATE IN_PROGRESS\n",
      "HRNN ColdStart SolutionVersion: CREATE IN_PROGRESS\n",
      "Sims SolutionVersion: CREATE IN_PROGRESS\n",
      "Ranking SolutionVersion: CREATE IN_PROGRESS\n",
      "-------------------------------------->\n",
      "user_personalization SolutionVersion: CREATE IN_PROGRESS\n",
      "Popularity SolutionVersion: CREATE IN_PROGRESS\n",
      "HRNN SolutionVersion: CREATE IN_PROGRESS\n",
      "HRNN Meta SolutionVersion: CREATE IN_PROGRESS\n",
      "HRNN ColdStart SolutionVersion: CREATE IN_PROGRESS\n",
      "Sims SolutionVersion: CREATE IN_PROGRESS\n",
      "Ranking SolutionVersion: CREATE IN_PROGRESS\n",
      "-------------------------------------->\n",
      "user_personalization SolutionVersion: CREATE IN_PROGRESS\n",
      "Popularity SolutionVersion: CREATE IN_PROGRESS\n",
      "HRNN SolutionVersion: CREATE IN_PROGRESS\n",
      "HRNN Meta SolutionVersion: CREATE IN_PROGRESS\n",
      "HRNN ColdStart SolutionVersion: CREATE IN_PROGRESS\n",
      "Sims SolutionVersion: CREATE IN_PROGRESS\n",
      "Ranking SolutionVersion: CREATE IN_PROGRESS\n",
      "-------------------------------------->\n",
      "user_personalization SolutionVersion: CREATE IN_PROGRESS\n",
      "Popularity SolutionVersion: CREATE IN_PROGRESS\n",
      "HRNN SolutionVersion: CREATE IN_PROGRESS\n",
      "HRNN Meta SolutionVersion: CREATE IN_PROGRESS\n",
      "HRNN ColdStart SolutionVersion: CREATE IN_PROGRESS\n",
      "Sims SolutionVersion: CREATE IN_PROGRESS\n",
      "Ranking SolutionVersion: CREATE IN_PROGRESS\n",
      "-------------------------------------->\n",
      "user_personalization SolutionVersion: CREATE IN_PROGRESS\n",
      "Popularity SolutionVersion: CREATE IN_PROGRESS\n",
      "HRNN SolutionVersion: CREATE IN_PROGRESS\n",
      "HRNN Meta SolutionVersion: CREATE IN_PROGRESS\n",
      "HRNN ColdStart SolutionVersion: CREATE IN_PROGRESS\n",
      "Sims SolutionVersion: CREATE IN_PROGRESS\n",
      "Ranking SolutionVersion: CREATE IN_PROGRESS\n",
      "-------------------------------------->\n",
      "user_personalization SolutionVersion: CREATE IN_PROGRESS\n",
      "Popularity SolutionVersion: CREATE IN_PROGRESS\n",
      "HRNN SolutionVersion: CREATE IN_PROGRESS\n",
      "HRNN Meta SolutionVersion: CREATE IN_PROGRESS\n",
      "HRNN ColdStart SolutionVersion: CREATE IN_PROGRESS\n",
      "Sims SolutionVersion: CREATE IN_PROGRESS\n",
      "Ranking SolutionVersion: CREATE IN_PROGRESS\n",
      "-------------------------------------->\n",
      "user_personalization SolutionVersion: CREATE IN_PROGRESS\n",
      "Popularity SolutionVersion: CREATE IN_PROGRESS\n",
      "HRNN SolutionVersion: CREATE IN_PROGRESS\n",
      "HRNN Meta SolutionVersion: CREATE IN_PROGRESS\n",
      "HRNN ColdStart SolutionVersion: CREATE IN_PROGRESS\n",
      "Sims SolutionVersion: CREATE IN_PROGRESS\n",
      "Ranking SolutionVersion: CREATE IN_PROGRESS\n",
      "-------------------------------------->\n",
      "user_personalization SolutionVersion: CREATE IN_PROGRESS\n",
      "Popularity SolutionVersion: CREATE IN_PROGRESS\n",
      "HRNN SolutionVersion: CREATE IN_PROGRESS\n",
      "HRNN Meta SolutionVersion: CREATE IN_PROGRESS\n",
      "HRNN ColdStart SolutionVersion: CREATE IN_PROGRESS\n",
      "Sims SolutionVersion: CREATE IN_PROGRESS\n",
      "Ranking SolutionVersion: CREATE IN_PROGRESS\n",
      "-------------------------------------->\n",
      "user_personalization SolutionVersion: CREATE IN_PROGRESS\n",
      "Popularity SolutionVersion: CREATE IN_PROGRESS\n",
      "HRNN SolutionVersion: CREATE IN_PROGRESS\n",
      "HRNN Meta SolutionVersion: CREATE IN_PROGRESS\n",
      "HRNN ColdStart SolutionVersion: CREATE IN_PROGRESS\n",
      "Sims SolutionVersion: CREATE IN_PROGRESS\n",
      "Ranking SolutionVersion: CREATE IN_PROGRESS\n",
      "-------------------------------------->\n",
      "user_personalization SolutionVersion: CREATE IN_PROGRESS\n",
      "Popularity SolutionVersion: CREATE IN_PROGRESS\n",
      "HRNN SolutionVersion: CREATE IN_PROGRESS\n",
      "HRNN Meta SolutionVersion: CREATE IN_PROGRESS\n",
      "HRNN ColdStart SolutionVersion: CREATE IN_PROGRESS\n",
      "Sims SolutionVersion: CREATE IN_PROGRESS\n",
      "Ranking SolutionVersion: CREATE IN_PROGRESS\n",
      "-------------------------------------->\n",
      "user_personalization SolutionVersion: CREATE IN_PROGRESS\n",
      "Popularity SolutionVersion: CREATE IN_PROGRESS\n",
      "HRNN SolutionVersion: CREATE IN_PROGRESS\n",
      "HRNN Meta SolutionVersion: CREATE IN_PROGRESS\n",
      "HRNN ColdStart SolutionVersion: CREATE IN_PROGRESS\n",
      "Sims SolutionVersion: CREATE IN_PROGRESS\n",
      "Ranking SolutionVersion: CREATE IN_PROGRESS\n",
      "-------------------------------------->\n",
      "user_personalization SolutionVersion: CREATE IN_PROGRESS\n",
      "Popularity SolutionVersion: CREATE IN_PROGRESS\n",
      "HRNN SolutionVersion: CREATE IN_PROGRESS\n",
      "HRNN Meta SolutionVersion: CREATE IN_PROGRESS\n",
      "HRNN ColdStart SolutionVersion: CREATE IN_PROGRESS\n",
      "Sims SolutionVersion: CREATE IN_PROGRESS\n",
      "Ranking SolutionVersion: CREATE IN_PROGRESS\n",
      "-------------------------------------->\n",
      "user_personalization SolutionVersion: CREATE IN_PROGRESS\n",
      "Popularity SolutionVersion: CREATE IN_PROGRESS\n",
      "HRNN SolutionVersion: CREATE IN_PROGRESS\n",
      "HRNN Meta SolutionVersion: CREATE IN_PROGRESS\n",
      "HRNN ColdStart SolutionVersion: CREATE IN_PROGRESS\n",
      "Sims SolutionVersion: CREATE IN_PROGRESS\n",
      "Ranking SolutionVersion: CREATE IN_PROGRESS\n",
      "-------------------------------------->\n",
      "user_personalization SolutionVersion: CREATE IN_PROGRESS\n",
      "Popularity SolutionVersion: CREATE IN_PROGRESS\n",
      "HRNN SolutionVersion: CREATE IN_PROGRESS\n",
      "HRNN Meta SolutionVersion: CREATE IN_PROGRESS\n",
      "HRNN ColdStart SolutionVersion: CREATE IN_PROGRESS\n",
      "Sims SolutionVersion: CREATE IN_PROGRESS\n",
      "Ranking SolutionVersion: CREATE IN_PROGRESS\n",
      "-------------------------------------->\n",
      "user_personalization SolutionVersion: CREATE IN_PROGRESS\n",
      "Popularity SolutionVersion: CREATE IN_PROGRESS\n",
      "HRNN SolutionVersion: CREATE IN_PROGRESS\n",
      "HRNN Meta SolutionVersion: CREATE IN_PROGRESS\n",
      "HRNN ColdStart SolutionVersion: CREATE IN_PROGRESS\n",
      "Sims SolutionVersion: CREATE IN_PROGRESS\n",
      "Ranking SolutionVersion: CREATE IN_PROGRESS\n",
      "-------------------------------------->\n",
      "user_personalization SolutionVersion: CREATE IN_PROGRESS\n",
      "Popularity SolutionVersion: CREATE IN_PROGRESS\n",
      "HRNN SolutionVersion: CREATE IN_PROGRESS\n",
      "HRNN Meta SolutionVersion: CREATE IN_PROGRESS\n",
      "HRNN ColdStart SolutionVersion: CREATE IN_PROGRESS\n",
      "Sims SolutionVersion: CREATE IN_PROGRESS\n",
      "Ranking SolutionVersion: CREATE IN_PROGRESS\n",
      "-------------------------------------->\n",
      "user_personalization SolutionVersion: CREATE IN_PROGRESS\n",
      "Popularity SolutionVersion: CREATE IN_PROGRESS\n",
      "HRNN SolutionVersion: CREATE IN_PROGRESS\n",
      "HRNN Meta SolutionVersion: CREATE IN_PROGRESS\n",
      "HRNN ColdStart SolutionVersion: CREATE IN_PROGRESS\n",
      "Sims SolutionVersion: CREATE IN_PROGRESS\n",
      "Ranking SolutionVersion: CREATE IN_PROGRESS\n",
      "-------------------------------------->\n",
      "user_personalization SolutionVersion: CREATE IN_PROGRESS\n",
      "Popularity SolutionVersion: CREATE IN_PROGRESS\n",
      "HRNN SolutionVersion: CREATE IN_PROGRESS\n",
      "HRNN Meta SolutionVersion: CREATE IN_PROGRESS\n",
      "HRNN ColdStart SolutionVersion: CREATE IN_PROGRESS\n",
      "Sims SolutionVersion: CREATE IN_PROGRESS\n",
      "Ranking SolutionVersion: CREATE IN_PROGRESS\n",
      "-------------------------------------->\n",
      "user_personalization SolutionVersion: CREATE IN_PROGRESS\n",
      "Popularity SolutionVersion: CREATE IN_PROGRESS\n",
      "HRNN SolutionVersion: CREATE IN_PROGRESS\n",
      "HRNN Meta SolutionVersion: CREATE IN_PROGRESS\n",
      "HRNN ColdStart SolutionVersion: CREATE IN_PROGRESS\n",
      "Sims SolutionVersion: CREATE IN_PROGRESS\n",
      "Ranking SolutionVersion: CREATE IN_PROGRESS\n",
      "-------------------------------------->\n",
      "user_personalization SolutionVersion: CREATE IN_PROGRESS\n",
      "Popularity SolutionVersion: CREATE IN_PROGRESS\n",
      "HRNN SolutionVersion: CREATE IN_PROGRESS\n",
      "HRNN Meta SolutionVersion: CREATE IN_PROGRESS\n",
      "HRNN ColdStart SolutionVersion: CREATE IN_PROGRESS\n",
      "Sims SolutionVersion: ACTIVE\n",
      "Ranking SolutionVersion: CREATE IN_PROGRESS\n",
      "-------------------------------------->\n"
     ]
    }
   ],
   "source": [
    "%%time\n",
    "\n",
    "\n",
    "max_time = time.time() + 3*60*60 # 3 hours\n",
    "while time.time() < max_time:\n",
    "    ##user_personalization Status\n",
    "    #hrnn status\n",
    "    describe_solution_version_response = personalize.describe_solution_version(\n",
    "        solutionVersionArn = user_personalization_solution_version_arn\n",
    "    )  \n",
    "    status_user_per = describe_solution_version_response[\"solutionVersion\"][\"status\"]\n",
    "    print(\"user_personalization SolutionVersion: {}\".format(status_user_per))\n",
    "    \n",
    "    ##Popularity Status\n",
    "    #hrnn status\n",
    "    describe_solution_version_response = personalize.describe_solution_version(\n",
    "        solutionVersionArn = popularity_solution_version_arn\n",
    "    )  \n",
    "    status_pop = describe_solution_version_response[\"solutionVersion\"][\"status\"]\n",
    "    print(\"Popularity SolutionVersion: {}\".format(status_pop))\n",
    "    \n",
    "    #hrnn status\n",
    "    describe_solution_version_response = personalize.describe_solution_version(\n",
    "        solutionVersionArn = hrnn_solution_version_arn\n",
    "    )  \n",
    "    status_hrnn = describe_solution_version_response[\"solutionVersion\"][\"status\"]\n",
    "    print(\"HRNN SolutionVersion: {}\".format(status_hrnn))\n",
    "\n",
    "    #hrnn_meta status\n",
    "    describe_solution_version_response = personalize.describe_solution_version(\n",
    "        solutionVersionArn = hrnn_meta_solution_version_arn\n",
    "    )\n",
    "    status_hrnn_meta = describe_solution_version_response[\"solutionVersion\"][\"status\"]    \n",
    "    print(\"HRNN Meta SolutionVersion: {}\".format(status_hrnn_meta))\n",
    "    \n",
    "    \n",
    "    #hrnn_coldstart status\n",
    "    describe_solution_version_response = personalize.describe_solution_version(\n",
    "        solutionVersionArn = hrnn_coldstart_solution_version_arn\n",
    "    )\n",
    "    status_hrnn_cs = describe_solution_version_response[\"solutionVersion\"][\"status\"]    \n",
    "    print(\"HRNN ColdStart SolutionVersion: {}\".format(status_hrnn_cs))\n",
    "    \n",
    "    #sims status\n",
    "    describe_solution_version_response = personalize.describe_solution_version(\n",
    "    solutionVersionArn = sims_solution_version_arn\n",
    "    )\n",
    "    status_sims = describe_solution_version_response[\"solutionVersion\"][\"status\"]\n",
    "    print(\"Sims SolutionVersion: {}\".format(status_sims))\n",
    "    \n",
    "    #ranking status\n",
    "    describe_solution_version_response = personalize.describe_solution_version(\n",
    "        solutionVersionArn = ranking_solution_version_arn\n",
    "    )\n",
    "    status_ranking= describe_solution_version_response[\"solutionVersion\"][\"status\"]    \n",
    "    print(\"Ranking SolutionVersion: {}\".format(status_ranking))    \n",
    "    \n",
    "    if (status_user_per == \"ACTIVE\" or status_user_per == \"CREATE FAILED\") &\\\n",
    "       (status_pop == \"ACTIVE\" or status_pop == \"CREATE FAILED\") &\\\n",
    "       (status_hrnn == \"ACTIVE\" or status_hrnn == \"CREATE FAILED\") &\\\n",
    "       (status_hrnn_meta == \"ACTIVE\" or status_hrnn_meta == \"CREATE FAILED\") &\\\n",
    "       (status_hrnn_cs == \"ACTIVE\" or status_hrnn_cs == \"CREATE FAILED\") &\\\n",
    "       (status_sims == \"ACTIVE\" or status_sims == \"CREATE FAILED\") &\\\n",
    "       (status_ranking == \"ACTIVE\" or status_ranking == \"CREATE FAILED\"):\n",
    "        break\n",
    "    print(\"-------------------------------------->\")\n",
    "    time.sleep(60)\n",
    "\n",
    "print(\"All solution creation completed\")"
   ]
  },
  {
   "cell_type": "markdown",
   "metadata": {},
   "source": [
    "### Store variables"
   ]
  },
  {
   "cell_type": "code",
   "execution_count": null,
   "metadata": {},
   "outputs": [],
   "source": [
    "\n",
    "%store user_personalization_solution_arn\n",
    "%store user_personalization_solution_version_arn\n",
    "\n",
    "%store popularity_solution_arn\n",
    "%store popularity_solution_version_arn\n",
    "\n",
    "%store hrnn_solution_version_arn\n",
    "%store hrnn_solution_arn\n",
    "\n",
    "%store hrnn_meta_solution_version_arn\n",
    "%store hrnn_meta_solution_arn\n",
    "\n",
    "\n",
    "%store hrnn_coldstart_solution_version_arn\n",
    "%store hrnn_coldstart_solution_arn\n",
    "\n",
    "%store sims_solution_version_arn\n",
    "%store sims_solution_arn\n",
    "\n",
    "%store ranking_solution_version_arn\n",
    "%store ranking_solution_arn\n"
   ]
  },
  {
   "cell_type": "code",
   "execution_count": null,
   "metadata": {},
   "outputs": [],
   "source": []
  }
 ],
 "metadata": {
  "kernelspec": {
   "display_name": "conda_python3",
   "language": "python",
   "name": "conda_python3"
  },
  "language_info": {
   "codemirror_mode": {
    "name": "ipython",
    "version": 3
   },
   "file_extension": ".py",
   "mimetype": "text/x-python",
   "name": "python",
   "nbconvert_exporter": "python",
   "pygments_lexer": "ipython3",
   "version": "3.6.10"
  }
 },
 "nbformat": 4,
 "nbformat_minor": 4
}

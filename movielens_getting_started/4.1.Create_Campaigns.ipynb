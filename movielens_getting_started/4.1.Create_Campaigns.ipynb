{
 "cells": [
  {
   "cell_type": "markdown",
   "metadata": {},
   "source": [
    "# [Module 4.1] Personalize 캠페인 생성 하기\n",
    "\n",
    "이 노트북은 이전 노트북에서 생성한 솔류션 버전을 바탕으로 아래와 같은 작업을 합니다.\n",
    "\n",
    "* 5가지 캠페인 생성\n",
    "    - user-personalization\n",
    "    - HRNN\n",
    "    - HRNN-Meta\n",
    "    - HRNN-Coldstart\n",
    "    - SIMS\n",
    "    \n",
    "--- \n",
    "이 노트북의 실행 시간은 약 50분 걸립니다."
   ]
  },
  {
   "cell_type": "code",
   "execution_count": 1,
   "metadata": {},
   "outputs": [],
   "source": [
    "# Imports\n",
    "import boto3\n",
    "import json\n",
    "import numpy as np\n",
    "import pandas as pd\n",
    "import time\n",
    "from datetime import datetime"
   ]
  },
  {
   "cell_type": "markdown",
   "metadata": {},
   "source": [
    "다음으로 여러분의 환경이 Amazon Personalize와 성공적으로 통신할 수 있는지 확인해야 합니다."
   ]
  },
  {
   "cell_type": "code",
   "execution_count": 2,
   "metadata": {},
   "outputs": [],
   "source": [
    "# Configure the SDK to Personalize:\n",
    "personalize = boto3.client('personalize')"
   ]
  },
  {
   "cell_type": "markdown",
   "metadata": {},
   "source": [
    "아래 코드 셀은 이전 notebook에서 저장했던 공유 변수들을 불러옵니다."
   ]
  },
  {
   "cell_type": "code",
   "execution_count": 10,
   "metadata": {},
   "outputs": [],
   "source": [
    "%store -r"
   ]
  },
  {
   "cell_type": "markdown",
   "metadata": {},
   "source": [
    "생성할 오브젝트의 끝에 임의의 숫자를 부여하기 위해 suffix 정의"
   ]
  },
  {
   "cell_type": "code",
   "execution_count": 4,
   "metadata": {},
   "outputs": [],
   "source": [
    "# suffix = str(np.random.uniform())[4:9]"
   ]
  },
  {
   "cell_type": "markdown",
   "metadata": {},
   "source": [
    "### Campaign: user-personalization "
   ]
  },
  {
   "cell_type": "code",
   "execution_count": 5,
   "metadata": {},
   "outputs": [
    {
     "name": "stdout",
     "output_type": "stream",
     "text": [
      "{\n",
      "  \"campaignArn\": \"arn:aws:personalize:ap-northeast-2:057716757052:campaign/Movielens-user-personalization-campaign-91891\",\n",
      "  \"ResponseMetadata\": {\n",
      "    \"RequestId\": \"18e19e08-e217-4ee0-a4d2-a89719a14241\",\n",
      "    \"HTTPStatusCode\": 200,\n",
      "    \"HTTPHeaders\": {\n",
      "      \"content-type\": \"application/x-amz-json-1.1\",\n",
      "      \"date\": \"Sun, 30 Aug 2020 10:25:59 GMT\",\n",
      "      \"x-amzn-requestid\": \"18e19e08-e217-4ee0-a4d2-a89719a14241\",\n",
      "      \"content-length\": \"120\",\n",
      "      \"connection\": \"keep-alive\"\n",
      "    },\n",
      "    \"RetryAttempts\": 0\n",
      "  }\n",
      "}\n"
     ]
    }
   ],
   "source": [
    "create_campaign_response = personalize.create_campaign(\n",
    "    name = \"Movielens-user-personalization-campaign-\" + suffix,\n",
    "    solutionVersionArn = user_personalization_solution_version_arn,\n",
    "    minProvisionedTPS = 1\n",
    ")\n",
    "\n",
    "user_personalization_campaign_arn = create_campaign_response['campaignArn']\n",
    "print(json.dumps(create_campaign_response, indent=2))"
   ]
  },
  {
   "cell_type": "markdown",
   "metadata": {},
   "source": [
    "### Campaign: HRNN"
   ]
  },
  {
   "cell_type": "code",
   "execution_count": 6,
   "metadata": {},
   "outputs": [
    {
     "name": "stdout",
     "output_type": "stream",
     "text": [
      "{\n",
      "  \"campaignArn\": \"arn:aws:personalize:ap-northeast-2:057716757052:campaign/Movielens-hrnn-campaign-91891\",\n",
      "  \"ResponseMetadata\": {\n",
      "    \"RequestId\": \"1e95bbad-7f7f-40fb-9474-b7ce744dd28e\",\n",
      "    \"HTTPStatusCode\": 200,\n",
      "    \"HTTPHeaders\": {\n",
      "      \"content-type\": \"application/x-amz-json-1.1\",\n",
      "      \"date\": \"Sun, 30 Aug 2020 10:26:01 GMT\",\n",
      "      \"x-amzn-requestid\": \"1e95bbad-7f7f-40fb-9474-b7ce744dd28e\",\n",
      "      \"content-length\": \"104\",\n",
      "      \"connection\": \"keep-alive\"\n",
      "    },\n",
      "    \"RetryAttempts\": 0\n",
      "  }\n",
      "}\n"
     ]
    }
   ],
   "source": [
    "create_campaign_response = personalize.create_campaign(\n",
    "    name = \"Movielens-hrnn-campaign-\" + suffix,\n",
    "    solutionVersionArn = hrnn_solution_version_arn,\n",
    "    minProvisionedTPS = 1\n",
    ")\n",
    "\n",
    "hrnn_campaign_arn = create_campaign_response['campaignArn']\n",
    "print(json.dumps(create_campaign_response, indent=2))"
   ]
  },
  {
   "cell_type": "markdown",
   "metadata": {},
   "source": [
    "### Campaign: HRNN-Meta"
   ]
  },
  {
   "cell_type": "code",
   "execution_count": 11,
   "metadata": {},
   "outputs": [
    {
     "name": "stdout",
     "output_type": "stream",
     "text": [
      "{\n",
      "  \"campaignArn\": \"arn:aws:personalize:ap-northeast-2:057716757052:campaign/Movielens-hrnn-meta-campaign-91891\",\n",
      "  \"ResponseMetadata\": {\n",
      "    \"RequestId\": \"95301b90-4de3-42a1-95f0-43e2db88a8cd\",\n",
      "    \"HTTPStatusCode\": 200,\n",
      "    \"HTTPHeaders\": {\n",
      "      \"content-type\": \"application/x-amz-json-1.1\",\n",
      "      \"date\": \"Sun, 30 Aug 2020 10:28:02 GMT\",\n",
      "      \"x-amzn-requestid\": \"95301b90-4de3-42a1-95f0-43e2db88a8cd\",\n",
      "      \"content-length\": \"109\",\n",
      "      \"connection\": \"keep-alive\"\n",
      "    },\n",
      "    \"RetryAttempts\": 0\n",
      "  }\n",
      "}\n"
     ]
    }
   ],
   "source": [
    "create_campaign_response = personalize.create_campaign(\n",
    "    name = \"Movielens-hrnn-meta-campaign-\" + suffix,\n",
    "    solutionVersionArn = hrnn_meta_solution_version_arn,\n",
    "    minProvisionedTPS = 1\n",
    ")\n",
    "\n",
    "hrnn_meta_campaign_arn = create_campaign_response['campaignArn']\n",
    "print(json.dumps(create_campaign_response, indent=2))"
   ]
  },
  {
   "cell_type": "markdown",
   "metadata": {},
   "source": [
    "### Campaign: HRNN-Coldstart"
   ]
  },
  {
   "cell_type": "code",
   "execution_count": 12,
   "metadata": {},
   "outputs": [
    {
     "name": "stdout",
     "output_type": "stream",
     "text": [
      "{\n",
      "  \"campaignArn\": \"arn:aws:personalize:ap-northeast-2:057716757052:campaign/Movielens-hrnn-coldstart-campaign-91891\",\n",
      "  \"ResponseMetadata\": {\n",
      "    \"RequestId\": \"22c7b27d-c3e5-4d24-950a-c2a40a633884\",\n",
      "    \"HTTPStatusCode\": 200,\n",
      "    \"HTTPHeaders\": {\n",
      "      \"content-type\": \"application/x-amz-json-1.1\",\n",
      "      \"date\": \"Sun, 30 Aug 2020 10:28:03 GMT\",\n",
      "      \"x-amzn-requestid\": \"22c7b27d-c3e5-4d24-950a-c2a40a633884\",\n",
      "      \"content-length\": \"114\",\n",
      "      \"connection\": \"keep-alive\"\n",
      "    },\n",
      "    \"RetryAttempts\": 0\n",
      "  }\n",
      "}\n"
     ]
    }
   ],
   "source": [
    "create_campaign_response = personalize.create_campaign(\n",
    "    name = \"Movielens-hrnn-coldstart-campaign-\" + suffix,\n",
    "    solutionVersionArn = hrnn_coldstart_solution_version_arn,\n",
    "    minProvisionedTPS = 1\n",
    ")\n",
    "\n",
    "hrnn_coldstart_campaign_arn = create_campaign_response['campaignArn']\n",
    "print(json.dumps(create_campaign_response, indent=2))"
   ]
  },
  {
   "cell_type": "markdown",
   "metadata": {},
   "source": [
    "### Campaign: SIMS"
   ]
  },
  {
   "cell_type": "code",
   "execution_count": 13,
   "metadata": {},
   "outputs": [
    {
     "name": "stdout",
     "output_type": "stream",
     "text": [
      "{\n",
      "  \"campaignArn\": \"arn:aws:personalize:ap-northeast-2:057716757052:campaign/Movielens-sims-campaign-91891\",\n",
      "  \"ResponseMetadata\": {\n",
      "    \"RequestId\": \"be2be095-b274-4f08-8a68-c2e25e5fba76\",\n",
      "    \"HTTPStatusCode\": 200,\n",
      "    \"HTTPHeaders\": {\n",
      "      \"content-type\": \"application/x-amz-json-1.1\",\n",
      "      \"date\": \"Sun, 30 Aug 2020 10:28:06 GMT\",\n",
      "      \"x-amzn-requestid\": \"be2be095-b274-4f08-8a68-c2e25e5fba76\",\n",
      "      \"content-length\": \"104\",\n",
      "      \"connection\": \"keep-alive\"\n",
      "    },\n",
      "    \"RetryAttempts\": 0\n",
      "  }\n",
      "}\n"
     ]
    }
   ],
   "source": [
    "create_campaign_response = personalize.create_campaign(\n",
    "    name = \"Movielens-sims-campaign-\" + suffix,\n",
    "    solutionVersionArn = sims_solution_version_arn,\n",
    "    minProvisionedTPS = 1\n",
    ")\n",
    "\n",
    "sims_campaign_arn = create_campaign_response['campaignArn']\n",
    "print(json.dumps(create_campaign_response, indent=2))"
   ]
  },
  {
   "cell_type": "markdown",
   "metadata": {},
   "source": [
    "### 캠페인 생성 및 대기\n",
    "\n",
    "작동하는 솔루션 버전을 보유하고 있으므로, 이제 애플리케이션과 함께 사용할 캠페인을 작성해야 합니다. 캠페인은 단순히 모델의 호스팅된 사본입니다. 물론 인프라가 프로비저닝되기까지의 시간이 소요됩니다."
   ]
  },
  {
   "cell_type": "code",
   "execution_count": 16,
   "metadata": {},
   "outputs": [
    {
     "name": "stdout",
     "output_type": "stream",
     "text": [
      "User_personalization_Campaign: CREATE IN_PROGRESS\n",
      "HRNN_Campaign: ACTIVE\n",
      "HRNN_Meta_Campaign: CREATE IN_PROGRESS\n",
      "HRNN_Coldstart_Campaign: CREATE IN_PROGRESS\n",
      "Sims_Campaign: CREATE IN_PROGRESS\n",
      "-------------------------------------->\n",
      "User_personalization_Campaign: CREATE IN_PROGRESS\n",
      "HRNN_Campaign: ACTIVE\n",
      "HRNN_Meta_Campaign: CREATE IN_PROGRESS\n",
      "HRNN_Coldstart_Campaign: CREATE IN_PROGRESS\n",
      "Sims_Campaign: CREATE IN_PROGRESS\n",
      "-------------------------------------->\n",
      "User_personalization_Campaign: CREATE IN_PROGRESS\n",
      "HRNN_Campaign: ACTIVE\n",
      "HRNN_Meta_Campaign: CREATE IN_PROGRESS\n",
      "HRNN_Coldstart_Campaign: CREATE IN_PROGRESS\n",
      "Sims_Campaign: CREATE IN_PROGRESS\n",
      "-------------------------------------->\n",
      "User_personalization_Campaign: CREATE IN_PROGRESS\n",
      "HRNN_Campaign: ACTIVE\n",
      "HRNN_Meta_Campaign: CREATE IN_PROGRESS\n",
      "HRNN_Coldstart_Campaign: CREATE IN_PROGRESS\n",
      "Sims_Campaign: CREATE IN_PROGRESS\n",
      "-------------------------------------->\n",
      "User_personalization_Campaign: ACTIVE\n",
      "HRNN_Campaign: ACTIVE\n",
      "HRNN_Meta_Campaign: CREATE IN_PROGRESS\n",
      "HRNN_Coldstart_Campaign: CREATE IN_PROGRESS\n",
      "Sims_Campaign: CREATE IN_PROGRESS\n",
      "-------------------------------------->\n",
      "User_personalization_Campaign: ACTIVE\n",
      "HRNN_Campaign: ACTIVE\n",
      "HRNN_Meta_Campaign: CREATE IN_PROGRESS\n",
      "HRNN_Coldstart_Campaign: CREATE IN_PROGRESS\n",
      "Sims_Campaign: CREATE IN_PROGRESS\n",
      "-------------------------------------->\n",
      "User_personalization_Campaign: ACTIVE\n",
      "HRNN_Campaign: ACTIVE\n",
      "HRNN_Meta_Campaign: CREATE IN_PROGRESS\n",
      "HRNN_Coldstart_Campaign: CREATE IN_PROGRESS\n",
      "Sims_Campaign: CREATE IN_PROGRESS\n",
      "-------------------------------------->\n",
      "User_personalization_Campaign: ACTIVE\n",
      "HRNN_Campaign: ACTIVE\n",
      "HRNN_Meta_Campaign: ACTIVE\n",
      "HRNN_Coldstart_Campaign: ACTIVE\n",
      "Sims_Campaign: ACTIVE\n",
      "All Campaign creation completed\n",
      "CPU times: user 105 ms, sys: 1.7 ms, total: 107 ms\n",
      "Wall time: 7min 1s\n"
     ]
    }
   ],
   "source": [
    "%%time\n",
    "\n",
    "max_time = time.time() + 3*60*60 # 3 hours\n",
    "while time.time() < max_time:\n",
    "    \n",
    "    \n",
    "    describe_campaign_response = personalize.describe_campaign(\n",
    "        campaignArn = user_personalization_campaign_arn\n",
    "    )\n",
    "    status_user_per = describe_campaign_response[\"campaign\"][\"status\"]\n",
    "    print(\"User_personalization_Campaign: {}\".format(status_user_per))\n",
    "\n",
    "    \n",
    "    describe_campaign_response = personalize.describe_campaign(\n",
    "        campaignArn = hrnn_campaign_arn\n",
    "    )\n",
    "    status_hrnn = describe_campaign_response[\"campaign\"][\"status\"]\n",
    "    print(\"HRNN_Campaign: {}\".format(status_hrnn))\n",
    "    \n",
    "    describe_campaign_response = personalize.describe_campaign(\n",
    "        campaignArn = hrnn_meta_campaign_arn\n",
    "    )\n",
    "    status_hrnn_meta = describe_campaign_response[\"campaign\"][\"status\"]\n",
    "    print(\"HRNN_Meta_Campaign: {}\".format(status_hrnn_meta))\n",
    "\n",
    "    \n",
    "    describe_campaign_response = personalize.describe_campaign(\n",
    "        campaignArn = hrnn_coldstart_campaign_arn\n",
    "    )\n",
    "    status_hrnn_cs = describe_campaign_response[\"campaign\"][\"status\"]\n",
    "    print(\"HRNN_Coldstart_Campaign: {}\".format(status_hrnn_cs))\n",
    "    \n",
    "    describe_campaign_response = personalize.describe_campaign(\n",
    "    campaignArn = sims_campaign_arn\n",
    "    )\n",
    "    status_sims = describe_campaign_response[\"campaign\"][\"status\"]\n",
    "    print(\"Sims_Campaign: {}\".format(status_sims))\n",
    "     \n",
    "    if (status_user_per == \"ACTIVE\" or status_user_per == \"CREATE FAILED\")&\\\n",
    "       (status_hrnn == \"ACTIVE\" or status_hrnn == \"CREATE FAILED\")&\\\n",
    "       (status_hrnn_meta == \"ACTIVE\" or status_hrnn_meta == \"CREATE FAILED\")&\\\n",
    "       (status_hrnn_cs == \"ACTIVE\" or status_hrnn_cs == \"CREATE FAILED\")&\\\n",
    "       (status_sims == \"ACTIVE\" or status_sims == \"CREATE FAILED\"):\\\n",
    "        break\n",
    "    print(\"-------------------------------------->\")\n",
    "    time.sleep(60)\n",
    "\n",
    "print(\"All Campaign creation completed\")   "
   ]
  },
  {
   "cell_type": "markdown",
   "metadata": {},
   "source": [
    "\n",
    "## 다음 노트북에 대한 참고 사항\n",
    "\n",
    "다음 실습에 필요한 몇 가지 값들이 있습니다. 아래 셀을 실행하여 저장한 후, 다음 주피터 노트북에서 그대로 사용할 수 있습니다."
   ]
  },
  {
   "cell_type": "code",
   "execution_count": 17,
   "metadata": {},
   "outputs": [
    {
     "name": "stdout",
     "output_type": "stream",
     "text": [
      "Stored 'user_personalization_campaign_arn' (str)\n",
      "Stored 'hrnn_campaign_arn' (str)\n",
      "Stored 'hrnn_meta_campaign_arn' (str)\n",
      "Stored 'hrnn_coldstart_campaign_arn' (str)\n",
      "Stored 'sims_campaign_arn' (str)\n",
      "Stored 'ranking_campaign_arn' (str)\n",
      "Stored 'recommendations_df' (DataFrame)\n",
      "Stored 'user_id' (int)\n"
     ]
    }
   ],
   "source": [
    "%store user_personalization_campaign_arn\n",
    "%store hrnn_campaign_arn\n",
    "%store hrnn_meta_campaign_arn\n",
    "%store hrnn_coldstart_campaign_arn\n",
    "%store sims_campaign_arn"
   ]
  },
  {
   "cell_type": "code",
   "execution_count": null,
   "metadata": {},
   "outputs": [],
   "source": []
  }
 ],
 "metadata": {
  "kernelspec": {
   "display_name": "conda_python3",
   "language": "python",
   "name": "conda_python3"
  },
  "language_info": {
   "codemirror_mode": {
    "name": "ipython",
    "version": 3
   },
   "file_extension": ".py",
   "mimetype": "text/x-python",
   "name": "python",
   "nbconvert_exporter": "python",
   "pygments_lexer": "ipython3",
   "version": "3.6.10"
  }
 },
 "nbformat": 4,
 "nbformat_minor": 4
}
